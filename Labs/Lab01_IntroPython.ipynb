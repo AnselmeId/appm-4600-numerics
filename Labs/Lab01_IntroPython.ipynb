{
  "nbformat": 4,
  "nbformat_minor": 0,
  "metadata": {
    "colab": {
      "provenance": [],
      "include_colab_link": true
    },
    "kernelspec": {
      "name": "python3",
      "display_name": "Python 3"
    },
    "language_info": {
      "name": "python"
    }
  },
  "cells": [
    {
      "cell_type": "markdown",
      "metadata": {
        "id": "view-in-github",
        "colab_type": "text"
      },
      "source": [
        "<a href=\"https://colab.research.google.com/github/cu-applied-math/appm-4600-numerics/blob/main/Labs/Lab01_IntroPython.ipynb\" target=\"_parent\"><img src=\"https://colab.research.google.com/assets/colab-badge.svg\" alt=\"Open In Colab\"/></a>"
      ]
    },
    {
      "cell_type": "markdown",
      "source": [],
      "metadata": {
        "id": "uOnRTs2ANCle"
      }
    },
    {
      "cell_type": "markdown",
      "source": [
        "# Lab 1: intro to Python\n",
        "\n",
        "Note: this lab is a bit awkward because it meets before we've had our first lecture!\n",
        "\n",
        "There are three parts to this:\n",
        "1. Python installations\n",
        "  - you may wish to do some of this in advance\n",
        "2. Some basic coding\n",
        "3. Deliverables: combining parts 1 and 2\n",
        "  - Upload this to Canvas\n",
        "\n",
        "Read about the [lab grading system](https://github.com/cu-applied-math/appm-4600-numerics/tree/main/Labs)\n",
        "\n",
        "Please skim all instructions first before starting to work\n"
      ],
      "metadata": {
        "id": "v1Dz90BHMGb-"
      }
    },
    {
      "cell_type": "markdown",
      "source": [
        "## Part 1: Python installations\n",
        "\n",
        "**Short-version**: get at least 2 different \"types\" of Python working, 1 local to your computer and 1 cloud-based\n",
        "\n",
        "**Details**\n",
        "\n",
        "There are many ways to use Python, and it can be used on your own computer or on a cloud server. The goal of this part of the lab is to set you up for future computing in the class.\n",
        "\n",
        "### Get Python to run **locally** on your computer\n",
        "- You may need to install Python first; there are many ways you can do this, but a popular and suggested method is via the [Anaconda](https://www.anaconda.com/download) distribution\n",
        "- To run Python locally, do one of the following methods (do at least one, but we suggest trying several):\n",
        "  - From the command line or powershell, run a Python script, like `python myscript.py`\n",
        "  - Run [IPython](https://ipython.org/) from the command line\n",
        "    - This opens up a [REPL environment](https://en.wikipedia.org/wiki/Read%E2%80%93eval%E2%80%93print_loop) much like Matlab, and lets you interactively code. This is nice for plots\n",
        "    - Fun fact: this was developed by [Fernando Pérez](https://en.wikipedia.org/wiki/Fernando_P%C3%A9rez_(software_developer)) when he was a grad student at CU Boulder in the early 2000s\n",
        "  - Run a [Jupyter notebook](https://jupyter.org/), which lets you run `.ipynb` files. This is the modern extension of iPython\n",
        "  - Run a [JupyterLab](https://jupyter.org/) session. This is an extension of Jupyter notebook that gives the features of an [IDE](https://en.wikipedia.org/wiki/Integrated_development_environment).  **recommended**\n",
        "  - Use an [IDE](https://en.wikipedia.org/wiki/Integrated_development_environment) like VSCode, PyCharm, Spyder\n",
        "    - As of 2025, [VSCode](https://code.visualstudio.com/) dominates the market, and using VSCode efficiently is a skill employers value, so we highly **recommend** it.  It can edit pure Python file (`.py`) as well as jupyter notebooks (`.ipynb`)\n",
        "\n",
        "### Get Python to run on a **cloud** server\n",
        "- Computer Science majors have access to the CS cloud servers\n",
        "- Use [Google's colab service](https://colab.research.google.com/) which is a variant of jupyterlab.  **recommended** due to simplicity\n",
        "  - There are instructions on the web about how to link this to a google drive account\n",
        "- Use [CU's research computing (CURC)](https://www.colorado.edu/rc/)\n",
        "  - You may need to make an account; this will be linked to your usual CU identikey. It requires 2FA\n",
        "  - You can either run code remotely via the command line, or...\n",
        "  - login to [ondemand.rc.colorado.edu.](https://ondemand.rc.colorado.edu), go into \"Interactive Apps\", and choose either \"Jupyter session\" or \"VS Code-server\"\n",
        "\n",
        "Also, please read our classes [AI Policy](https://github.com/cu-applied-math/appm-4600-numerics/blob/main/policies.md#ai-policy)\n"
      ],
      "metadata": {
        "id": "Yif4s-RPM0st"
      }
    },
    {
      "cell_type": "markdown",
      "source": [
        "## Part 2: basic coding\n",
        "\n",
        "**Short-version:** write your own code to multiply matrices and compare it to Numpy code\n",
        "\n",
        "**Details**\n",
        "\n",
        "- NumPy is the base scientific computation package for Python and we will use it extensively. It is the building block for other packages like SciPy (Scientific Python)\n",
        "- So make sure it is installed on your system!\n",
        "  - Pro tip #1: if you want max performance, select a good [BLAS](https://en.wikipedia.org/wiki/Basic_Linear_Algebra_Subprograms) when you install it, e.g., MKL if possible.  *Not too important for us, only for nerds who want the very best performance*\n",
        "  - Pro tip #2: in Python, when installing packages, do it with virtual environent, either with the package manager `conda` (which comes with Anaconda), or with `pip` and `venv`.  This way, if you have some packages that conflict or get into isues with dependencies, it only affects your current \"environment\", so it won't mess up your operating system and it won't affect other projects (say, for a different class or different assignment)\n",
        "  - (Optional) We will be using other packages besides NumPy this semester. Some other recommended packages to install are\n",
        "    - Matplotlib\n",
        "    - SciPy\n",
        "    - Jupyter\n",
        "- They have great documentation, e.g., [NumPy: the absolute basics for beginners](https://numpy.org/doc/stable/user/absolute_beginners.html)\n",
        "  - See [NumPy for MATLAB users](https://numpy.org/doc/stable/user/numpy-for-matlab-users.html) if you know Matlab well\n",
        "- Confusing, NumPy has objects called \"matrices\" which you should **not** use. Use their \"arrays\" instead; see [\"‘array’ or ‘matrix’? Which should I use?\"](https://numpy.org/doc/stable/user/numpy-for-matlab-users.html#array-or-matrix-which-should-i-use)\n",
        "\n",
        "- Write a function that takes as input two matrices and then multiplies them together\n",
        "- Create two small matrices, $A$ and $B$, and compare the output of your code to the output of Numpy's code (in Numpy, you can multiply arrays by just using the @ symbol, like `C = A @ B`). Make sure your code is correct\n",
        "  - Pro tip: pass in rectangular matrices (but make sure the inner dimensions match) in order to find bugs\n",
        "- Bonus: compare the speed of your code to Numpys\n",
        "  "
      ],
      "metadata": {
        "id": "_2zcWCfARadR"
      }
    },
    {
      "cell_type": "code",
      "source": [
        "import numpy as np\n",
        "m = 4\n",
        "n = 3\n",
        "k = 5\n",
        "rng = np.random.default_rng(123456)\n",
        "A = rng.integers(10, size=(??, ??))\n",
        "B = rng.integers(10, size=(??, ??))\n",
        "C = A @ B\n",
        "print(C)\n",
        "\n",
        "def my_matmul(A, B):\n",
        "  m, n = A.shape\n",
        "  n2,k = B.shape\n",
        "  C = np.zeros((??,??))\n",
        "  for ...\n",
        "    raise NotImplementedError\n",
        "  return C\n",
        "\n",
        "# and now check your output vs numpy's output"
      ],
      "metadata": {
        "id": "msAtae63RZIZ"
      },
      "execution_count": null,
      "outputs": []
    },
    {
      "cell_type": "markdown",
      "source": [
        "#### Optional\n",
        "Compare the speed of your code to Numpy"
      ],
      "metadata": {
        "id": "ZACdXFEqI5NU"
      }
    },
    {
      "cell_type": "markdown",
      "source": [
        "## Part 3: deliverables\n",
        "\n",
        "In Python, write code that:\n",
        "1. prints the version of Python (e.g., Python 3.5)\n",
        "2. prints the version of Numpy\n",
        "3. prints the output of your matrix multiply code form part 2, using any two small matrices as input\n",
        "\n",
        "Export the output to a PDF and upload that to Canvas (*not* Gradescope):\n",
        "- no screenshots!\n",
        "- please follow our [HW/lab submission guidelines](https://github.com/cu-applied-math/appm-4600-numerics/blob/main/Homework/submission_guidelines.md)"
      ],
      "metadata": {
        "id": "bE-fCYSJRkGz"
      }
    },
    {
      "cell_type": "code",
      "source": [],
      "metadata": {
        "id": "4VecG7LaRV6Q"
      },
      "execution_count": null,
      "outputs": []
    }
  ]
}