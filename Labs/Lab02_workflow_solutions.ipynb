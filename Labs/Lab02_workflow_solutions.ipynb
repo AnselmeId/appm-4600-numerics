{
  "nbformat": 4,
  "nbformat_minor": 0,
  "metadata": {
    "colab": {
      "provenance": [],
      "include_colab_link": true
    },
    "kernelspec": {
      "name": "python3",
      "display_name": "Python 3"
    },
    "language_info": {
      "name": "python"
    }
  },
  "cells": [
    {
      "cell_type": "markdown",
      "metadata": {
        "id": "view-in-github",
        "colab_type": "text"
      },
      "source": [
        "<a href=\"https://colab.research.google.com/github/cu-applied-math/appm-4600-numerics/blob/lab_solutions/Labs/Lab02_workflow_solutions.ipynb\" target=\"_parent\"><img src=\"https://colab.research.google.com/assets/colab-badge.svg\" alt=\"Open In Colab\"/></a>"
      ]
    },
    {
      "cell_type": "markdown",
      "source": [
        "# Lab 2: Scientific Programming Workflow. APPM 4600\n",
        "\n",
        "Components:\n",
        "- TA demonstration\n",
        "  - The TA will show his/her IDE (e.g., VSCode) and git setups\n",
        "\n",
        "1. Organizing files and experiments\n",
        "    - Main algorithms go in \"modules\" (`.py` files)\n",
        "    - Demonstrate things using \"driver\" files, often in Jupyter notebooks (`.ipynb` files)\n",
        "    - If you update your modules, you need to make sure changes are propaged\n",
        "    - We discuss iPython [line and cell \"magics\"](https://ipython.readthedocs.io/en/stable/interactive/magics.html)\n",
        "    - Using your IDE (or even colab), learn shortcut keys!\n",
        "        - evaluating a cell\n",
        "        - toggle block comments\n",
        "        - end of line, beginning of line\n",
        "2. Using \"git\"\n",
        "    - Benefits\n",
        "    - Integration with github\n",
        "    - Make \"[pull request](https://docs.github.com/en/pull-requests/collaborating-with-pull-requests/proposing-changes-to-your-work-with-pull-requests/about-pull-requests)\" for the class website\n",
        "3. Looking at the accuracy of two algorithms\n",
        "    - How to evaluate $$f(x) = (x-3)^2 = x^2 - 6x + 9$$ carefully when $x \\approx 3$\n",
        "    - Which formula is better?\n",
        "\n",
        "Please skim all instructions first before starting to work\n",
        "\n",
        "Note: if you are a complete beginniner to Python, we suggest you spend some time the first few weeks of class learning the basics. There are plenty of good online tutorials, and many of them are interactive and give feedback.\n",
        "\n",
        "Copyright 2025, Department of Applied Mathematics, University of Colorado Boulder. Released under the BSD 3-Clause License\n",
        "\n",
        "Learning objectives\n",
        "- When to use `.py` files and when to use `.ipynb` files\n",
        "- Become more familiar with an [IDE](https://en.wikipedia.org/wiki/Integrated_development_environment) of your choice, including learning keyboard shortcuts\n",
        "- Understand what \"git\" is and differences with \"github\", and when to use them and what purpose they serve\n",
        "- Observe that two equivalent mathematical formula are not numerically equivalent"
      ],
      "metadata": {
        "id": "D9lyJSKKk_6q"
      }
    },
    {
      "cell_type": "markdown",
      "source": [
        "## 1. Organizing files in Python\n",
        "\n",
        "A standard `.py` file, aka a module file, is the workhorse file type for Python. For a professional software project they can be fancy, but they can also be bare-bones for quick-and-dirty work. Just put in your function definitions!\n",
        "\n",
        "The one thing worth mentioning is that it's import to document your code. There are two main ways to do this:\n",
        "- doc strings, which are the official documentation strings that go right below the function definition. This is public-facing and should be useful for the average user\n",
        "- comments in the code. This will not be seen by the average user, but will be useful for anyone who wants to understand your code (e.g., your teacher!).  It's also very useful for yourself... so that when you revisit your code in 6 months, you can remember what it was you were doing\n",
        "\n",
        "\n",
        "The other kind of file we often see in this class is a jupyer notebook `.ipynb` file (that's what this colab file is). These have both *code* and *text* cells.  These are great ways to do homeworks (or labs) since you can interleave text and code. They are also **interactive** so great for plotting."
      ],
      "metadata": {
        "id": "ULyHowT1pSys"
      }
    },
    {
      "cell_type": "markdown",
      "source": [
        "**Task**\n",
        "\n",
        "Run the following set of cells and follow along with the comments.\n",
        "\n",
        "This demo works best if you do it in VSCode or another fully featured IDE, like \"Jupyter Lab\" or Spyder or PyCharm.\n",
        "\n",
        "We can do it in Colab but it's a bit hacky.   Run the following cell (but if you're in VSCode, you can just create a new file called `myalgorithms.py` and copy-and-paste the code block in `str` into `myalgorithms.py`):"
      ],
      "metadata": {
        "id": "iAxKop7QVESR"
      }
    },
    {
      "cell_type": "code",
      "source": [
        "import numpy as np\n",
        "# We make some function, such as calculating pi\n",
        "# using the https://en.wikipedia.org/wiki/Basel_problem result\n",
        "str = '''import numpy as np\n",
        "def calculate_pi(n_terms):\n",
        "  s = 0.\n",
        "  for k in range(1,n_terms):\n",
        "    s += 1/(k**2)\n",
        "  return 6*s'''\n",
        "\n",
        "file_path = 'myalgorithms.py'\n",
        "with open(file_path, \"w\") as file:\n",
        "    file.write(str)"
      ],
      "metadata": {
        "id": "-bG5K3HgnBw-"
      },
      "execution_count": null,
      "outputs": []
    },
    {
      "cell_type": "markdown",
      "source": [
        "This is just a silly function to calculate a few digits of pi using the Basel problem result, which says that\n",
        "$$\\frac{\\pi^2}{6} = \\sum_{k=1}^\\infty \\frac{1}{k^2}$$\n",
        "\n",
        "Double-check that we correct wrote to the file by asking the operating system to display the contents of the file:\n",
        "\n",
        "(Note: the \"!\" is a special command that jupyter/colab recognizes, and it means that the following line of code is *not* Python but rather a shell command that interacts directly with the operator system)"
      ],
      "metadata": {
        "id": "f-CstlZbrC7B"
      }
    },
    {
      "cell_type": "code",
      "source": [
        "! cat myalgorithms.py"
      ],
      "metadata": {
        "colab": {
          "base_uri": "https://localhost:8080/"
        },
        "id": "vutUkiNeqEgE",
        "outputId": "3bdc8acd-50ef-45e1-8daa-8ba02e1134e5"
      },
      "execution_count": null,
      "outputs": [
        {
          "output_type": "stream",
          "name": "stdout",
          "text": [
            "import numpy as np\n",
            "def calculate_pi(n_terms):\n",
            "  s = 0.\n",
            "  for k in range(1,n_terms):\n",
            "    s += 1/(k**2)\n",
            "  return 6*s"
          ]
        }
      ]
    },
    {
      "cell_type": "code",
      "source": [
        "# Let's use it\n",
        "import myalgorithms\n",
        "pi = myalgorithms.calculate_pi(1000)\n",
        "print(f'my estimate of pi is {pi:.100f}')"
      ],
      "metadata": {
        "colab": {
          "base_uri": "https://localhost:8080/"
        },
        "id": "Jw1xPECXqt2t",
        "outputId": "b9f15449-4e8d-4611-f3ba-74e5af685abf"
      },
      "execution_count": null,
      "outputs": [
        {
          "output_type": "stream",
          "name": "stdout",
          "text": [
            "my estimate of pi is 9.8636014000893688091764488490298390388488769531250000000000000000000000000000000000000000000000000000\n"
          ]
        }
      ]
    },
    {
      "cell_type": "markdown",
      "source": [
        "Oops! We forgot to take the square root. Let's update the code"
      ],
      "metadata": {
        "id": "B6sAcjDTU-bA"
      }
    },
    {
      "cell_type": "code",
      "source": [
        "str = '''import numpy as np\n",
        "def calculate_pi(n_terms):\n",
        "  s = 0.\n",
        "  for k in range(1,n_terms):\n",
        "    s += 1/(k**2)\n",
        "  return np.sqrt(6*s)  # don't forget the square root!'''\n",
        "\n",
        "file_path = 'myalgorithms.py'\n",
        "with open(file_path, \"w\") as file:\n",
        "    file.write(str)\n",
        "\n",
        "# and verify that the file is changed:\n",
        "! cat myalgorithms.py"
      ],
      "metadata": {
        "colab": {
          "base_uri": "https://localhost:8080/"
        },
        "id": "pGvdH5ATVrDI",
        "outputId": "57bff7b1-62b6-4252-cfac-ba7733d29456"
      },
      "execution_count": null,
      "outputs": [
        {
          "output_type": "stream",
          "name": "stdout",
          "text": [
            "import numpy as np\n",
            "def calculate_pi(n_terms):\n",
            "  s = 0.\n",
            "  for k in range(1,n_terms):\n",
            "    s += 1/(k**2)\n",
            "  return np.sqrt(6*s)  # don't forget the square root!"
          ]
        }
      ]
    },
    {
      "cell_type": "code",
      "source": [
        "# Now let's try it again:\n",
        "import myalgorithms\n",
        "pi = myalgorithms.calculate_pi(1000)\n",
        "print(f'my estimate of pi is {pi:.100f}')"
      ],
      "metadata": {
        "colab": {
          "base_uri": "https://localhost:8080/"
        },
        "id": "FNevvJ99VzVB",
        "outputId": "3c046956-e0d3-4ab4-84ae-c6465052cdaf"
      },
      "execution_count": null,
      "outputs": [
        {
          "output_type": "stream",
          "name": "stdout",
          "text": [
            "my estimate of pi is 9.8636014000893688091764488490298390388488769531250000000000000000000000000000000000000000000000000000\n"
          ]
        }
      ]
    },
    {
      "cell_type": "markdown",
      "source": [
        "What happened!?  Our changes didn't take effect.\n",
        "\n",
        "We need to tell jupyter (aka iPython) to reload things appropriately.  You can do this with the [importlib](https://www.geeksforgeeks.org/python/importlib-package-in-python/) package, but there's a much easier option.  Following these [instructions](https://ipython.org/ipython-doc/3/config/extensions/autoreload.html), we're going to use some iPython \"magic\" commands:\n",
        "\n",
        "```python\n",
        "%load_ext autoreload\n",
        "%autoreload 2\n",
        "# Note: make sure you don't put anything, even a comment, on the rest of the lines above\n",
        "\n",
        "# Note: this quick hack only works if you have Python version less than 3.12\n",
        "# (or Python 3.12 but an updated iPython; you can run !pip install Ipython --upgrade  )\n",
        "```\n",
        "If we just put the above commands in a code cell in a jupyter notebook and run the cell, the changes still won't be reflected. The gist is that `autoreload ` is looking for changes in files, and once it detects a change, the file is reloaded. But in this case we started `autoreload` *after* we changed `myalgorithms.py`, so it will not reload `myalgorithms.py` . To fix this, make a change in `myalgorithms.py`and save the file. Then undo that change and save the file. To not encounter this issue in practice, make the `autoreload` commands the first thing you run in your jupyter notebook.\n",
        "\n",
        "\n",
        "However, this doesn't work in colab due to the versions of python/ipython, so we'll do it using `importlib`:"
      ],
      "metadata": {
        "id": "AJcxmuxGV2bg"
      }
    },
    {
      "cell_type": "code",
      "source": [
        "from importlib import reload\n",
        "\n",
        "reload(myalgorithms)"
      ],
      "metadata": {
        "id": "I9eHxf76WZO3",
        "colab": {
          "base_uri": "https://localhost:8080/"
        },
        "outputId": "24784663-079b-459e-98dd-58b4f2bc02f9"
      },
      "execution_count": null,
      "outputs": [
        {
          "output_type": "execute_result",
          "data": {
            "text/plain": [
              "<module 'myalgorithms' from '/content/myalgorithms.py'>"
            ]
          },
          "metadata": {},
          "execution_count": 33
        }
      ]
    },
    {
      "cell_type": "code",
      "source": [
        "pi = myalgorithms.calculate_pi(1000)\n",
        "print(f'my estimate of pi is {pi:.100f}')"
      ],
      "metadata": {
        "colab": {
          "base_uri": "https://localhost:8080/"
        },
        "id": "nfVyy9PWZT6M",
        "outputId": "c7acd8d5-2572-4d15-a432-9fc52b754a1b"
      },
      "execution_count": null,
      "outputs": [
        {
          "output_type": "stream",
          "name": "stdout",
          "text": [
            "my estimate of pi is 3.1406371009859399556773951189825311303138732910156250000000000000000000000000000000000000000000000000\n"
          ]
        }
      ]
    },
    {
      "cell_type": "markdown",
      "source": [
        "Now that we have a good module, with the main algorithm, we can demonstrate the usefulness of the \"driver\" code, which works great in a (jupyter/colab) notebook. Think of the \"driver\" code as the actual experiment.  Below is an example:"
      ],
      "metadata": {
        "id": "7AO0RMmUZe6W"
      }
    },
    {
      "cell_type": "code",
      "source": [
        "from matplotlib import pyplot as plt\n",
        "error = []\n",
        "for n in range(100):\n",
        "    error.append( abs(np.pi-myalgorithms.calculate_pi(n)) )\n",
        "plt.semilogy(error)\n",
        "plt.xlabel('Number of terms in the series')\n",
        "plt.ylabel('Absolute error in estimating $\\\\pi$')\n",
        "plt.show()"
      ],
      "metadata": {
        "colab": {
          "base_uri": "https://localhost:8080/",
          "height": 449
        },
        "id": "c4Zu3P76ZulC",
        "outputId": "e3b539d3-6a56-4b92-9242-ffff084d39bd"
      },
      "execution_count": null,
      "outputs": [
        {
          "output_type": "display_data",
          "data": {
            "text/plain": [
              "<Figure size 640x480 with 1 Axes>"
            ],
            "image/png": "[encoded data removed]"
          },
          "metadata": {}
        }
      ]
    },
    {
      "cell_type": "markdown",
      "source": [
        "**Deliverables**\n",
        "\n",
        "Since this part of the lab is about programming practices, for the deliverable, I want you to tell me what are the keyboard shortcuts (for whichever IDE you used) for the following commants:\n",
        "- toggle commenting a line of code\n",
        "- executing a cell\n",
        "- moving the cursor to the beginning of a line of code\n",
        "- moving the cursor to the end of a line of code"
      ],
      "metadata": {
        "id": "-aRxLVGqeEtZ"
      }
    },
    {
      "cell_type": "markdown",
      "source": [
        "## 2. git\n",
        "\n",
        "[git](https://en.wikipedia.org/wiki/Git) is a distributed version control system.  You can use it locally on your own computer without any internet connection, and it provides a nice way to track changes to a file. The idea is that you \"commit\" the state of a file every so often, but then you can later revisit the code at a previous stage in case you want to revert changes.\n",
        "\n",
        "But it's even more than that: it allows different people to work on code, and update different parts of it.  If two people edit the same part of code and both want to commit, it will detect a \"conflict\" and assist you in resolving it.\n",
        "\n",
        "Each \"project\" is called a \"repository\" or \"repo\" for short.\n",
        "\n",
        "To make it very useful, it's great to use it with the internet, and have it hosted. One of the most popular hosting sites is [github](https://github.com/). Here you can create your own or join someone elses \"repo\".  A repo can be either public or private.  For a public repo, anyone can see it, but not just anyone can make changes.  If you're on an approved list of editors, then you can make changes. If you're not pre-approved, you cannot directly make changes to a repo on github, but you can request a change. This is called a \"pull reqeust\".\n",
        "\n",
        "There are many ways to use git:\n",
        "- command line, aka CLI (for Command Line Interface)\n",
        "- dedicated software, like [github desktop](https://desktop.github.com/download/) that you install. Other examples include Sourcetree, GitKraken, Fork, Sublime Merge, SmartGit, and TortoiseGit.\n",
        "- it is integrated into a lot of software, like Matlab's IDE, VS Code, etc.\n",
        "- via web interfaces, such as via the github website. Click the little \"pencil\" icon to make changes!\n",
        "\n",
        "There's no single best way. You might make most of your git changes via command line since it's very quick, but then if you detect a complicated conflict, use a dedicated software like \"github desktop\" to resolve the conflict.\n",
        "\n",
        "**Task**\n",
        "\n",
        "Your task is to:\n",
        "- Make a github account\n",
        "- Signed into your account, make a \"pull request\" that changes our [syllabus](https://github.com/cu-applied-math/appm-4600-numerics/blob/main/policies.md). For example, you could change the statement \"You are allowed to drop 1 homework\" to become \"You are allowed to drop 10 homeworks\".  (Don't worry, we will reject most of these pull requests... unless we like your suggested change!)\n",
        "\n",
        "**Deliverable**\n",
        "\n",
        "In the PDF or html file that you upload to Canvas, write down your github username, so that we can see that you have indeed made a pull request.\n"
      ],
      "metadata": {
        "id": "EBRWMXVJaFl3"
      }
    },
    {
      "cell_type": "markdown",
      "source": [
        "# 3. Testing out two formulas\n",
        "Let's evaluate $f(x) = (x-3)^2 = x^2 - 6x + 9$ via two different methods, i.e., using the two different equivalent formulas.\n",
        "\n",
        "If we evaluate at a point like $x=5$ or $x=-19$, it doesn't really matter which formula we use. The accuracy is fine either way.\n",
        "\n",
        "If we evaluate at a point $x=3+\\epsilon$ for a small $\\epsilon$, now things start to matter.\n",
        "\n",
        "**Task**\n",
        "\n",
        "Determine which method is better, i.e., which one is more **stable** when $x\\approx 3$.\n",
        "\n",
        "**Deliverable**\n",
        "\n",
        "Write a few sentences about why you think one implementation is better than the other.  Use data to support your answer.  Check for numbers like $x=3+10^{-5}$\n",
        "\n",
        "(Don't stress about this, since the lab is pass/fail. Any reasonable attempt will be a \"pass\")\n",
        "\n",
        "**Q: How do we know what the true answer is?**\n",
        "\n",
        "- create a special function fp3 (similar to `numpy.expm1` or `numpy.logp1` which are functions that given an input $\\epsilon$, they calculate the function in question, either $e^x$ or $\\log(x)$, for $\\epsilon-1$ (the m1 is for minus 1) or $\\epsilon+1$ (the p1 is for plus 1))\n",
        "  - so in this case, create the function fp3 such that $\\text{fp3}(\\epsilon) = f(\\epsilon+3)$\n",
        "- use extended precision: see our [How to check your answer using extended precision](https://github.com/cu-applied-math/appm-4600-numerics/blob/main/Demos/HowToCheckYourAnswerUsingExtendedPrecision.ipynb) demo\n",
        "- use lower precision: use double precision as the \"ground truth\" and *single* precision as the precision that you are working in."
      ],
      "metadata": {
        "id": "oOqLAVQiY7cy"
      }
    },
    {
      "cell_type": "markdown",
      "source": [
        "#### Solutions\n",
        "The short answer is that $(x-3)^2$ is the more **stable** version, and $x^2-6x+9$ is less stable.\n",
        "\n",
        "Below are some examples of how you might test this:"
      ],
      "metadata": {
        "id": "xNgnnjnghMHg"
      }
    },
    {
      "cell_type": "code",
      "source": [
        "import numpy as np\n",
        "from matplotlib import pyplot as plt\n",
        "\n",
        "def f_ver1(x):\n",
        "  return (x-3)**2\n",
        "\n",
        "def f_ver2(x):\n",
        "  return x**2 - 6*x + 9\n",
        "\n",
        "def fp3(eps):\n",
        "  \"\"\" for an input eps, evaluates f(x)\n",
        "  where x = 3 + eps. This will be our reference solution\n",
        "  \"\"\"\n",
        "  return eps**2\n",
        "\n",
        "for eps in [2.**(-60), 2.**(-50), 8.0e-16, 1e-10, 1e-5]:\n",
        "    ans      = fp3(eps)\n",
        "    x        = 3 + eps\n",
        "    estimate1 = f_ver1(x)\n",
        "    rel_err1  = np.abs(ans-estimate1)/np.abs(ans)\n",
        "    estimate2 = f_ver2(x)\n",
        "    rel_err2  = np.abs(ans-estimate2)/np.abs(ans)\n",
        "    print(f'epsilon is {eps:.2e}, true value of f(x+eps) is\\t{ans:.10e}')\n",
        "    print(f'     via method one, calculate f(x) to be\\t{estimate1:.10e}, relative error is {100*rel_err1:.1f}% i.e. {-np.log10(rel_err1):.1f} correct digits')\n",
        "    print(f'     via method two, calculate f(x) to be\\t{estimate2:.10e}, relative error is {100*rel_err2:.1f}% i.e. {-np.log10(rel_err2):.1f} correct digits')\n",
        "    print()\n",
        "\n"
      ],
      "metadata": {
        "colab": {
          "base_uri": "https://localhost:8080/"
        },
        "id": "YXsw8WZiY9yT",
        "outputId": "6805f690-9513-4954-b6ff-3a16fc4ab3dd"
      },
      "execution_count": 31,
      "outputs": [
        {
          "output_type": "stream",
          "name": "stdout",
          "text": [
            "epsilon is 8.67e-19, true value of f(x+eps) is\t7.5231638453e-37\n",
            "     via method one, calculate f(x) to be\t0.0000000000e+00, relative error is 100.0% i.e. -0.0 correct digits\n",
            "     via method two, calculate f(x) to be\t0.0000000000e+00, relative error is 100.0% i.e. -0.0 correct digits\n",
            "\n",
            "epsilon is 8.88e-16, true value of f(x+eps) is\t7.8886090522e-31\n",
            "     via method one, calculate f(x) to be\t7.8886090522e-31, relative error is 0.0% i.e. inf correct digits\n",
            "     via method two, calculate f(x) to be\t-1.7763568394e-15, relative error is 225179981368524896.0% i.e. -15.4 correct digits\n",
            "\n",
            "epsilon is 8.00e-16, true value of f(x+eps) is\t6.4000000000e-31\n",
            "     via method one, calculate f(x) to be\t7.8886090522e-31, relative error is 23.3% i.e. 0.6 correct digits\n",
            "     via method two, calculate f(x) to be\t-1.7763568394e-15, relative error is 277555756156289312.0% i.e. -15.4 correct digits\n",
            "\n",
            "epsilon is 1.00e-10, true value of f(x+eps) is\t1.0000000000e-20\n",
            "     via method one, calculate f(x) to be\t1.0000001655e-20, relative error is 0.0% i.e. 6.8 correct digits\n",
            "     via method two, calculate f(x) to be\t0.0000000000e+00, relative error is 100.0% i.e. -0.0 correct digits\n",
            "\n",
            "epsilon is 1.00e-05, true value of f(x+eps) is\t1.0000000000e-10\n",
            "     via method one, calculate f(x) to be\t1.0000000000e-10, relative error is 0.0% i.e. 10.9 correct digits\n",
            "     via method two, calculate f(x) to be\t9.9998231917e-11, relative error is 0.0% i.e. 4.8 correct digits\n",
            "\n"
          ]
        },
        {
          "output_type": "stream",
          "name": "stderr",
          "text": [
            "/tmp/ipython-input-2028144625.py:24: RuntimeWarning: divide by zero encountered in log10\n",
            "  print(f'     via method one, calculate f(x) to be\\t{estimate1:.10e}, relative error is {100*rel_err1:.1f}% i.e. {-np.log10(rel_err1):.1f} correct digits')\n"
          ]
        }
      ]
    },
    {
      "cell_type": "code",
      "source": [
        "\"epsList_a = 2.**np.arange(-55,3)\n",
        "epsList_b = np.logspace( np.log10(epsList_a[0]), np.log10(epsList_a[-1]), len(epsList_a))\n",
        "\n",
        "# epsList\n",
        "error_ver1a = []\n",
        "error_ver2a = []\n",
        "error_ver1b = []\n",
        "error_ver2b = []\n",
        "for eps in epsList_a:\n",
        "    x = 3 + eps\n",
        "    ans = f3p(eps)\n",
        "    estimate = f_ver1(3+eps)\n",
        "    error_ver1a.append(np.abs(ans-estimate)/np.abs(ans))\n",
        "    estimate = f_ver2(3+eps)\n",
        "    error_ver2a.append(np.abs(ans-estimate)/np.abs(ans))\n",
        "for eps in epsList_b:\n",
        "    x = 3 + eps\n",
        "    ans = f3p(eps)\n",
        "    estimate = f_ver1(3+eps)\n",
        "    error_ver1b.append(np.abs(ans-estimate)/np.abs(ans))\n",
        "    estimate = f_ver2(3+eps)\n",
        "    error_ver2b.append(np.abs(ans-estimate)/np.abs(ans))\n",
        "\n",
        "plt.loglog( epsList_a, error_ver1a, label='ver1, x is power of 2')\n",
        "plt.loglog( epsList_a, error_ver2a, label='ver2, x is power of 2')\n",
        "plt.loglog( epsList_b, error_ver1b, '--',label='ver1, x is power of 10')\n",
        "plt.loglog( epsList_b, error_ver2b, '--',label='ver2, x is power of 10')\n",
        "plt.legend()\n",
        "plt.show()"
      ],
      "metadata": {
        "colab": {
          "base_uri": "https://localhost:8080/",
          "height": 434
        },
        "id": "9AgQuEhAbenX",
        "outputId": "511f14ba-8287-4854-87a1-ebae66f93692"
      },
      "execution_count": null,
      "outputs": [
        {
          "output_type": "display_data",
          "data": {
            "text/plain": [
              "<Figure size 640x480 with 1 Axes>"
            ],
            "image/png": "[encoded data removed]"
          },
          "metadata": {}
        }
      ]
    },
    {
      "cell_type": "code",
      "source": [
        "x = 101.52134234\n",
        "x = -100\n",
        "\n",
        "# f = lambda x : np.log10( 10.**x )\n",
        "f = lambda x : 10**np.log10(x)\n",
        "\n",
        "abs(f(x) - x)/x"
      ],
      "metadata": {
        "id": "1WfGPQqtvMuI",
        "colab": {
          "base_uri": "https://localhost:8080/"
        },
        "outputId": "afec6bdd-4441-4f87-beca-57dc5226c719"
      },
      "execution_count": null,
      "outputs": [
        {
          "output_type": "stream",
          "name": "stderr",
          "text": [
            "/tmp/ipython-input-2183342596.py:5: RuntimeWarning: invalid value encountered in log10\n",
            "  f = lambda x : 10**np.log10(x)\n"
          ]
        },
        {
          "output_type": "execute_result",
          "data": {
            "text/plain": [
              "np.float64(nan)"
            ]
          },
          "metadata": {},
          "execution_count": 21
        }
      ]
    },
    {
      "cell_type": "code",
      "source": [
        "|"
      ],
      "metadata": {
        "id": "8rI0SColi6t_"
      },
      "execution_count": null,
      "outputs": []
    }
  ]
}