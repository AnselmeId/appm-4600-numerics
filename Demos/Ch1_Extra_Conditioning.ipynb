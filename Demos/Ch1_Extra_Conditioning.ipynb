{
  "nbformat": 4,
  "nbformat_minor": 0,
  "metadata": {
    "kernelspec": {
      "display_name": "Python 3",
      "language": "python",
      "name": "python3"
    },
    "language_info": {
      "codemirror_mode": {
        "name": "ipython",
        "version": 3
      },
      "file_extension": ".py",
      "mimetype": "text/x-python",
      "name": "python",
      "nbconvert_exporter": "python",
      "pygments_lexer": "ipython3",
      "version": "3.7.7"
    },
    "colab": {
      "name": "Ch1_Extra_Conditioning.ipynb",
      "provenance": [],
      "include_colab_link": true
    }
  },
  "cells": [
    {
      "cell_type": "markdown",
      "metadata": {
        "id": "view-in-github",
        "colab_type": "text"
      },
      "source": [
        "<a href=\"https://colab.research.google.com/github/stephenbeckr/numerical-analysis-class/blob/master/Demos/Ch1_Extra_Conditioning.ipynb\" target=\"_parent\"><img src=\"https://colab.research.google.com/assets/colab-badge.svg\" alt=\"Open In Colab\"/></a>"
      ]
    },
    {
      "cell_type": "markdown",
      "metadata": {
        "id": "vsUt4ZNRzl88",
        "colab_type": "text"
      },
      "source": [
        "# \"Extra\"\n",
        "This is a supplemental notebook, from Jed Brown's [CSCI 3656 Numerical Computation course](https://github.com/cu-numcomp/numcomp-class/).\n",
        "\n",
        "  \n",
        "Copyright (c) 2017-2020, Jed Brown\n",
        "All rights reserved.\n",
        "\n",
        "Redistribution and use in source and binary forms, with or without modification,\n",
        "are permitted provided that the following conditions are met:\n",
        "\n",
        "* Redistributions of source code must retain the above copyright notice, this\n",
        "  list of conditions and the following disclaimer.\n",
        "* Redistributions in binary form must reproduce the above copyright notice, this\n",
        "  list of conditions and the following disclaimer in the documentation and/or\n",
        "  other materials provided with the distribution.\n",
        "\n",
        "THIS SOFTWARE IS PROVIDED BY THE COPYRIGHT HOLDERS AND CONTRIBUTORS \"AS IS\" AND\n",
        "ANY EXPRESS OR IMPLIED WARRANTIES, INCLUDING, BUT NOT LIMITED TO, THE IMPLIED\n",
        "WARRANTIES OF MERCHANTABILITY AND FITNESS FOR A PARTICULAR PURPOSE ARE\n",
        "DISCLAIMED. IN NO EVENT SHALL THE COPYRIGHT HOLDER OR CONTRIBUTORS BE LIABLE FOR\n",
        "ANY DIRECT, INDIRECT, INCIDENTAL, SPECIAL, EXEMPLARY, OR CONSEQUENTIAL DAMAGES\n",
        "(INCLUDING, BUT NOT LIMITED TO, PROCUREMENT OF SUBSTITUTE GOODS OR SERVICES;\n",
        "LOSS OF USE, DATA, OR PROFITS; OR BUSINESS INTERRUPTION) HOWEVER CAUSED AND ON\n",
        "ANY THEORY OF LIABILITY, WHETHER IN CONTRACT, STRICT LIABILITY, OR TORT\n",
        "(INCLUDING NEGLIGENCE OR OTHERWISE) ARISING IN ANY WAY OUT OF THE USE OF THIS\n",
        "SOFTWARE, EVEN IF ADVISED OF THE POSSIBILITY OF SUCH DAMAGE."
      ]
    },
    {
      "cell_type": "markdown",
      "metadata": {
        "id": "7VrVJ6Vezl89",
        "colab_type": "text"
      },
      "source": [
        "# Conditioning\n",
        "\n",
        "We say that a mathematical function $f(x)$ is well conditioned if small changes in $x$ produce small changes in $f(x)$.\n",
        "(What we mean by \"small\" will be made more precise.)\n",
        "In this context, $f(x)$ may represent a simple expression such as\n",
        "\n",
        "* $f(x) := 2 x$\n",
        "* $f(x) := \\sqrt{x}$\n",
        "* $f(x) := \\log{x}$\n",
        "* $f(x) := x - 1$\n",
        "\n",
        "but it may also represent a problem such as:\n",
        "\n",
        "* Find the positive root of the polynomial $t^2 + (1-x)t - x.$\n",
        "* Find the eigenvectors of the matrix\n",
        "$$ A(x) = \\begin{bmatrix} 1 & 1 \\\\ 0 & x \\end{bmatrix} .$$\n",
        "* Find the length of the rubber band when it finally snaps, as a function of temperature $x$ during manufacturing.\n",
        "* Find the time at which the slope avalanches as a function of the wind speed $x$ during the storm.\n",
        "* Find the probability that the slope avalanches in the next 48 hours as a function of the wind speed $x$ during the storm.\n",
        "* Find the probability that the hurricane makes landfall as a function of the observations $x$.\n",
        "* Find the shape of the tumor as a function of the received acoustic waves $x$ in an ultrasound scan.\n",
        "* Find the lift and drag of the airplane wing as a function of its shape $x$.\n",
        "* Find the stall speed of the airplane wing as a function of its shape $x$.\n",
        "* Find the global mean temperature change as a function of the emissions profile $x$.\n",
        "* Find the annual mean rainfall in the South Platte drainage basin as a function of the emissions profile $x$.\n",
        "\n",
        "Some of these problems are fully-specified while others involve sophisticated models and ongoing community research problems.\n",
        "In some cases, the models that are computable may incur greater uncertainty than the underlying system.\n",
        "In such cases, an analog experiment might produce smoother variation of the output as the problem data $x$ are varied.\n",
        "In others, the model might be better behaved than what it seeks to model.\n",
        "Some of these problems may be ill-posed.\n",
        "\n",
        "## Well-posedness\n",
        "\n",
        "A problem is said to be [well-posed](https://en.wikipedia.org/wiki/Well-posed_problem) if\n",
        "1. a solution exists,\n",
        "2. the solution is unique, and\n",
        "3. the solution depends continuously on the problem specification.\n",
        "\n",
        "Mathematically, continuous variation in part 3 can be arbitrarily fast, but there may be measurement error, manufacturing tolerances, or incomplete specification in real-world problems, such that we need to quantify part 3.  This is the role of conditioning.\n",
        "\n",
        "Let's explore conditioning by way of a rootfinding example."
      ]
    },
    {
      "cell_type": "code",
      "metadata": {
        "id": "WNclkAC4zl8-",
        "colab_type": "code",
        "colab": {}
      },
      "source": [
        "%matplotlib inline\n",
        "import matplotlib.pyplot as plt\n",
        "plt.style.use('ggplot')\n",
        "import numpy as np"
      ],
      "execution_count": 1,
      "outputs": []
    },
    {
      "cell_type": "markdown",
      "metadata": {
        "id": "xEU4KwcVzl9B",
        "colab_type": "text"
      },
      "source": [
        "We've observed algorithms struggle to compute roots accurately, especially when the roots have high multiplicity.  Difficulty computing zeros of polynomials can also arise when all the roots are simple, and it may be inherent to the problem, rather than a result of the numerical method.  For example, the Wilkinson polynomial\n",
        "$$ \\prod_{i=1}^{20} (x - i) = \\sum_{i=0}^{20} a_i x^i $$\n",
        "has roots at each of the positive integers up to 20."
      ]
    },
    {
      "cell_type": "code",
      "metadata": {
        "id": "smHqzdbUzl9C",
        "colab_type": "code",
        "colab": {
          "base_uri": "https://localhost:8080/",
          "height": 51
        },
        "outputId": "53a090fe-1c27-4f80-fb85-65b65777c9d3"
      },
      "source": [
        "def wilkinson(n):\n",
        "    \"\"\"Compute Wilkinson polynomial of degree n in the\n",
        "    monomial basis p[0]*x^n + ... + p[n-1]*x + p[n].\n",
        "    The polynomial can be evaluated using np.polyval(p,x)\n",
        "    \"\"\"\n",
        "    p = np.array([1])\n",
        "    for i in range(1, n+1):\n",
        "        p = np.polymul(p, np.array([1, -i]))\n",
        "    return p\n",
        "\n",
        "wilkinson(10)"
      ],
      "execution_count": 2,
      "outputs": [
        {
          "output_type": "execute_result",
          "data": {
            "text/plain": [
              "array([        1,       -55,      1320,    -18150,    157773,   -902055,\n",
              "         3416930,  -8409500,  12753576, -10628640,   3628800])"
            ]
          },
          "metadata": {
            "tags": []
          },
          "execution_count": 2
        }
      ]
    },
    {
      "cell_type": "code",
      "metadata": {
        "id": "CccRZQLQzl9G",
        "colab_type": "code",
        "colab": {
          "base_uri": "https://localhost:8080/",
          "height": 267
        },
        "outputId": "9170b8b7-d309-445d-c9cb-b1926de120a9"
      },
      "source": [
        "def plot_wilkinson(n):\n",
        "    \"\"\"Plot the Wilkinson polynomial of degree n.\"\"\"\n",
        "    p = wilkinson(n)\n",
        "    p[n//2] *= 1 + 1e-10\n",
        "    x = np.linspace(0, n+1, 500)\n",
        "    y = np.polyval(p, x)\n",
        "    #plt.plot(x, y)\n",
        "    plt.semilogy(x, np.abs(y))\n",
        "    \n",
        "plot_wilkinson(18)"
      ],
      "execution_count": 6,
      "outputs": [
        {
          "output_type": "display_data",
          "data": {
            "image/png": "[encoded data removed]",
            "text/plain": [
              "<Figure size 432x288 with 1 Axes>"
            ]
          },
          "metadata": {
            "tags": [],
            "needs_background": "light"
          }
        }
      ]
    },
    {
      "cell_type": "markdown",
      "metadata": {
        "id": "6Wk_z59Tzl9I",
        "colab_type": "text"
      },
      "source": [
        "The roots are extremely sensitive to perturbations of the coefficients $a_i$, as shown in this figure from Trefethen and Bau (1999).\n",
        "![Ill conditioning of roots of Wilkinson's polynomial](https://github.com/stephenbeckr/numerical-analysis-class/blob/master/Demos/img/TB-Wilkinson.png?raw=1)\n",
        "\n",
        "Numerical difficulties in which \"correct\" algorithms produce unreliable solutions almost always stem from lack of *stability* and/or *ill conditioning*.\n",
        "\n",
        "### Absolute condition number\n",
        "Consider a function $f: X \\to Y$ and define the *absolute condition number*\n",
        "$$ \\hat\\kappa = \\lim_{\\delta \\to 0} \\max_{|\\delta x| < \\delta} \\frac{|f(x + \\delta x) - f(x)|}{|\\delta x|} = \\max_{\\delta x} \\frac{|\\delta f|}{|\\delta x|}. $$\n",
        "If $f$ is differentiable, then $\\hat\\kappa = |f'(x)|$.\n",
        "\n",
        "### Floating point arithmetic\n",
        "Floating point arithmetic $x \\circledast y := \\text{float}(x * y)$ is exact within a relative accuracy $\\epsilon_{\\text{machine}}$.  Formally,\n",
        "$$ x \\circledast y = (x * y) (1 + \\epsilon) $$\n",
        "for some $|\\epsilon| \\le \\epsilon_{\\text{machine}}$."
      ]
    },
    {
      "cell_type": "code",
      "metadata": {
        "id": "vgmBvqoAzl9J",
        "colab_type": "code",
        "colab": {
          "base_uri": "https://localhost:8080/",
          "height": 102
        },
        "outputId": "da3c1141-2974-4730-c575-3e4a9c57fb89"
      },
      "source": [
        "print(format(1/3, '.20f'))\n",
        "print(format(.2 - 1/3 + 2/15, '.20f'))\n",
        "print(format((.2 - 1/3) + (1/3 - 0.2), '.20f'))\n",
        "print(format((1 + 1e-12) - 1, '.20f'))\n",
        "print(format(1e-12 + 1 - 1, '.20f'))"
      ],
      "execution_count": 9,
      "outputs": [
        {
          "output_type": "stream",
          "text": [
            "0.33333333333333331483\n",
            "0.00000000000000002776\n",
            "0.00000000000000000000\n",
            "0.00000000000100008890\n",
            "0.00000000000100008890\n"
          ],
          "name": "stdout"
        }
      ]
    },
    {
      "cell_type": "code",
      "metadata": {
        "id": "h-TTmylazl9L",
        "colab_type": "code",
        "colab": {
          "base_uri": "https://localhost:8080/",
          "height": 51
        },
        "outputId": "11f2e533-a002-4c29-8c5b-d5920cb1c3b7"
      },
      "source": [
        "eps = 1\n",
        "while 1 + eps > 1:\n",
        "    eps /= 2\n",
        "eps_machine = eps\n",
        "print('Machine epsilon = {}'.format(eps_machine))\n",
        "(1 + 1.12e-16) - 1"
      ],
      "execution_count": 10,
      "outputs": [
        {
          "output_type": "stream",
          "text": [
            "Machine epsilon = 1.1102230246251565e-16\n"
          ],
          "name": "stdout"
        },
        {
          "output_type": "execute_result",
          "data": {
            "text/plain": [
              "2.220446049250313e-16"
            ]
          },
          "metadata": {
            "tags": []
          },
          "execution_count": 10
        }
      ]
    },
    {
      "cell_type": "code",
      "metadata": {
        "id": "r1epsJ1ezl9O",
        "colab_type": "code",
        "colab": {},
        "outputId": "168d184f-1e44-482a-9601-c155e1b568e7"
      },
      "source": [
        "def plot_neighborhood(f, x0, atol=1e-10, rtol=1e-10):\n",
        "    width = atol + rtol * np.abs(x0)\n",
        "    x = np.linspace(x0 - width, x0 + width, 201)\n",
        "    plt.plot(x, f(x))\n",
        "    plt.xlabel('x')\n",
        "    plt.ylabel('f(x)')\n",
        "\n",
        "plot_neighborhood(lambda x: (x + 1) - 1, 0, 1e-15)"
      ],
      "execution_count": null,
      "outputs": [
        {
          "output_type": "display_data",
          "data": {
            "image/png": "[encoded data removed]",
            "text/plain": [
              "<Figure size 432x288 with 1 Axes>"
            ]
          },
          "metadata": {
            "tags": []
          }
        }
      ]
    },
    {
      "cell_type": "markdown",
      "metadata": {
        "id": "e22M3ffEzl9Q",
        "colab_type": "text"
      },
      "source": [
        "This function $f(x) = (x + 1) - 1 = x$ is well conditioned for all $x$, but this numerical algorithm is unstable (we'll discuss this below)."
      ]
    },
    {
      "cell_type": "code",
      "metadata": {
        "id": "81Pu65C2zl9R",
        "colab_type": "code",
        "colab": {},
        "outputId": "4b06bd0d-d438-46b8-b3b6-6b1359d729dd"
      },
      "source": [
        "plot_neighborhood(np.log, 1, .5)"
      ],
      "execution_count": null,
      "outputs": [
        {
          "output_type": "display_data",
          "data": {
            "image/png": "[encoded data removed]",
            "text/plain": [
              "<Figure size 432x288 with 1 Axes>"
            ]
          },
          "metadata": {
            "tags": []
          }
        }
      ]
    },
    {
      "cell_type": "markdown",
      "metadata": {
        "id": "_EGrhIsYzl9T",
        "colab_type": "text"
      },
      "source": [
        "The function $f(x) = \\log x$ has $f'(1) = 1$.  The conditioning is good in an absolute sense, $\\hat \\kappa = 1$.  However, the outputs from `np.log(1+x)` have large relative error relative to the exact value, provided here by the function `np.log1p(x)`."
      ]
    },
    {
      "cell_type": "code",
      "metadata": {
        "id": "uJJR2MEEzl9U",
        "colab_type": "code",
        "colab": {},
        "outputId": "0aa19f59-3dd1-4beb-beda-080b387fc10c"
      },
      "source": [
        "plot_neighborhood(lambda x: np.log(1+x), 0, atol=1e-15)\n",
        "plot_neighborhood(np.log1p, 0, atol=1e-15)"
      ],
      "execution_count": null,
      "outputs": [
        {
          "output_type": "display_data",
          "data": {
            "image/png": "[encoded data removed]",
            "text/plain": [
              "<Figure size 432x288 with 1 Axes>"
            ]
          },
          "metadata": {
            "tags": []
          }
        }
      ]
    },
    {
      "cell_type": "code",
      "metadata": {
        "id": "ukLl9mmCzl9W",
        "colab_type": "code",
        "colab": {},
        "outputId": "b9e75e2e-45e1-4697-9531-ae24690877e7"
      },
      "source": [
        "np.log(1 + 1e-12) - np.log1p(1e-12)"
      ],
      "execution_count": null,
      "outputs": [
        {
          "output_type": "execute_result",
          "data": {
            "text/plain": [
              "8.890058234103173e-17"
            ]
          },
          "metadata": {
            "tags": []
          },
          "execution_count": 11
        }
      ]
    },
    {
      "cell_type": "code",
      "metadata": {
        "id": "nMeP0GMqzl9Y",
        "colab_type": "code",
        "colab": {},
        "outputId": "e14b887f-bce0-4090-a538-02de053b71ff"
      },
      "source": [
        "(np.log(1 + 1e-12) - np.log1p(1e-12)) / np.log1p(1e-12)"
      ],
      "execution_count": null,
      "outputs": [
        {
          "output_type": "execute_result",
          "data": {
            "text/plain": [
              "8.890058234107618e-05"
            ]
          },
          "metadata": {
            "tags": []
          },
          "execution_count": 12
        }
      ]
    },
    {
      "cell_type": "code",
      "metadata": {
        "id": "cCpCXgSezl9b",
        "colab_type": "code",
        "colab": {},
        "outputId": "3aaffa5b-7027-4fa9-8724-e4798511664d"
      },
      "source": [
        "x = np.array([1,1e5,1e10,1e15])\n",
        "np.sin(np.pi*x)"
      ],
      "execution_count": null,
      "outputs": [
        {
          "output_type": "execute_result",
          "data": {
            "text/plain": [
              "array([ 1.22464680e-16, -3.39606540e-11, -2.23936276e-06, -2.36209053e-01])"
            ]
          },
          "metadata": {
            "tags": []
          },
          "execution_count": 13
        }
      ]
    },
    {
      "cell_type": "code",
      "metadata": {
        "id": "feZhqAQRzl9d",
        "colab_type": "code",
        "colab": {},
        "outputId": "f9e9c2ee-3bf4-47ff-e839-7d659e696526"
      },
      "source": [
        "np.sin(x)**2 + np.cos(x)**2 - 1"
      ],
      "execution_count": null,
      "outputs": [
        {
          "output_type": "execute_result",
          "data": {
            "text/plain": [
              "array([ 0.00000000e+00, -1.11022302e-16,  0.00000000e+00,  0.00000000e+00])"
            ]
          },
          "metadata": {
            "tags": []
          },
          "execution_count": 14
        }
      ]
    },
    {
      "cell_type": "markdown",
      "metadata": {
        "id": "Plsr6HJmzl9f",
        "colab_type": "text"
      },
      "source": [
        "### Relative condition number\n",
        "\n",
        "Given the relative nature of floating point arithmetic, it is more useful to discuss **relative condition number**,\n",
        "$$ \\kappa = \\max_{\\delta x} \\frac{|\\delta f|/|f|}{|\\delta x|/|x|}\n",
        "= \\max_{\\delta x} \\Big[ \\frac{|\\delta f|/|\\delta x|}{|f| / |x|} \\Big] $$\n",
        "or, if $f$ is differentiable,\n",
        "$$ \\kappa = |f'(x)| \\frac{|x|}{|f|} . $$\n",
        "\n",
        "How does a condition number get big?"
      ]
    },
    {
      "cell_type": "markdown",
      "metadata": {
        "id": "_3Oyqb5jzl9g",
        "colab_type": "text"
      },
      "source": [
        "## Stability\n",
        "\n",
        "We use the notation $\\tilde f(x)$ to mean a numerical algorithm for approximating $f(x)$.  Additionally, $\\tilde x = x (1 + \\epsilon)$ is some \"good\" approximation of the exact input $x$.\n",
        "\n",
        "### Stability\n",
        "**\"nearly the right answer to nearly the right question\"**\n",
        "$$ \\frac{\\lvert \\tilde f(x) - f(\\tilde x) \\rvert}{| f(\\tilde x) |} \\in O(\\epsilon_{\\text{machine}}) $$\n",
        "for some $\\tilde x$ that is close to $x$\n",
        "\n",
        "### Backward Stability\n",
        "**\"exactly the right answer to nearly the right question\"**\n",
        "$$ \\tilde f(x) = f(\\tilde x) $$\n",
        "for some $\\tilde x$ that is close to $x$\n",
        "\n",
        "* Every backward stable algorithm is stable.\n",
        "* Not every stable algorithm is backward stable.\n",
        "\n",
        "### Accuracy of backward stable algorithms (Theorem)\n",
        "\n",
        "A backward stable algorithm for computing $f(x)$ has relative accuracy\n",
        "$$ \\left\\lvert \\frac{\\tilde f(x) - f(x)}{f(x)} \\right\\rvert \\in O(\\kappa(f) \\epsilon_{\\text{machine}}) . $$\n",
        "Backward stability is generally the best we can hope for.\n",
        "\n",
        "In practice, it is rarely possible for a function to be backward stable when the output space is higher dimensional than the input space."
      ]
    },
    {
      "cell_type": "markdown",
      "metadata": {
        "id": "yudtF5-Nzl9g",
        "colab_type": "text"
      },
      "source": [
        "# Beyond IEEE-754 double precision\n",
        "\n",
        "## Lower precision IEEE-754 and relatives\n",
        "\n",
        "The default floating point type in Python is `double` precision, which requires 8 bytes (64 bits) to store and offers $\\epsilon_{\\text{machine}} \\approx 10^{-16}$.\n",
        "\n",
        "* IEEE-754 **single precision** (`float` in C and related languages) is half the size (4 bytes = 32 bits) and has long been popular when adequate.\n",
        "* IEEE-754 **half precision** reduces both range (exponent bits) and precision (mantissa) bits.\n",
        "* **bfloat16** is a relatively new non-IEEE type that is popular in machine learning because it's easy to convert to/from single precision (just truncate/round the mantissa).\n",
        "\n",
        "| Type | $\\epsilon_{\\text{machine}}$ | exponent bits | mantissa bits | diagram |\n",
        "|-----|-----|---|---|---|\n",
        "| double | 1.11e-16 | 11 | 52 | |\n",
        "| single | 5.96e-8 | 8 | 23 | ![](https://upload.wikimedia.org/wikipedia/commons/d/d2/Float_example.svg) |\n",
        "| [half](https://en.wikipedia.org/wiki/Half-precision_floating-point_format) | 4.88e-4 | 5 | 10 | ![](https://upload.wikimedia.org/wikipedia/commons/thumb/2/21/IEEE_754r_Half_Floating_Point_Format.svg/350px-IEEE_754r_Half_Floating_Point_Format.svg.png) |\n",
        "| [bfloat16](https://en.wikipedia.org/wiki/Bfloat16_floating-point_format) | 3.91e-3 | 8 | 7 | ![](https://upload.wikimedia.org/wikipedia/commons/0/0b/Bfloat16_format.svg) |\n",
        "\n",
        "\n",
        "### Mixed-precision algorithms\n",
        "\n",
        "Sometimes reducing the precision (from double to single, or from single to half) compromises the quality of results (due to ill-conditioning or poor stability), but one can recover accurate results by using higher precision in a small fraction of the computation.  These are *mixed-precision algorithms*, and can be a useful optimization technique.  Such techniques can give up to 2x improvement if memory bandwidth (for floating point data) or pure vectorizable flops are the bottleneck.  In case of single to half precision, the benefit can be greater than 2x when using special hardware, such as GPUs with \"tensor cores\".\n",
        "\n",
        "Warning: Premature use of mixed-precision techniques can often obscure better algorithms that can provide greater speedups and/or reliability improvements."
      ]
    }
  ]
}