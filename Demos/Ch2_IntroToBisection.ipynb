{
  "nbformat": 4,
  "nbformat_minor": 0,
  "metadata": {
    "colab": {
      "name": "Ch2_IntroToBisection.ipynb",
      "provenance": [],
      "authorship_tag": "ABX9TyNFG+CK71go5Ue1rrUYOLr1",
      "include_colab_link": true
    },
    "kernelspec": {
      "name": "python3",
      "display_name": "Python 3"
    }
  },
  "cells": [
    {
      "cell_type": "markdown",
      "metadata": {
        "id": "view-in-github",
        "colab_type": "text"
      },
      "source": [
        "<a href=\"https://colab.research.google.com/github/stephenbeckr/numerical-analysis-class/blob/master/Demos/Ch2_IntroToBisection.ipynb\" target=\"_parent\"><img src=\"https://colab.research.google.com/assets/colab-badge.svg\" alt=\"Open In Colab\"/></a>"
      ]
    },
    {
      "cell_type": "markdown",
      "metadata": {
        "id": "DeYE3dGoiGwo",
        "colab_type": "text"
      },
      "source": [
        "# Introduction to the bisection method for root finding\n",
        "\n",
        "We'll demonstrate using [Lambert's W function](https://en.wikipedia.org/wiki/Lambert_W_function) $W$, which is defined as the inverse of $xe^{x}$ (just as the logarithm is the inverse of $e^x$), i.e., $y=W(x)$ means $x=ye^y$.\n",
        "\n",
        "Thus, to find $y=W(x)$ for a given value of $x$, we solve the root finding problem\n",
        "$$\n",
        "ye^y - x = 0\n",
        "$$\n",
        "for $y$ (recall, we think of $x$ as fixed).\n",
        "\n",
        "Let's pick a value of $x$, say, $x=20$.\n",
        "\n",
        "We'll start by plotting $ye^y - x$ to get an idea of a good interval to start in.  Since $e^y>0$ always, we note that $x$ and $y$ should have the same sign, so we can restrict to $y > 0$."
      ]
    },
    {
      "cell_type": "code",
      "metadata": {
        "id": "0pMpIEMgjLBZ",
        "colab_type": "code",
        "colab": {
          "base_uri": "https://localhost:8080/",
          "height": 330
        },
        "outputId": "5bdc17ee-8c08-408d-f9ea-9c778592af07"
      },
      "source": [
        "import numpy as np\n",
        "\n",
        "x = 20\n",
        "f = lambda y : y*np.exp(y) - x\n",
        "\n",
        "\n",
        "# Let's also get a \"true\" answer, or at least a fairly good one\n",
        "import scipy.special.lambertw as W\n",
        "\n",
        "trueAnswer = np.real( W(20) )\n",
        "relError = lambda guess : abs( guess - trueAnswer )/abs(trueAnswer)\n",
        "correctDigits = lambda guess : -np.log10( relError(guess) + 1e-17)\n",
        "\n",
        "# Plotting\n",
        "\n",
        "yGrid = np.linspace(0,3,100)\n",
        "\n",
        "%matplotlib inline\n",
        "import matplotlib.pyplot as plt\n",
        "plt.style.use('seaborn-notebook')\n",
        "\n",
        "fig, ax = plt.subplots()\n",
        "plt.plot(yGrid,f(yGrid))\n",
        "plt.plot( trueAnswer,f(trueAnswer),'o',markersize=15)\n",
        "ax.spines['left'].set_position('zero')\n",
        "ax.spines['right'].set_color('none')\n",
        "ax.spines['bottom'].set_position('zero')\n",
        "ax.spines['top'].set_color('none')\n",
        "ax.minorticks_on()"
      ],
      "execution_count": 75,
      "outputs": [
        {
          "output_type": "display_data",
          "data": {
            "image/png": "[encoded data removed]",
            "text/plain": [
              "<Figure size 576x396 with 1 Axes>"
            ]
          },
          "metadata": {
            "tags": [],
            "needs_background": "light"
          }
        }
      ]
    },
    {
      "cell_type": "code",
      "metadata": {
        "id": "WBo-JFpWsRge",
        "colab_type": "code",
        "colab": {}
      },
      "source": [
        ""
      ],
      "execution_count": 35,
      "outputs": []
    },
    {
      "cell_type": "markdown",
      "metadata": {
        "id": "a3MkgAJYlpkj",
        "colab_type": "text"
      },
      "source": [
        "## Write a code to run the bisection method.\n",
        "The inputs should be a bracketing interval $[a,b]$ and a function $f$.  Do **not** hardcode in our particular function. We will pass it in as `f`.\n",
        "\n",
        "You also need some kind of stopping condition"
      ]
    },
    {
      "cell_type": "code",
      "metadata": {
        "id": "siAZDUroxFLT",
        "colab_type": "code",
        "colab": {}
      },
      "source": [
        "# midpoint = lambda a,b : (a+b)/2\n",
        "midpoint = lambda a,b : a + (b-a)/2\n",
        "\n",
        "errorBound = lambda a,b : (b-a)/2\n",
        "\n",
        "oppositeSign = lambda fa,fb :  np.sign(fa)*np.sign(fb) < 0\n",
        "\n",
        "def bisection( f, interval, tol=1e-9, maxIters = 100):\n",
        "  \"\"\"Assuming f is continuous and changes sign on the interval,\n",
        "  this returns an approximation of a root\n",
        "\n",
        "  bisection( f, interval, tol=[...], maxIters=[...])\n",
        "    interval = (a,b)  should be a tupple\n",
        "  \"\"\"\n",
        "  a,b = interval  # unpack it\n",
        "  fa,fb = f(a),f(b)\n",
        "  if not oppositeSign(fa,fb):\n",
        "    raise ValueError('Interval function does not change sign, may not contain root')\n",
        "  if errorBound( fa, fb) < tol:\n",
        "    return\n",
        "  \n",
        "  p   = midpoint(a,b)\n",
        "  fp  = f(p)\n",
        "  history = [p]\n",
        "  fcn_history = [fp]\n",
        "  iters = 0\n",
        "\n",
        "  while errorBound( fa, fb) > tol and iters <= maxIters :\n",
        "    iters += 1\n",
        "\n",
        "    if oppositeSign( fa, fp ):\n",
        "      b,fb = p,fp\n",
        "    else:\n",
        "      a,fa = p,fp\n",
        "\n",
        "    p   = midpoint(a,b)\n",
        "    fp  = f(p)\n",
        "    history.append(p)\n",
        "    fcn_history.append(fp)\n",
        "  return p, history, fcn_history"
      ],
      "execution_count": 69,
      "outputs": []
    },
    {
      "cell_type": "markdown",
      "metadata": {
        "id": "2B-A67NExG22",
        "colab_type": "text"
      },
      "source": [
        "### Run the code"
      ]
    },
    {
      "cell_type": "code",
      "metadata": {
        "id": "rW5SvTX3kHWY",
        "colab_type": "code",
        "colab": {
          "base_uri": "https://localhost:8080/",
          "height": 901
        },
        "outputId": "c69a6b0c-0aaf-4773-85bc-9df50ff30688"
      },
      "source": [
        "p, history, fcn_history = bisection(f, (1.5,2.5), tol = 1e-14 )\n",
        "\n",
        "for i,(p,fp) in enumerate( zip(history,fcn_history) ):\n",
        "  print( \"Iter {:2d}, p={:.16f}, |f(p)| = {:.2e}. We have {:4.1f} correct digits on p\".format(i,p,abs(fp),correctDigits(p)))"
      ],
      "execution_count": 71,
      "outputs": [
        {
          "output_type": "stream",
          "text": [
            "Iter  0, p=2.0000000000000000, |f(p)| = 5.22e+00. We have  1.0 correct digits on p\n",
            "Iter  1, p=2.2500000000000000, |f(p)| = 1.35e+00. We have  1.7 correct digits on p\n",
            "Iter  2, p=2.1250000000000000, |f(p)| = 2.21e+00. We have  1.4 correct digits on p\n",
            "Iter  3, p=2.1875000000000000, |f(p)| = 5.03e-01. We have  2.1 correct digits on p\n",
            "Iter  4, p=2.2187500000000000, |f(p)| = 4.03e-01. We have  2.2 correct digits on p\n",
            "Iter  5, p=2.2031250000000000, |f(p)| = 5.45e-02. We have  3.1 correct digits on p\n",
            "Iter  6, p=2.2109375000000000, |f(p)| = 1.73e-01. We have  2.6 correct digits on p\n",
            "Iter  7, p=2.2070312500000000, |f(p)| = 5.90e-02. We have  3.0 correct digits on p\n",
            "Iter  8, p=2.2050781250000000, |f(p)| = 2.18e-03. We have  4.5 correct digits on p\n",
            "Iter  9, p=2.2041015625000000, |f(p)| = 2.62e-02. We have  3.4 correct digits on p\n",
            "Iter 10, p=2.2045898437500000, |f(p)| = 1.20e-02. We have  3.7 correct digits on p\n",
            "Iter 11, p=2.2048339843750000, |f(p)| = 4.92e-03. We have  4.1 correct digits on p\n",
            "Iter 12, p=2.2049560546875000, |f(p)| = 1.37e-03. We have  4.7 correct digits on p\n",
            "Iter 13, p=2.2050170898437500, |f(p)| = 4.02e-04. We have  5.2 correct digits on p\n",
            "Iter 14, p=2.2049865722656250, |f(p)| = 4.86e-04. We have  5.1 correct digits on p\n",
            "Iter 15, p=2.2050018310546875, |f(p)| = 4.21e-05. We have  6.2 correct digits on p\n",
            "Iter 16, p=2.2050094604492188, |f(p)| = 1.80e-04. We have  5.6 correct digits on p\n",
            "Iter 17, p=2.2050056457519531, |f(p)| = 6.88e-05. We have  6.0 correct digits on p\n",
            "Iter 18, p=2.2050037384033203, |f(p)| = 1.34e-05. We have  6.7 correct digits on p\n",
            "Iter 19, p=2.2050027847290039, |f(p)| = 1.43e-05. We have  6.7 correct digits on p\n",
            "Iter 20, p=2.2050032615661621, |f(p)| = 4.78e-07. We have  8.1 correct digits on p\n",
            "Iter 21, p=2.2050034999847412, |f(p)| = 6.45e-06. We have  7.0 correct digits on p\n",
            "Iter 22, p=2.2050033807754517, |f(p)| = 2.99e-06. We have  7.3 correct digits on p\n",
            "Iter 23, p=2.2050033211708069, |f(p)| = 1.25e-06. We have  7.7 correct digits on p\n",
            "Iter 24, p=2.2050032913684845, |f(p)| = 3.88e-07. We have  8.2 correct digits on p\n",
            "Iter 25, p=2.2050032764673233, |f(p)| = 4.53e-08. We have  9.2 correct digits on p\n",
            "Iter 26, p=2.2050032839179039, |f(p)| = 1.71e-07. We have  8.6 correct digits on p\n",
            "Iter 27, p=2.2050032801926136, |f(p)| = 6.30e-08. We have  9.0 correct digits on p\n",
            "Iter 28, p=2.2050032783299685, |f(p)| = 8.89e-09. We have  9.9 correct digits on p\n",
            "Iter 29, p=2.2050032773986459, |f(p)| = 1.82e-08. We have  9.5 correct digits on p\n",
            "Iter 30, p=2.2050032778643072, |f(p)| = 4.64e-09. We have 10.1 correct digits on p\n",
            "Iter 31, p=2.2050032780971378, |f(p)| = 2.12e-09. We have 10.5 correct digits on p\n",
            "Iter 32, p=2.2050032779807225, |f(p)| = 1.26e-09. We have 10.7 correct digits on p\n",
            "Iter 33, p=2.2050032780389301, |f(p)| = 4.32e-10. We have 11.2 correct digits on p\n",
            "Iter 34, p=2.2050032780098263, |f(p)| = 4.14e-10. We have 11.2 correct digits on p\n",
            "Iter 35, p=2.2050032780243782, |f(p)| = 9.25e-12. We have 12.8 correct digits on p\n",
            "Iter 36, p=2.2050032780171023, |f(p)| = 2.02e-10. We have 11.5 correct digits on p\n",
            "Iter 37, p=2.2050032780207403, |f(p)| = 9.65e-11. We have 11.8 correct digits on p\n",
            "Iter 38, p=2.2050032780225592, |f(p)| = 4.36e-11. We have 12.2 correct digits on p\n",
            "Iter 39, p=2.2050032780234687, |f(p)| = 1.72e-11. We have 12.6 correct digits on p\n",
            "Iter 40, p=2.2050032780239235, |f(p)| = 3.96e-12. We have 13.2 correct digits on p\n",
            "Iter 41, p=2.2050032780241509, |f(p)| = 2.64e-12. We have 13.4 correct digits on p\n",
            "Iter 42, p=2.2050032780240372, |f(p)| = 6.64e-13. We have 14.0 correct digits on p\n",
            "Iter 43, p=2.2050032780240940, |f(p)| = 9.88e-13. We have 13.8 correct digits on p\n",
            "Iter 44, p=2.2050032780240656, |f(p)| = 1.63e-13. We have 14.6 correct digits on p\n",
            "Iter 45, p=2.2050032780240514, |f(p)| = 2.49e-13. We have 14.4 correct digits on p\n",
            "Iter 46, p=2.2050032780240585, |f(p)| = 4.26e-14. We have 15.2 correct digits on p\n",
            "Iter 47, p=2.2050032780240620, |f(p)| = 6.04e-14. We have 15.0 correct digits on p\n",
            "Iter 48, p=2.2050032780240603, |f(p)| = 7.11e-15. We have 15.7 correct digits on p\n",
            "Iter 49, p=2.2050032780240594, |f(p)| = 1.42e-14. We have 15.7 correct digits on p\n",
            "Iter 50, p=2.2050032780240598, |f(p)| = 3.55e-15. We have 17.0 correct digits on p\n",
            "Iter 51, p=2.2050032780240603, |f(p)| = 7.11e-15. We have 15.7 correct digits on p\n"
          ],
          "name": "stdout"
        }
      ]
    },
    {
      "cell_type": "code",
      "metadata": {
        "id": "ngqvveTGmcPc",
        "colab_type": "code",
        "colab": {
          "base_uri": "https://localhost:8080/",
          "height": 397
        },
        "outputId": "fcdba72c-0cb7-41c7-81ee-717c504f9c99"
      },
      "source": [
        "# Plot absolute error\n",
        "fig, ax = plt.subplots()\n",
        "plt.plot( abs(history-trueAnswer) ,'o-')\n",
        "ax.set_yscale('log')\n",
        "ax.grid()  # Plotting info: https://github.com/matplotlib/cheatsheets\n",
        "ax.minorticks_on()\n",
        "ax.set_ylabel(\"Absolute error\");\n",
        "ax.set_xlabel(\"Iteration\");\n",
        "ax.set_title(\"Error for the bisection method\");\n",
        "\n",
        "# We can also try to fit this\n",
        "coef = np.polyfit( np.array(range(len(history))), np.log(1e-20+np.array(abs(history-trueAnswer))), 1   )\n",
        "rho, const = np.exp(coef)\n",
        "\n",
        "plt.plot( const*rho**np.array(range(len(history))) );\n",
        "print(\"using a least-squares fit, the average error decay is linear with base rho = \", rho)"
      ],
      "execution_count": 73,
      "outputs": [
        {
          "output_type": "stream",
          "text": [
            "using a least-squares fit, the average error decay is linear with base rho =  0.49259541271726187\n"
          ],
          "name": "stdout"
        },
        {
          "output_type": "display_data",
          "data": {
            "image/png": "[encoded data removed]",
            "text/plain": [
              "<Figure size 576x396 with 1 Axes>"
            ]
          },
          "metadata": {
            "tags": [],
            "needs_background": "light"
          }
        }
      ]
    }
  ]
}