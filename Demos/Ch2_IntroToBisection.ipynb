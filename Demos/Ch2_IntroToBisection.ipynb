{
  "nbformat": 4,
  "nbformat_minor": 0,
  "metadata": {
    "colab": {
      "name": "Ch2_IntroToBisection.ipynb",
      "provenance": [],
      "collapsed_sections": [],
      "authorship_tag": "ABX9TyNs7/wEeirSHcAXLB7BGl3h",
      "include_colab_link": true
    },
    "kernelspec": {
      "name": "python3",
      "display_name": "Python 3"
    }
  },
  "cells": [
    {
      "cell_type": "markdown",
      "metadata": {
        "id": "view-in-github",
        "colab_type": "text"
      },
      "source": [
        "<a href=\"https://colab.research.google.com/github/stephenbeckr/numerical-analysis-class/blob/student/Demos/Ch2_IntroToBisection.ipynb\" target=\"_parent\"><img src=\"https://colab.research.google.com/assets/colab-badge.svg\" alt=\"Open In Colab\"/></a>"
      ]
    },
    {
      "cell_type": "markdown",
      "metadata": {
        "id": "DeYE3dGoiGwo",
        "colab_type": "text"
      },
      "source": [
        "# Introduction to the bisection method for root finding\n",
        "\n",
        "This is the **student** version of the notebook, which is open-ended.  See the [master branch version](https://github.com/stephenbeckr/numerical-analysis-class/blob/master/Demos/Ch2_IntroToBisection.ipynb) if you need answers.\n",
        "\n",
        "\n",
        "We'll demonstrate using [Lambert's W function](https://en.wikipedia.org/wiki/Lambert_W_function) $W$, which is defined as the inverse of $xe^{x}$ (just as the logarithm is the inverse of $e^x$), i.e., $y=W(x)$ means $x=ye^y$.\n",
        "\n",
        "Thus, to find $y=W(x)$ for a given value of $x$, we solve the root finding problem\n",
        "$$\n",
        "ye^y - x = 0\n",
        "$$\n",
        "for $y$ (recall, we think of $x$ as fixed).\n",
        "\n",
        "Let's pick a value of $x$, say, $x=20$.\n",
        "\n",
        "We'll start by plotting $ye^y - x$ to get an idea of a good interval to start in.  Since $e^y>0$ always, we note that $x$ and $y$ should have the same sign, so we can restrict to $y > 0$.\n",
        "\n",
        "1. Task 1, plot $f(y)=ye^y - 20$ and find an interval of $y$ on which $f$ changes sign\n",
        "2. Task 2, find the true root using `scipy.special.lambertw` (where should you evaluate this at?)\n",
        "3. Task 3, using the true root, make functions that report the correct number of digits for a guess"
      ]
    },
    {
      "cell_type": "code",
      "metadata": {
        "id": "0pMpIEMgjLBZ",
        "colab_type": "code",
        "colab": {}
      },
      "source": [
        "import numpy as np\n",
        "import scipy.special.lambertw as W\n",
        "\n",
        "# ... TODO get true answer using W\n",
        "\n",
        "# ... TODO define f\n",
        "\n",
        "# ... TODO define correctDigits\n",
        "\n",
        "# Plotting\n",
        "%matplotlib inline\n",
        "import matplotlib.pyplot as plt\n",
        "plt.style.use('seaborn-notebook') # or whatever you prefer\n",
        "\n",
        "fig, ax = plt.subplots()\n",
        "plt.plot( # ... TODO ... )\n",
        "\n",
        "# If you like, add axes through the origin, not as a box around the outside:\n",
        "ax.spines['left'].set_position('zero')\n",
        "ax.spines['right'].set_color('none')\n",
        "ax.spines['bottom'].set_position('zero')\n",
        "ax.spines['top'].set_color('none')\n",
        "ax.minorticks_on()"
      ],
      "execution_count": null,
      "outputs": []
    },
    {
      "cell_type": "markdown",
      "metadata": {
        "id": "a3MkgAJYlpkj",
        "colab_type": "text"
      },
      "source": [
        "## Write a code to run the bisection method.\n",
        "The inputs should be a bracketing interval $[a,b]$ and a function $f$.  Do **not** hardcode in our particular function. We will pass it in as `f`.\n",
        "\n",
        "You also need some kind of stopping condition\n",
        "\n",
        "4. Task 4: program the bisection method"
      ]
    },
    {
      "cell_type": "code",
      "metadata": {
        "id": "siAZDUroxFLT",
        "colab_type": "code",
        "colab": {}
      },
      "source": [
        "# ... TODO ... "
      ],
      "execution_count": 69,
      "outputs": []
    },
    {
      "cell_type": "markdown",
      "metadata": {
        "id": "2B-A67NExG22",
        "colab_type": "text"
      },
      "source": [
        "### Run the code to find the root\n",
        "5. Task 5: run the code\n",
        "6. Task 6: compute the error\n",
        "7. Task 7: show how the error changes every iteration"
      ]
    },
    {
      "cell_type": "code",
      "metadata": {
        "id": "xE3IDqsF077-",
        "colab_type": "code",
        "colab": {}
      },
      "source": [
        "# ... TODO ..."
      ],
      "execution_count": null,
      "outputs": []
    },
    {
      "cell_type": "markdown",
      "metadata": {
        "id": "XEgM9PoF0s12",
        "colab_type": "text"
      },
      "source": [
        "### Plot the error\n",
        "8. Plot the error\n",
        "9. What kind of convergence rate is this? sub-linear, linear, super-linear, quadratic?\n",
        "10. If you think you know the rate of convergence, fit parameters\n",
        "11. Are these the parameters you expect?"
      ]
    },
    {
      "cell_type": "code",
      "metadata": {
        "id": "rW5SvTX3kHWY",
        "colab_type": "code",
        "colab": {}
      },
      "source": [
        "# ... TODO ..."
      ],
      "execution_count": 76,
      "outputs": []
    }
  ]
}