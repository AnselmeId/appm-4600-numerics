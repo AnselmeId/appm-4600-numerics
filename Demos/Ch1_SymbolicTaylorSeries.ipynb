{
 "cells": [
  {
   "cell_type": "markdown",
   "metadata": {
    "colab_type": "text",
    "id": "view-in-github"
   },
   "source": [
    "<a href=\"https://colab.research.google.com/github/stephenbeckr/numerical-analysis-class/blob/master/Demos/Ch1_SymbolicTaylorSeries.ipynb\" target=\"_parent\"><img src=\"https://colab.research.google.com/assets/colab-badge.svg\" alt=\"Open In Colab\"/></a>"
   ]
  },
  {
   "cell_type": "markdown",
   "metadata": {
    "colab_type": "text",
    "id": "LNDLwuliDDql"
   },
   "source": [
    "# Lab: Taylor Series\n",
    "\n",
    "This is on the **student** branch of github.  If you switch to the **master** branch, you can see the same version of this notebook but with everything done for you.  We suggest starting with this notebook and then switching to **master** later to check your answer.\n",
    "\n",
    "The goal of this is to evaluate $cos( .75 )$ using only addition and multiplication, and a few \"memorized\" values of sine/cosine (let's assume that we memorize the fact that $\\cos( \\pi/4 ) = \\sqrt{2}/2$ and that $\\sin( \\pi/4 ) = \\sqrt{2}/2$ ).\n",
    "\n",
    "Since .75 is not that far from $\\pi/4 \\approx 0.785$, let's do a Taylor expansion of $\\cos$ around $\\pi/4$.\n",
    "\n",
    "Use the remainder form of Taylor series (e.g., see what Wikipedia calls the [\"Lagrange form\" of the remainder](https://en.wikipedia.org/wiki/Taylor%27s_theorem#Explicit_formulas_for_the_remainder)) in order to estimate the error.\n",
    "\n",
    "## Using Taylor series\n",
    "\n",
    "It's great to be able to take derivatives and do Taylor series by hand, and it's also great to be able to change the oil on your car.  But in real life, most of us just can't be bothered to find the time to change our own oil or take our own derivatives.  Furthermore, we're more likely to make mistakes than if we let the professionals do it.\n",
    "\n",
    "Here, I suggest that you manipulate Taylor series using the **SymPy** package in Python, following the tutorial at [scipy-lectures.org/packages/sympy.html](https://scipy-lectures.org/packages/sympy.html).  SymPy is used in [SageMath](https://www.sagemath.org/).\n",
    "\n",
    "You can do this in Maple, which is a bit old-school, or **Mathematica** (which we have a license for at CU).  [Wolfram Alpha](https://www.wolframalpha.com/) is another choice (by the company that makes Mathematica) though the free version does have some limitations.\n",
    "\n",
    "The nice thing about Python is that it is free and community supported, so if you take the time to use it, it won't go away. If you learn Mathematica now, you may not be able to use it in your job, since it's an expensive license."
   ]
  },
  {
   "cell_type": "code",
   "execution_count": null,
   "metadata": {
    "colab": {},
    "colab_type": "code",
    "id": "zoGrsMYdCXq6"
   },
   "outputs": [],
   "source": [
    "# Load the package\n",
    "import sympy as sym\n",
    "from sympy import init_printing\n",
    "init_printing()  # This will make output look very nice!\n",
    "import math  # has things like math.pi (which is the numerical value of pi)"
   ]
  },
  {
   "cell_type": "code",
   "execution_count": null,
   "metadata": {
    "colab": {
     "base_uri": "https://localhost:8080/",
     "height": 40
    },
    "colab_type": "code",
    "id": "RJ3odjv1Dt6F",
    "outputId": "28095ce3-048e-4587-e09c-0e82835625f7"
   },
   "outputs": [],
   "source": [
    "# First, all symbolic variables must be declared. This is in contrast to Mathematica\n",
    "x = sym.Symbol('x')\n",
    "\n",
    "# Now, let's ask for a Taylor series expansion\n",
    "sym.series( sym.cos(x), x )"
   ]
  },
  {
   "cell_type": "code",
   "execution_count": null,
   "metadata": {
    "colab": {},
    "colab_type": "code",
    "id": "m5qRBVXUD0s9"
   },
   "outputs": [],
   "source": [
    "# We can see the Docstring for the function to see all the options\n",
    "?sym.series\n",
    "# Other useful commands to use: .subs( ... ), .evalf( ... ), removeO( ... )"
   ]
  },
  {
   "cell_type": "markdown",
   "metadata": {
    "colab_type": "text",
    "id": "Jw6zt3zMExbp"
   },
   "source": [
    "Before going further, let's play with cos(pi/4).  Test out the differences between `sym.cos` and `math.cos` as well as between `sym.pi` and `math.pi`"
   ]
  },
  {
   "cell_type": "code",
   "execution_count": null,
   "metadata": {
    "colab": {
     "base_uri": "https://localhost:8080/",
     "height": 126
    },
    "colab_type": "code",
    "id": "_IxXjVhHE_H6",
    "outputId": "a52a0feb-b5d8-4cb9-cb4e-1277866cbc72"
   },
   "outputs": [],
   "source": [
    "# For you to do"
   ]
  },
  {
   "cell_type": "markdown",
   "metadata": {
    "colab_type": "text",
    "id": "gC1aH5zrGNYm"
   },
   "source": [
    "Now, make a Taylor series approximation for $\\cos(.75)$ and give a mathematical guarantee that (assuming there are no errors in the actual arithmetic... there may be, but we'll discuss that later) the error is small.  In particular, how many terms do we need to guarantee an error of $10^{-14}$ or less?"
   ]
  },
  {
   "cell_type": "code",
   "execution_count": null,
   "metadata": {},
   "outputs": [],
   "source": [
    "# For you to do"
   ]
  }
 ],
 "metadata": {
  "colab": {
   "authorship_tag": "ABX9TyO+pFCxUDmyKnhn2UJy+jX2",
   "include_colab_link": true,
   "name": "Ch1_SymbolicTaylorSeries.ipynb",
   "provenance": []
  },
  "kernelspec": {
   "display_name": "Python 3",
   "language": "python",
   "name": "python3"
  },
  "language_info": {
   "codemirror_mode": {
    "name": "ipython",
    "version": 3
   },
   "file_extension": ".py",
   "mimetype": "text/x-python",
   "name": "python",
   "nbconvert_exporter": "python",
   "pygments_lexer": "ipython3",
   "version": "3.7.7"
  }
 },
 "nbformat": 4,
 "nbformat_minor": 1
}
