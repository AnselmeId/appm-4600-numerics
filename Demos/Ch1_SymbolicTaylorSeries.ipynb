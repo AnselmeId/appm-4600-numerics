{
  "nbformat": 4,
  "nbformat_minor": 0,
  "metadata": {
    "colab": {
      "name": "Ch1_SymbolicTaylorSeries.ipynb",
      "provenance": [],
      "include_colab_link": true
    },
    "kernelspec": {
      "name": "python3",
      "display_name": "Python 3"
    }
  },
  "cells": [
    {
      "cell_type": "markdown",
      "metadata": {
        "id": "view-in-github",
        "colab_type": "text"
      },
      "source": [
        "<a href=\"https://colab.research.google.com/github/cu-applied-math/appm-4600-numerics/blob/main/Demos/Ch1_SymbolicTaylorSeries.ipynb\" target=\"_parent\"><img src=\"https://colab.research.google.com/assets/colab-badge.svg\" alt=\"Open In Colab\"/></a>"
      ]
    },
    {
      "cell_type": "markdown",
      "metadata": {
        "id": "LNDLwuliDDql"
      },
      "source": [
        "Manipulate Taylor series using the **SymPy** package in Python, following the tutorial at [scipy-lectures.org/packages/sympy.html](https://scipy-lectures.org/packages/sympy.html).  SymPy is used in [SageMath](https://www.sagemath.org/).\n",
        "\n",
        "You can do this in Maple, which is a bit old-school, or Mathematica (which we have a license for at CU).  Wolfram Alpha is another choice (by the company that makes Mathematica) though the free version does have some limitations.\n",
        "\n",
        "The nice thing about Python is that it is free and community supported, so if you take the time to use it, it won't go away. If you learn Mathematica now, you may not be able to use it in your job, since it's an expensive license."
      ]
    },
    {
      "cell_type": "code",
      "metadata": {
        "id": "zoGrsMYdCXq6"
      },
      "source": [
        "# Load the package\n",
        "import numpy as np\n",
        "import sympy as sym\n",
        "from sympy import init_printing\n",
        "init_printing()  # This will make output look very nice!\n",
        "\n",
        "import math  # has things like math.pi (which is the numerical value of pi)"
      ],
      "execution_count": 3,
      "outputs": []
    },
    {
      "cell_type": "code",
      "metadata": {
        "id": "RJ3odjv1Dt6F",
        "colab": {
          "base_uri": "https://localhost:8080/",
          "height": 54
        },
        "outputId": "561294de-3826-4b77-dcf9-cfdc79f5a494"
      },
      "source": [
        "# First, all symbolic variables must be declared. This is in contrast to Mathematica\n",
        "x = sym.Symbol('x')\n",
        "\n",
        "# Now, let's ask for a Taylor series expansion\n",
        "sym.series( sym.cos(x), x )"
      ],
      "execution_count": 4,
      "outputs": [
        {
          "output_type": "execute_result",
          "data": {
            "text/plain": [
              "     2    4        \n",
              "    x    x     ⎛ 6⎞\n",
              "1 - ── + ── + O⎝x ⎠\n",
              "    2    24        "
            ],
            "text/latex": "$\\displaystyle 1 - \\frac{x^{2}}{2} + \\frac{x^{4}}{24} + O\\left(x^{6}\\right)$"
          },
          "metadata": {},
          "execution_count": 4
        }
      ]
    },
    {
      "cell_type": "code",
      "metadata": {
        "id": "m5qRBVXUD0s9"
      },
      "source": [
        "# We can see the Docstring for the function to see all the options\n",
        "?sym.series"
      ],
      "execution_count": null,
      "outputs": []
    },
    {
      "cell_type": "markdown",
      "metadata": {
        "id": "Jw6zt3zMExbp"
      },
      "source": [
        "Before going further, let's play with cos(pi/4)"
      ]
    },
    {
      "cell_type": "code",
      "metadata": {
        "id": "_IxXjVhHE_H6",
        "colab": {
          "base_uri": "https://localhost:8080/",
          "height": 142
        },
        "outputId": "577a38d4-026e-4a2a-ffbd-7001fb1c3b83"
      },
      "source": [
        "print( math.cos( math.pi/4 ) )\n",
        "# or, ask to print out 20 decimal places\n",
        "print( '%.20f' % math.cos( math.pi/4 ) )  # this is old-school: see https://docs.python.org/3/tutorial/inputoutput.html#old-string-formatting\n",
        "print( math.cos( sym.pi/4) )\n",
        "print( sym.cos( math.pi/4) )\n",
        "print( sym.cos( sym.pi/4) )\n",
        "sym.cos( sym.pi/4)  # same as above, but use fancy formatting"
      ],
      "execution_count": 5,
      "outputs": [
        {
          "output_type": "stream",
          "name": "stdout",
          "text": [
            "0.7071067811865476\n",
            "0.70710678118654757274\n",
            "0.7071067811865476\n",
            "0.707106781186548\n",
            "sqrt(2)/2\n"
          ]
        },
        {
          "output_type": "execute_result",
          "data": {
            "text/plain": [
              "√2\n",
              "──\n",
              "2 "
            ],
            "text/latex": "$\\displaystyle \\frac{\\sqrt{2}}{2}$"
          },
          "metadata": {},
          "execution_count": 5
        }
      ]
    },
    {
      "cell_type": "markdown",
      "source": [
        "and even simpler, play around with $\\pi$.  The default Python math library will give us as many digits as we request... but are they accurate digits?"
      ],
      "metadata": {
        "id": "mTfM7KXFq4qH"
      }
    },
    {
      "cell_type": "code",
      "source": [
        "print(f'{math.pi:.30f}') # 30 digits of pi... ?!\n",
        "print(f'{sym.pi:.30f}') # 30 digits of pi... ?!\n",
        "print(f'{3.141592653589793238462643383279:.30}') # from https://www.piday.org/million/\n",
        "print('3.141592653589793238462643383279')\n",
        "# What is going on!?  Even if we have an accurate approximation, it's hard for numpy to display it!"
      ],
      "metadata": {
        "id": "vzqESSa6pBRn",
        "outputId": "d3e05dfa-bca8-4598-e0c2-a60b7fdd0427",
        "colab": {
          "base_uri": "https://localhost:8080/"
        }
      },
      "execution_count": 6,
      "outputs": [
        {
          "output_type": "stream",
          "name": "stdout",
          "text": [
            "3.141592653589793115997963468544\n",
            "3.141592653589793238462643383279\n",
            "3.14159265358979311599796346854\n",
            "3.141592653589793238462643383279\n"
          ]
        }
      ]
    },
    {
      "cell_type": "code",
      "source": [
        "# Numpy printing is a little smarter: if we request 40 digits of precision\n",
        "# but it knows that the number doesn't have that many *accurate* digits,\n",
        "# then it will refuse to print them\n",
        "with np.printoptions(precision=40):\n",
        "    print(np.pi)\n",
        "    print(math.pi)\n",
        "    print(sym.pi)\n",
        "    print(3.141592653589793238462643383279)\n",
        "    print('3.141592653589793238462643383279')"
      ],
      "metadata": {
        "id": "OapbVWjCB8-L",
        "outputId": "b5a5f005-7e30-466a-bd0c-9e3de2ea358c",
        "colab": {
          "base_uri": "https://localhost:8080/"
        }
      },
      "execution_count": 9,
      "outputs": [
        {
          "output_type": "stream",
          "name": "stdout",
          "text": [
            "3.141592653589793\n",
            "3.141592653589793\n",
            "pi\n",
            "3.141592653589793\n",
            "3.141592653589793238462643383279\n"
          ]
        }
      ]
    },
    {
      "cell_type": "markdown",
      "metadata": {
        "id": "gC1aH5zrGNYm"
      },
      "source": [
        "Now let's explore the series. In particular, let's try to evaluate cos( .75 ), using only addition and multiplication, and a few \"memorized\" values of sine/cosine (let's assume that we memorize the fact that $\\cos( \\pi/4 ) = \\sqrt{2}/2$ and that $\\sin( \\pi/4 ) = \\sqrt{2}/2$.\n",
        "\n",
        "Since .75 is not that far from $\\pi/4 \\approx 0.785$, let's do a Taylor expansion of $\\cos$ around $\\pi/4$."
      ]
    },
    {
      "cell_type": "code",
      "metadata": {
        "id": "XFery7hKFwYb",
        "colab": {
          "base_uri": "https://localhost:8080/",
          "height": 63
        },
        "outputId": "f030e870-e0cc-4f29-fb1d-6cfc07a8a6f9"
      },
      "source": [
        "Taylor = sym.series( sym.cos(x), x, x0=sym.pi/4, n=5)\n",
        "Taylor"
      ],
      "execution_count": null,
      "outputs": [
        {
          "output_type": "execute_result",
          "data": {
            "text/plain": [
              "                            2             3             4                     \n",
              "        ⎛    π⎞      ⎛    π⎞       ⎛    π⎞       ⎛    π⎞                      \n",
              "     √2⋅⎜x - ─⎟   √2⋅⎜x - ─⎟    √2⋅⎜x - ─⎟    √2⋅⎜x - ─⎟     ⎛       5       ⎞\n",
              "√2      ⎝    4⎠      ⎝    4⎠       ⎝    4⎠       ⎝    4⎠     ⎜⎛    π⎞       π⎟\n",
              "── - ────────── - ─────────── + ─────────── + ─────────── + O⎜⎜x - ─⎟ ; x → ─⎟\n",
              "2        2             4            12            48         ⎝⎝    4⎠       4⎠"
            ],
            "text/latex": "$\\displaystyle \\frac{\\sqrt{2}}{2} - \\frac{\\sqrt{2} \\left(x - \\frac{\\pi}{4}\\right)}{2} - \\frac{\\sqrt{2} \\left(x - \\frac{\\pi}{4}\\right)^{2}}{4} + \\frac{\\sqrt{2} \\left(x - \\frac{\\pi}{4}\\right)^{3}}{12} + \\frac{\\sqrt{2} \\left(x - \\frac{\\pi}{4}\\right)^{4}}{48} + O\\left(\\left(x - \\frac{\\pi}{4}\\right)^{5}; x\\rightarrow \\frac{\\pi}{4}\\right)$"
          },
          "metadata": {},
          "execution_count": 13
        }
      ]
    },
    {
      "cell_type": "code",
      "metadata": {
        "id": "n96sKGoaGofK",
        "colab": {
          "base_uri": "https://localhost:8080/",
          "height": 39
        },
        "outputId": "4c88a486-107d-4890-83dc-980e2ba2c3ac"
      },
      "source": [
        "Taylor.subs(x,.75) # Not what we want"
      ],
      "execution_count": null,
      "outputs": [
        {
          "output_type": "execute_result",
          "data": {
            "text/plain": [
              "O(1)"
            ],
            "text/latex": "$\\displaystyle O\\left(1\\right)$"
          },
          "metadata": {},
          "execution_count": 14
        }
      ]
    },
    {
      "cell_type": "code",
      "metadata": {
        "id": "YoFBLV1uIhIV",
        "colab": {
          "base_uri": "https://localhost:8080/",
          "height": 63
        },
        "outputId": "73bdb5c6-811a-431e-f9a0-e93b79165458"
      },
      "source": [
        "Taylor.evalf( subs={x: .75})"
      ],
      "execution_count": null,
      "outputs": [
        {
          "output_type": "execute_result",
          "data": {
            "text/plain": [
              "                            2             3             4                     \n",
              "        ⎛    π⎞      ⎛    π⎞       ⎛    π⎞       ⎛    π⎞                      \n",
              "     √2⋅⎜x - ─⎟   √2⋅⎜x - ─⎟    √2⋅⎜x - ─⎟    √2⋅⎜x - ─⎟     ⎛       5       ⎞\n",
              "√2      ⎝    4⎠      ⎝    4⎠       ⎝    4⎠       ⎝    4⎠     ⎜⎛    π⎞       π⎟\n",
              "── - ────────── - ─────────── + ─────────── + ─────────── + O⎜⎜x - ─⎟ ; x → ─⎟\n",
              "2        2             4            12            48         ⎝⎝    4⎠       4⎠"
            ],
            "text/latex": "$\\displaystyle \\frac{\\sqrt{2}}{2} - \\frac{\\sqrt{2} \\left(x - \\frac{\\pi}{4}\\right)}{2} - \\frac{\\sqrt{2} \\left(x - \\frac{\\pi}{4}\\right)^{2}}{4} + \\frac{\\sqrt{2} \\left(x - \\frac{\\pi}{4}\\right)^{3}}{12} + \\frac{\\sqrt{2} \\left(x - \\frac{\\pi}{4}\\right)^{4}}{48} + O\\left(\\left(x - \\frac{\\pi}{4}\\right)^{5}; x\\rightarrow \\frac{\\pi}{4}\\right)$"
          },
          "metadata": {},
          "execution_count": 15
        }
      ]
    },
    {
      "cell_type": "code",
      "metadata": {
        "id": "2Mz9Y2OHJP8Q",
        "colab": {
          "base_uri": "https://localhost:8080/",
          "height": 59
        },
        "outputId": "575c8bb7-3437-435e-db0d-91ac558225c7"
      },
      "source": [
        "# Numerically evaluating this was a problem, because of the O( x^5 ) term. Let's remove it.\n",
        "# See https://docs.sympy.org/latest/tutorial/calculus.html\n",
        "Taylor.removeO()"
      ],
      "execution_count": null,
      "outputs": [
        {
          "output_type": "execute_result",
          "data": {
            "text/plain": [
              "          4             3             2                  \n",
              "   ⎛    π⎞       ⎛    π⎞       ⎛    π⎞       ⎛    π⎞     \n",
              "√2⋅⎜x - ─⎟    √2⋅⎜x - ─⎟    √2⋅⎜x - ─⎟    √2⋅⎜x - ─⎟     \n",
              "   ⎝    4⎠       ⎝    4⎠       ⎝    4⎠       ⎝    4⎠   √2\n",
              "─────────── + ─────────── - ─────────── - ────────── + ──\n",
              "    48            12             4            2        2 "
            ],
            "text/latex": "$\\displaystyle \\frac{\\sqrt{2} \\left(x - \\frac{\\pi}{4}\\right)^{4}}{48} + \\frac{\\sqrt{2} \\left(x - \\frac{\\pi}{4}\\right)^{3}}{12} - \\frac{\\sqrt{2} \\left(x - \\frac{\\pi}{4}\\right)^{2}}{4} - \\frac{\\sqrt{2} \\left(x - \\frac{\\pi}{4}\\right)}{2} + \\frac{\\sqrt{2}}{2}$"
          },
          "metadata": {},
          "execution_count": 16
        }
      ]
    },
    {
      "cell_type": "code",
      "metadata": {
        "id": "3IAVBOLaKrn1",
        "colab": {
          "base_uri": "https://localhost:8080/"
        },
        "outputId": "6336f434-4e30-4176-8f4a-aab368d8f385"
      },
      "source": [
        "guess = Taylor.removeO().subs(x,.75).evalf()\n",
        "print(\"Our guess is: \\t%.15f\" % guess)   # .15f means give us a fixed point representation, with 15 digits to the right of the .\n",
        "print(\"True value is: \\t%.15f\" % math.cos( .75) )\n",
        "print(f\"Discrepency is: \\t{abs( guess - math.cos(.75) ):.3e}\")  # .3e means give us scientifc notation with 3 digits to the right of the ."
      ],
      "execution_count": null,
      "outputs": [
        {
          "output_type": "stream",
          "name": "stdout",
          "text": [
            "Our guess is: \t0.731688868548266\n",
            "True value is: \t0.731688868873821\n",
            "Discrepency is: \t3.256e-10\n"
          ]
        }
      ]
    },
    {
      "cell_type": "markdown",
      "metadata": {
        "id": "Z3sKMUtuLldm"
      },
      "source": [
        "Our *absolute* error is about $3\\times 10^{-10}$. Is this what we'd expect? Let's use math to be able to **guarantee** a small error (without having known the true answer first)\n",
        "\n",
        "Let's look at the remainder term in the Taylor series"
      ]
    },
    {
      "cell_type": "code",
      "metadata": {
        "id": "CzffLsu2K2e6",
        "colab": {
          "base_uri": "https://localhost:8080/",
          "height": 56
        },
        "outputId": "638fef65-d04e-4ea1-8a4c-e01054b608e5"
      },
      "source": [
        "x0=sym.Symbol('x0')\n",
        "sym.series( sym.cos(x), x, x0=x0, n=5)"
      ],
      "execution_count": null,
      "outputs": [
        {
          "output_type": "execute_result",
          "data": {
            "text/plain": [
              "                                     2                   3                   4 ↪\n",
              "                             (x - x₀) ⋅cos(x₀)   (x - x₀) ⋅sin(x₀)   (x - x₀)  ↪\n",
              "cos(x₀) - (x - x₀)⋅sin(x₀) - ───────────────── + ───────────────── + ───────── ↪\n",
              "                                     2                   6                  24 ↪\n",
              "\n",
              "↪                                \n",
              "↪ ⋅cos(x₀)    ⎛        5        ⎞\n",
              "↪ ──────── + O⎝(x - x₀) ; x → x₀⎠\n",
              "↪                                "
            ],
            "text/latex": "$\\displaystyle \\cos{\\left(x_{0} \\right)} - \\left(x - x_{0}\\right) \\sin{\\left(x_{0} \\right)} - \\frac{\\left(x - x_{0}\\right)^{2} \\cos{\\left(x_{0} \\right)}}{2} + \\frac{\\left(x - x_{0}\\right)^{3} \\sin{\\left(x_{0} \\right)}}{6} + \\frac{\\left(x - x_{0}\\right)^{4} \\cos{\\left(x_{0} \\right)}}{24} + O\\left(\\left(x - x_{0}\\right)^{5}; x\\rightarrow x_{0}\\right)$"
          },
          "metadata": {},
          "execution_count": 19
        }
      ]
    },
    {
      "cell_type": "code",
      "metadata": {
        "id": "Z9pmRsOdK-sM",
        "colab": {
          "base_uri": "https://localhost:8080/",
          "height": 56
        },
        "outputId": "a8e44359-594e-4745-a3f0-76c72b08e255"
      },
      "source": [
        "xi = sym.Symbol('xi')\n",
        "Remainder = -(x-x0)**5*sym.sin(xi)/120\n",
        "Remainder"
      ],
      "execution_count": null,
      "outputs": [
        {
          "output_type": "execute_result",
          "data": {
            "text/plain": [
              "         5        \n",
              "-(x - x₀) ⋅sin(ξ) \n",
              "──────────────────\n",
              "       120        "
            ],
            "text/latex": "$\\displaystyle - \\frac{\\left(x - x_{0}\\right)^{5} \\sin{\\left(\\xi \\right)}}{120}$"
          },
          "metadata": {},
          "execution_count": 20
        }
      ]
    },
    {
      "cell_type": "markdown",
      "metadata": {
        "id": "CqhBjSNzM7Jz"
      },
      "source": [
        "By Taylor's remainder theorem, we know $\\xi \\in [x,x_0]$ (or $\\xi \\in [x_0,x]$ if $x_0 < x$) such that the above remainder is the error in the Taylor series. We don't know exactly what $\\xi$ is, but that's OK, because for any $\\xi$, we can just bound $|\\sin(\\xi)| \\le 1$.  So using this,..."
      ]
    },
    {
      "cell_type": "code",
      "metadata": {
        "id": "kbO87uahMoZC",
        "colab": {
          "base_uri": "https://localhost:8080/",
          "height": 56
        },
        "outputId": "d12ec16c-5d65-4f7c-f280-59b503d8e49a"
      },
      "source": [
        "RemainderBound = -(x-x0)**5/120\n",
        "RemainderBound"
      ],
      "execution_count": null,
      "outputs": [
        {
          "output_type": "execute_result",
          "data": {
            "text/plain": [
              "         5 \n",
              "-(x - x₀)  \n",
              "───────────\n",
              "    120    "
            ],
            "text/latex": "$\\displaystyle - \\frac{\\left(x - x_{0}\\right)^{5}}{120}$"
          },
          "metadata": {},
          "execution_count": 21
        }
      ]
    },
    {
      "cell_type": "code",
      "metadata": {
        "id": "csDn1GNMNdqW",
        "colab": {
          "base_uri": "https://localhost:8080/",
          "height": 37
        },
        "outputId": "cb85c287-c935-4d22-857d-b74c7279a945"
      },
      "source": [
        "# See https://docs.sympy.org/latest/tutorial/basic_operations.html\n",
        "RemainderBound.subs( [ (x,.75), (x0,math.pi/4) ])"
      ],
      "execution_count": null,
      "outputs": [
        {
          "output_type": "execute_result",
          "data": {
            "text/plain": [
              "4.63150782430020e-10"
            ],
            "text/latex": "$\\displaystyle 4.6315078243002 \\cdot 10^{-10}$"
          },
          "metadata": {},
          "execution_count": 22
        }
      ]
    },
    {
      "cell_type": "markdown",
      "metadata": {
        "id": "-EbkbRFTN9mP"
      },
      "source": [
        "To summarize, our Taylor series approximation had error $3.25 \\times 10^{-10}$.  We were able to use math to give an *a priori* bound that the error was no more than $4.63 \\times 10^{-10}$ (though in that bound, we disregarded potentially cancellation errors when summing the series)"
      ]
    }
  ]
}