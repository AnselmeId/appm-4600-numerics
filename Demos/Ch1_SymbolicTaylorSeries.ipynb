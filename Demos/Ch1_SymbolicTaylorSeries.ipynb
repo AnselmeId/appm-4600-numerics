{
  "nbformat": 4,
  "nbformat_minor": 0,
  "metadata": {
    "colab": {
      "name": "Ch1_SymbolicTaylorSeries.ipynb",
      "provenance": [],
      "authorship_tag": "ABX9TyO+pFCxUDmyKnhn2UJy+jX2",
      "include_colab_link": true
    },
    "kernelspec": {
      "name": "python3",
      "display_name": "Python 3"
    }
  },
  "cells": [
    {
      "cell_type": "markdown",
      "metadata": {
        "id": "view-in-github",
        "colab_type": "text"
      },
      "source": [
        "<a href=\"https://colab.research.google.com/github/stephenbeckr/numerical-analysis-class/blob/master/Demos/Ch1_SymbolicTaylorSeries.ipynb\" target=\"_parent\"><img src=\"https://colab.research.google.com/assets/colab-badge.svg\" alt=\"Open In Colab\"/></a>"
      ]
    },
    {
      "cell_type": "markdown",
      "metadata": {
        "id": "LNDLwuliDDql",
        "colab_type": "text"
      },
      "source": [
        "Manipulate Taylor series using the **SymPy** package in Python, following the tutorial at [scipy-lectures.org/packages/sympy.html](https://scipy-lectures.org/packages/sympy.html).  SymPy is used in [SageMath](https://www.sagemath.org/).\n",
        "\n",
        "You can do this in Maple, which is a bit old-school, or Mathematica (which we have a license for at CU).  Wolfram Alpha is another choice (by the company that makes Mathematica) though the free version does have some limitations.\n",
        "\n",
        "The nice thing about Python is that it is free and community supported, so if you take the time to use it, it won't go away. If you learn Mathematica now, you may not be able to use it in your job, since it's an expensive license."
      ]
    },
    {
      "cell_type": "code",
      "metadata": {
        "id": "zoGrsMYdCXq6",
        "colab_type": "code",
        "colab": {}
      },
      "source": [
        "# Load the package\n",
        "import sympy as sym\n",
        "from sympy import init_printing\n",
        "init_printing()  # This will make output look very nice!\n",
        "\n",
        "import math  # has things like math.pi (which is the numerical value of pi)"
      ],
      "execution_count": 2,
      "outputs": []
    },
    {
      "cell_type": "code",
      "metadata": {
        "id": "RJ3odjv1Dt6F",
        "colab_type": "code",
        "colab": {
          "base_uri": "https://localhost:8080/",
          "height": 40
        },
        "outputId": "28095ce3-048e-4587-e09c-0e82835625f7"
      },
      "source": [
        "# First, all symbolic variables must be declared. This is in contrast to Mathematica\n",
        "x = sym.Symbol('x')\n",
        "\n",
        "# Now, let's ask for a Taylor series expansion\n",
        "sym.series( sym.cos(x), x )"
      ],
      "execution_count": 3,
      "outputs": [
        {
          "output_type": "execute_result",
          "data": {
            "image/png": "[encoded data removed]",
            "text/latex": "$$1 - \\frac{x^{2}}{2} + \\frac{x^{4}}{24} + \\mathcal{O}\\left(x^{6}\\right)$$",
            "text/plain": [
              "     2    4        \n",
              "    x    x     ⎛ 6⎞\n",
              "1 - ── + ── + O⎝x ⎠\n",
              "    2    24        "
            ]
          },
          "metadata": {
            "tags": []
          },
          "execution_count": 3
        }
      ]
    },
    {
      "cell_type": "code",
      "metadata": {
        "id": "m5qRBVXUD0s9",
        "colab_type": "code",
        "colab": {}
      },
      "source": [
        "# We can see the Docstring for the function to see all the options\n",
        "?sym.series"
      ],
      "execution_count": 4,
      "outputs": []
    },
    {
      "cell_type": "markdown",
      "metadata": {
        "id": "Jw6zt3zMExbp",
        "colab_type": "text"
      },
      "source": [
        "Before going further, let's play with cos(pi/4)"
      ]
    },
    {
      "cell_type": "code",
      "metadata": {
        "id": "_IxXjVhHE_H6",
        "colab_type": "code",
        "colab": {
          "base_uri": "https://localhost:8080/",
          "height": 126
        },
        "outputId": "a52a0feb-b5d8-4cb9-cb4e-1277866cbc72"
      },
      "source": [
        "print( math.cos( math.pi/4 ) )\n",
        "# or, ask to print out 20 decimal places\n",
        "print( '%.20f' % math.cos( math.pi/4 ) )  # this is old-school: see https://docs.python.org/3/tutorial/inputoutput.html#old-string-formatting\n",
        "print( math.cos( sym.pi/4) )\n",
        "print( sym.cos( math.pi/4) )\n",
        "print( sym.cos( sym.pi/4) )\n",
        "sym.cos( sym.pi/4)  # same as above, but use fancy formatting"
      ],
      "execution_count": 6,
      "outputs": [
        {
          "output_type": "stream",
          "text": [
            "0.7071067811865476\n",
            "0.70710678118654757274\n",
            "0.7071067811865476\n",
            "0.707106781186548\n",
            "sqrt(2)/2\n"
          ],
          "name": "stdout"
        },
        {
          "output_type": "execute_result",
          "data": {
            "image/png": "[encoded data removed]",
            "text/latex": "$$\\frac{\\sqrt{2}}{2}$$",
            "text/plain": [
              "√2\n",
              "──\n",
              "2 "
            ]
          },
          "metadata": {
            "tags": []
          },
          "execution_count": 6
        }
      ]
    },
    {
      "cell_type": "markdown",
      "metadata": {
        "id": "gC1aH5zrGNYm",
        "colab_type": "text"
      },
      "source": [
        "Now let's explore the series. In particular, let's try to evaluate cos( .75 ), using only addition and multiplication, and a few \"memorized\" values of sine/cosine (let's assume that we memorize the fact that $\\cos( \\pi/4 ) = \\sqrt{2}/2$ and that $\\sin( \\pi/4 ) = \\sqrt{2}/2$.\n",
        "\n",
        "Since .75 is not that far from $\\pi/4 \\approx 0.785$, let's do a Taylor expansion of $\\cos$ around $\\pi/4$."
      ]
    },
    {
      "cell_type": "code",
      "metadata": {
        "id": "XFery7hKFwYb",
        "colab_type": "code",
        "colab": {
          "base_uri": "https://localhost:8080/",
          "height": 47
        },
        "outputId": "8bb68cd7-eb53-47b0-9137-94906b41e9de"
      },
      "source": [
        "Taylor = sym.series( sym.cos(x), x, x0=sym.pi/4, n=5)\n",
        "Taylor"
      ],
      "execution_count": 7,
      "outputs": [
        {
          "output_type": "execute_result",
          "data": {
            "image/png": "[encoded data removed]",
            "text/latex": "$$\\frac{\\sqrt{2}}{2} - \\frac{\\sqrt{2}}{2} \\left(x - \\frac{\\pi}{4}\\right) - \\frac{\\sqrt{2}}{4} \\left(x - \\frac{\\pi}{4}\\right)^{2} + \\frac{\\sqrt{2}}{12} \\left(x - \\frac{\\pi}{4}\\right)^{3} + \\frac{\\sqrt{2}}{48} \\left(x - \\frac{\\pi}{4}\\right)^{4} + \\mathcal{O}\\left(\\left(x - \\frac{\\pi}{4}\\right)^{5}; x\\rightarrow \\frac{\\pi}{4}\\right)$$",
            "text/plain": [
              "                            2             3             4                     \n",
              "        ⎛    π⎞      ⎛    π⎞       ⎛    π⎞       ⎛    π⎞                      \n",
              "     √2⋅⎜x - ─⎟   √2⋅⎜x - ─⎟    √2⋅⎜x - ─⎟    √2⋅⎜x - ─⎟     ⎛       5       ⎞\n",
              "√2      ⎝    4⎠      ⎝    4⎠       ⎝    4⎠       ⎝    4⎠     ⎜⎛    π⎞       π⎟\n",
              "── - ────────── - ─────────── + ─────────── + ─────────── + O⎜⎜x - ─⎟ ; x → ─⎟\n",
              "2        2             4             12            48        ⎝⎝    4⎠       4⎠"
            ]
          },
          "metadata": {
            "tags": []
          },
          "execution_count": 7
        }
      ]
    },
    {
      "cell_type": "code",
      "metadata": {
        "id": "n96sKGoaGofK",
        "colab_type": "code",
        "colab": {
          "base_uri": "https://localhost:8080/",
          "height": 38
        },
        "outputId": "26f1274e-7d35-4b94-a065-f862df0d54a2"
      },
      "source": [
        "Taylor.subs(x,.75) # Not what we want"
      ],
      "execution_count": 8,
      "outputs": [
        {
          "output_type": "execute_result",
          "data": {
            "image/png": "[encoded data removed]",
            "text/latex": "$$\\mathcal{O}\\left(1\\right)$$",
            "text/plain": [
              "O(1)"
            ]
          },
          "metadata": {
            "tags": []
          },
          "execution_count": 8
        }
      ]
    },
    {
      "cell_type": "code",
      "metadata": {
        "id": "YoFBLV1uIhIV",
        "colab_type": "code",
        "colab": {
          "base_uri": "https://localhost:8080/",
          "height": 70
        },
        "outputId": "b78268a7-3a8b-4bf0-97da-63fa55ea2612"
      },
      "source": [
        "Taylor.evalf( subs={x: .75})"
      ],
      "execution_count": 9,
      "outputs": [
        {
          "output_type": "execute_result",
          "data": {
            "image/png": "[encoded data removed]",
            "text/latex": "$$1.26246714845634 - 0.353553390593274 \\left(x - 0.785398163397448\\right)^{2} + 0.117851130197758 \\left(x - 0.785398163397448\\right)^{3} + 0.0294627825494395 \\left(x - 0.785398163397448\\right)^{4} - 0.707106781186548 x + \\mathcal{O}\\left(\\left(x - \\frac{\\pi}{4}\\right)^{5}; x\\rightarrow \\frac{\\pi}{4}\\right)$$",
            "text/plain": [
              "                                                                              \n",
              "                                                            2                 \n",
              "1.26246714845634 - 0.353553390593274⋅(x - 0.785398163397448)  + 0.117851130197\n",
              "                                                                              \n",
              "\n",
              "                                                                              \n",
              "                           3                                             4    \n",
              "758⋅(x - 0.785398163397448)  + 0.0294627825494395⋅(x - 0.785398163397448)  - 0\n",
              "                                                                              \n",
              "\n",
              "                      ⎛       5       ⎞\n",
              "                      ⎜⎛    π⎞       π⎟\n",
              ".707106781186548⋅x + O⎜⎜x - ─⎟ ; x → ─⎟\n",
              "                      ⎝⎝    4⎠       4⎠"
            ]
          },
          "metadata": {
            "tags": []
          },
          "execution_count": 9
        }
      ]
    },
    {
      "cell_type": "code",
      "metadata": {
        "id": "2Mz9Y2OHJP8Q",
        "colab_type": "code",
        "colab": {
          "base_uri": "https://localhost:8080/",
          "height": 41
        },
        "outputId": "248c1ce2-97d3-4237-d0f7-87468cdd6951"
      },
      "source": [
        "# Numerically evaluating this was a problem, because of the O( x^5 ) term. Let's remove it.\n",
        "# See https://docs.sympy.org/latest/tutorial/calculus.html\n",
        "Taylor.removeO()"
      ],
      "execution_count": 10,
      "outputs": [
        {
          "output_type": "execute_result",
          "data": {
            "image/png": "[encoded data removed]",
            "text/latex": "$$\\frac{\\sqrt{2}}{48} \\left(x - \\frac{\\pi}{4}\\right)^{4} + \\frac{\\sqrt{2}}{12} \\left(x - \\frac{\\pi}{4}\\right)^{3} - \\frac{\\sqrt{2}}{4} \\left(x - \\frac{\\pi}{4}\\right)^{2} - \\frac{\\sqrt{2}}{2} \\left(x - \\frac{\\pi}{4}\\right) + \\frac{\\sqrt{2}}{2}$$",
            "text/plain": [
              "          4             3             2                  \n",
              "   ⎛    π⎞       ⎛    π⎞       ⎛    π⎞       ⎛    π⎞     \n",
              "√2⋅⎜x - ─⎟    √2⋅⎜x - ─⎟    √2⋅⎜x - ─⎟    √2⋅⎜x - ─⎟     \n",
              "   ⎝    4⎠       ⎝    4⎠       ⎝    4⎠       ⎝    4⎠   √2\n",
              "─────────── + ─────────── - ─────────── - ────────── + ──\n",
              "     48            12            4            2        2 "
            ]
          },
          "metadata": {
            "tags": []
          },
          "execution_count": 10
        }
      ]
    },
    {
      "cell_type": "code",
      "metadata": {
        "id": "3IAVBOLaKrn1",
        "colab_type": "code",
        "colab": {
          "base_uri": "https://localhost:8080/",
          "height": 68
        },
        "outputId": "f5337a99-593d-4553-947b-74f3e5365493"
      },
      "source": [
        "guess = Taylor.removeO().subs(x,.75).evalf()\n",
        "print(\"Our guess is: \\t%.15f\" % guess)\n",
        "print(\"True value is: \\t%.15f\" % math.cos( .75) )\n",
        "print(\"Discrepency is: \\t%.3e\" % abs( guess - math.cos(.75) ))"
      ],
      "execution_count": 31,
      "outputs": [
        {
          "output_type": "stream",
          "text": [
            "Our guess is: \t0.731688868548266\n",
            "True value is: \t0.731688868873821\n",
            "Discrepency is: \t3.256e-10\n"
          ],
          "name": "stdout"
        }
      ]
    },
    {
      "cell_type": "markdown",
      "metadata": {
        "id": "Z3sKMUtuLldm",
        "colab_type": "text"
      },
      "source": [
        "Our *absolute* error is about $3\\times 10^{-10}$. Is this what we'd expect? Let's use math to be able to **guarantee** a small error (without having known the true answer first)\n",
        "\n",
        "Let's look at the remainder term in the Taylor series"
      ]
    },
    {
      "cell_type": "code",
      "metadata": {
        "id": "CzffLsu2K2e6",
        "colab_type": "code",
        "colab": {
          "base_uri": "https://localhost:8080/",
          "height": 47
        },
        "outputId": "de699bfb-62fb-4f71-d8af-7ccae5c15173"
      },
      "source": [
        "x0=sym.Symbol('x0')\n",
        "sym.series( sym.cos(x), x, x0=x0, n=5)"
      ],
      "execution_count": 24,
      "outputs": [
        {
          "output_type": "execute_result",
          "data": {
            "image/png": "[encoded data removed]",
            "text/latex": "$$\\cos{\\left (x_{0} \\right )} - \\left(x - x_{0}\\right) \\sin{\\left (x_{0} \\right )} - \\frac{1}{2} \\left(x - x_{0}\\right)^{2} \\cos{\\left (x_{0} \\right )} + \\frac{1}{6} \\left(x - x_{0}\\right)^{3} \\sin{\\left (x_{0} \\right )} + \\frac{1}{24} \\left(x - x_{0}\\right)^{4} \\cos{\\left (x_{0} \\right )} + \\mathcal{O}\\left(\\left(x - x_{0}\\right)^{5}; x\\rightarrow x_{0}\\right)$$",
            "text/plain": [
              "                                     2                   3                   4\n",
              "                             (x - x₀) ⋅cos(x₀)   (x - x₀) ⋅sin(x₀)   (x - x₀) \n",
              "cos(x₀) - (x - x₀)⋅sin(x₀) - ───────────────── + ───────────────── + ─────────\n",
              "                                     2                   6                   2\n",
              "\n",
              "                               \n",
              "⋅cos(x₀)    ⎛        5        ⎞\n",
              "──────── + O⎝(x - x₀) ; x → x₀⎠\n",
              "4                              "
            ]
          },
          "metadata": {
            "tags": []
          },
          "execution_count": 24
        }
      ]
    },
    {
      "cell_type": "code",
      "metadata": {
        "id": "Z9pmRsOdK-sM",
        "colab_type": "code",
        "colab": {
          "base_uri": "https://localhost:8080/",
          "height": 39
        },
        "outputId": "3e9bc62f-9ebb-4b0d-dbe2-ad023093007e"
      },
      "source": [
        "xi = sym.Symbol('xi')\n",
        "Remainder = -(x-x0)**5*sym.sin(xi)/120\n",
        "Remainder"
      ],
      "execution_count": 27,
      "outputs": [
        {
          "output_type": "execute_result",
          "data": {
            "image/png": "[encoded data removed]",
            "text/latex": "$$- \\frac{1}{120} \\left(x - x_{0}\\right)^{5} \\sin{\\left (\\xi \\right )}$$",
            "text/plain": [
              "         5        \n",
              "-(x - x₀) ⋅sin(ξ) \n",
              "──────────────────\n",
              "       120        "
            ]
          },
          "metadata": {
            "tags": []
          },
          "execution_count": 27
        }
      ]
    },
    {
      "cell_type": "markdown",
      "metadata": {
        "id": "CqhBjSNzM7Jz",
        "colab_type": "text"
      },
      "source": [
        "By Taylor's remainder theorem, we know $\\xi \\in [x,x_0]$ (or $\\xi \\in [x_0,x]$ if $x_0 < x$) such that the above remainder is the error in the Taylor series. We don't know exactly what $\\xi$ is, but that's OK, because for any $\\xi$, we can just bound $|\\sin(\\xi)| \\le 1$.  So using this,..."
      ]
    },
    {
      "cell_type": "code",
      "metadata": {
        "id": "kbO87uahMoZC",
        "colab_type": "code",
        "colab": {
          "base_uri": "https://localhost:8080/",
          "height": 39
        },
        "outputId": "6cc7770e-f90b-47ba-ebf3-71d9ef059a6c"
      },
      "source": [
        "RemainderBound = -(x-x0)**5/120\n",
        "RemainderBound"
      ],
      "execution_count": 29,
      "outputs": [
        {
          "output_type": "execute_result",
          "data": {
            "image/png": "[encoded data removed]",
            "text/latex": "$$- \\frac{1}{120} \\left(x - x_{0}\\right)^{5}$$",
            "text/plain": [
              "         5 \n",
              "-(x - x₀)  \n",
              "───────────\n",
              "    120    "
            ]
          },
          "metadata": {
            "tags": []
          },
          "execution_count": 29
        }
      ]
    },
    {
      "cell_type": "code",
      "metadata": {
        "id": "csDn1GNMNdqW",
        "colab_type": "code",
        "colab": {
          "base_uri": "https://localhost:8080/",
          "height": 37
        },
        "outputId": "072428e2-1a20-432a-886e-a0463b6dc180"
      },
      "source": [
        "# See https://docs.sympy.org/latest/tutorial/basic_operations.html\n",
        "RemainderBound.subs( [ (x,.75), (x0,math.pi/4) ])"
      ],
      "execution_count": 30,
      "outputs": [
        {
          "output_type": "execute_result",
          "data": {
            "image/png": "[encoded data removed]",
            "text/latex": "$$4.6315078243002 \\cdot 10^{-10}$$",
            "text/plain": [
              "4.63150782430020e-10"
            ]
          },
          "metadata": {
            "tags": []
          },
          "execution_count": 30
        }
      ]
    },
    {
      "cell_type": "markdown",
      "metadata": {
        "id": "-EbkbRFTN9mP",
        "colab_type": "text"
      },
      "source": [
        "To summarize, our Taylor series approximation had error $3.25 \\times 10^{-10}$.  We were able to use math to give an *a priori* bound that the error was no more than $4.63 \\times 10^{-10}$ (though in that bound, we disregarded potentially cancellation errors when summing the series)"
      ]
    }
  ]
}