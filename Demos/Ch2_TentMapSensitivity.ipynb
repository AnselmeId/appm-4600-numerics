{
  "nbformat": 4,
  "nbformat_minor": 0,
  "metadata": {
    "colab": {
      "name": "Ch2_TentMapSensitivity.ipynb",
      "provenance": [],
      "authorship_tag": "ABX9TyNjsN+EeaEs+FV/ByiHROYr",
      "include_colab_link": true
    },
    "kernelspec": {
      "name": "python3",
      "display_name": "Python 3"
    }
  },
  "cells": [
    {
      "cell_type": "markdown",
      "metadata": {
        "id": "view-in-github",
        "colab_type": "text"
      },
      "source": [
        "<a href=\"https://colab.research.google.com/github/stephenbeckr/numerical-analysis-class/blob/master/Demos/Ch2_TentMapSensitivity.ipynb\" target=\"_parent\"><img src=\"https://colab.research.google.com/assets/colab-badge.svg\" alt=\"Open In Colab\"/></a>"
      ]
    },
    {
      "cell_type": "markdown",
      "metadata": {
        "id": "EO0yZqtEw0v9",
        "colab_type": "text"
      },
      "source": [
        "# Sensitivity of the tent map\n",
        "\n",
        "For $\\mu > 1$, fixed point iterations with the [Tent Map](https://en.wikipedia.org/wiki/Tent_map) are highly ill-conditioned, meaning that small changes in the input (e.g., starting point) lead to very different long-run behavior.  We see an exmaple of this, for $x= 0.6$ starting one iteration sequence, and another iteration sequence is identical except it starts at $y= 0.5 + 10^{-14}$. For a while, both sequences behave the same..."
      ]
    },
    {
      "cell_type": "code",
      "metadata": {
        "id": "7fuMK8Omk_m-",
        "colab_type": "code",
        "colab": {
          "base_uri": "https://localhost:8080/",
          "height": 1000
        },
        "outputId": "e3d05853-5548-4f9a-9ba9-c1ec8913dabe"
      },
      "source": [
        "import numpy as np\n",
        "%matplotlib inline\n",
        "import matplotlib.pyplot as plt\n",
        "plt.style.use('ggplot')\n",
        "mu = 1.5\n",
        "g  = lambda x : mu*( -abs(x-.5) + .5 )\n",
        "\n",
        "x  = .6\n",
        "y  = x + 1e-14\n",
        "\n",
        "N   = int(1e2)\n",
        "X   = np.zeros(N)\n",
        "Y   = np.zeros(N)\n",
        "for i in range(N):\n",
        "  X[i] = x\n",
        "  Y[i] = y\n",
        "  print(\"Iter {:4d}, (x,y) are ({:12.10f}, {:12.10f}), and |x-y| is {:13.10f}\".format(i,x,y,abs(x-y)))\n",
        "  x   = g(x)\n",
        "  y   = g(y)"
      ],
      "execution_count": 16,
      "outputs": [
        {
          "output_type": "stream",
          "text": [
            "Iter    0, (x,y) are (0.6000000000, 0.6000000000), and |x-y| is  0.0000000000\n",
            "Iter    1, (x,y) are (0.6000000000, 0.6000000000), and |x-y| is  0.0000000000\n",
            "Iter    2, (x,y) are (0.6000000000, 0.6000000000), and |x-y| is  0.0000000000\n",
            "Iter    3, (x,y) are (0.6000000000, 0.6000000000), and |x-y| is  0.0000000000\n",
            "Iter    4, (x,y) are (0.6000000000, 0.6000000000), and |x-y| is  0.0000000000\n",
            "Iter    5, (x,y) are (0.6000000000, 0.6000000000), and |x-y| is  0.0000000000\n",
            "Iter    6, (x,y) are (0.6000000000, 0.6000000000), and |x-y| is  0.0000000000\n",
            "Iter    7, (x,y) are (0.6000000000, 0.6000000000), and |x-y| is  0.0000000000\n",
            "Iter    8, (x,y) are (0.6000000000, 0.6000000000), and |x-y| is  0.0000000000\n",
            "Iter    9, (x,y) are (0.6000000000, 0.6000000000), and |x-y| is  0.0000000000\n",
            "Iter   10, (x,y) are (0.6000000000, 0.6000000000), and |x-y| is  0.0000000000\n",
            "Iter   11, (x,y) are (0.6000000000, 0.6000000000), and |x-y| is  0.0000000000\n",
            "Iter   12, (x,y) are (0.6000000000, 0.6000000000), and |x-y| is  0.0000000000\n",
            "Iter   13, (x,y) are (0.6000000000, 0.6000000000), and |x-y| is  0.0000000000\n",
            "Iter   14, (x,y) are (0.6000000000, 0.6000000000), and |x-y| is  0.0000000000\n",
            "Iter   15, (x,y) are (0.6000000000, 0.6000000000), and |x-y| is  0.0000000000\n",
            "Iter   16, (x,y) are (0.6000000000, 0.6000000000), and |x-y| is  0.0000000000\n",
            "Iter   17, (x,y) are (0.6000000000, 0.6000000000), and |x-y| is  0.0000000000\n",
            "Iter   18, (x,y) are (0.6000000000, 0.6000000000), and |x-y| is  0.0000000000\n",
            "Iter   19, (x,y) are (0.6000000000, 0.6000000000), and |x-y| is  0.0000000000\n",
            "Iter   20, (x,y) are (0.6000000000, 0.6000000000), and |x-y| is  0.0000000000\n",
            "Iter   21, (x,y) are (0.6000000000, 0.6000000000), and |x-y| is  0.0000000001\n",
            "Iter   22, (x,y) are (0.6000000000, 0.6000000001), and |x-y| is  0.0000000001\n",
            "Iter   23, (x,y) are (0.6000000000, 0.5999999999), and |x-y| is  0.0000000001\n",
            "Iter   24, (x,y) are (0.6000000000, 0.6000000002), and |x-y| is  0.0000000002\n",
            "Iter   25, (x,y) are (0.6000000000, 0.5999999997), and |x-y| is  0.0000000003\n",
            "Iter   26, (x,y) are (0.6000000000, 0.6000000004), and |x-y| is  0.0000000004\n",
            "Iter   27, (x,y) are (0.6000000000, 0.5999999994), and |x-y| is  0.0000000006\n",
            "Iter   28, (x,y) are (0.6000000000, 0.6000000009), and |x-y| is  0.0000000009\n",
            "Iter   29, (x,y) are (0.6000000000, 0.5999999987), and |x-y| is  0.0000000013\n",
            "Iter   30, (x,y) are (0.6000000000, 0.6000000019), and |x-y| is  0.0000000019\n",
            "Iter   31, (x,y) are (0.6000000000, 0.5999999971), and |x-y| is  0.0000000029\n",
            "Iter   32, (x,y) are (0.6000000000, 0.6000000043), and |x-y| is  0.0000000044\n",
            "Iter   33, (x,y) are (0.6000000000, 0.5999999935), and |x-y| is  0.0000000065\n",
            "Iter   34, (x,y) are (0.5999999999, 0.6000000097), and |x-y| is  0.0000000098\n",
            "Iter   35, (x,y) are (0.6000000001, 0.5999999854), and |x-y| is  0.0000000147\n",
            "Iter   36, (x,y) are (0.5999999998, 0.6000000219), and |x-y| is  0.0000000220\n",
            "Iter   37, (x,y) are (0.6000000002, 0.5999999672), and |x-y| is  0.0000000330\n",
            "Iter   38, (x,y) are (0.5999999997, 0.6000000492), and |x-y| is  0.0000000496\n",
            "Iter   39, (x,y) are (0.6000000005, 0.5999999262), and |x-y| is  0.0000000743\n",
            "Iter   40, (x,y) are (0.5999999992, 0.6000001107), and |x-y| is  0.0000001115\n",
            "Iter   41, (x,y) are (0.6000000012, 0.5999998339), and |x-y| is  0.0000001673\n",
            "Iter   42, (x,y) are (0.5999999982, 0.6000002491), and |x-y| is  0.0000002509\n",
            "Iter   43, (x,y) are (0.6000000027, 0.5999996263), and |x-y| is  0.0000003763\n",
            "Iter   44, (x,y) are (0.5999999960, 0.6000005605), and |x-y| is  0.0000005645\n",
            "Iter   45, (x,y) are (0.6000000060, 0.5999991592), and |x-y| is  0.0000008468\n",
            "Iter   46, (x,y) are (0.5999999910, 0.6000012612), and |x-y| is  0.0000012702\n",
            "Iter   47, (x,y) are (0.6000000134, 0.5999981082), and |x-y| is  0.0000019052\n",
            "Iter   48, (x,y) are (0.5999999798, 0.6000028377), and |x-y| is  0.0000028579\n",
            "Iter   49, (x,y) are (0.6000000302, 0.5999957434), and |x-y| is  0.0000042868\n",
            "Iter   50, (x,y) are (0.5999999546, 0.6000063848), and |x-y| is  0.0000064302\n",
            "Iter   51, (x,y) are (0.6000000681, 0.5999904227), and |x-y| is  0.0000096453\n",
            "Iter   52, (x,y) are (0.5999998979, 0.6000143659), and |x-y| is  0.0000144680\n",
            "Iter   53, (x,y) are (0.6000001531, 0.5999784511), and |x-y| is  0.0000217020\n",
            "Iter   54, (x,y) are (0.5999997703, 0.6000323233), and |x-y| is  0.0000325530\n",
            "Iter   55, (x,y) are (0.6000003445, 0.5999515151), and |x-y| is  0.0000488294\n",
            "Iter   56, (x,y) are (0.5999994832, 0.6000727274), and |x-y| is  0.0000732442\n",
            "Iter   57, (x,y) are (0.6000007752, 0.5998909089), and |x-y| is  0.0001098663\n",
            "Iter   58, (x,y) are (0.5999988372, 0.6001636366), and |x-y| is  0.0001647994\n",
            "Iter   59, (x,y) are (0.6000017441, 0.5997545451), and |x-y| is  0.0002471991\n",
            "Iter   60, (x,y) are (0.5999973838, 0.6003681824), and |x-y| is  0.0003707986\n",
            "Iter   61, (x,y) are (0.6000039243, 0.5994477264), and |x-y| is  0.0005561980\n",
            "Iter   62, (x,y) are (0.5999941135, 0.6008284104), and |x-y| is  0.0008342969\n",
            "Iter   63, (x,y) are (0.6000088298, 0.5987573844), and |x-y| is  0.0012514454\n",
            "Iter   64, (x,y) are (0.5999867554, 0.6018639234), and |x-y| is  0.0018771681\n",
            "Iter   65, (x,y) are (0.6000198669, 0.5972041148), and |x-y| is  0.0028157521\n",
            "Iter   66, (x,y) are (0.5999701996, 0.6041938278), and |x-y| is  0.0042236282\n",
            "Iter   67, (x,y) are (0.6000447006, 0.5937092584), and |x-y| is  0.0063354423\n",
            "Iter   68, (x,y) are (0.5999329490, 0.6094361125), and |x-y| is  0.0095031634\n",
            "Iter   69, (x,y) are (0.6001005764, 0.5858458313), and |x-y| is  0.0142547451\n",
            "Iter   70, (x,y) are (0.5998491354, 0.6212312530), and |x-y| is  0.0213821177\n",
            "Iter   71, (x,y) are (0.6002262970, 0.5681531204), and |x-y| is  0.0320731765\n",
            "Iter   72, (x,y) are (0.5996605545, 0.6477703193), and |x-y| is  0.0481097648\n",
            "Iter   73, (x,y) are (0.6005091682, 0.5283445210), and |x-y| is  0.0721646472\n",
            "Iter   74, (x,y) are (0.5992362477, 0.7074832185), and |x-y| is  0.1082469708\n",
            "Iter   75, (x,y) are (0.6011456284, 0.4387751722), and |x-y| is  0.1623704562\n",
            "Iter   76, (x,y) are (0.5982815574, 0.6581627583), and |x-y| is  0.0598812009\n",
            "Iter   77, (x,y) are (0.6025776639, 0.5127558625), and |x-y| is  0.0898218014\n",
            "Iter   78, (x,y) are (0.5961335041, 0.7308662062), and |x-y| is  0.1347327021\n",
            "Iter   79, (x,y) are (0.6057997438, 0.4037006907), and |x-y| is  0.2020990531\n",
            "Iter   80, (x,y) are (0.5913003842, 0.6055510361), and |x-y| is  0.0142506518\n",
            "Iter   81, (x,y) are (0.6130494236, 0.5916734459), and |x-y| is  0.0213759777\n",
            "Iter   82, (x,y) are (0.5804258645, 0.6124898311), and |x-y| is  0.0320639666\n",
            "Iter   83, (x,y) are (0.6293612032, 0.5812652533), and |x-y| is  0.0480959499\n",
            "Iter   84, (x,y) are (0.5559581952, 0.6281021200), and |x-y| is  0.0721439248\n",
            "Iter   85, (x,y) are (0.6660627072, 0.5578468200), and |x-y| is  0.1082158872\n",
            "Iter   86, (x,y) are (0.5009059393, 0.6632297700), and |x-y| is  0.1623238308\n",
            "Iter   87, (x,y) are (0.7486410911, 0.5051553450), and |x-y| is  0.2434857461\n",
            "Iter   88, (x,y) are (0.3770383634, 0.7422669826), and |x-y| is  0.3652286192\n",
            "Iter   89, (x,y) are (0.5655575450, 0.3865995262), and |x-y| is  0.1789580189\n",
            "Iter   90, (x,y) are (0.6516636824, 0.5798992892), and |x-y| is  0.0717643932\n",
            "Iter   91, (x,y) are (0.5225044764, 0.6301510662), and |x-y| is  0.1076465898\n",
            "Iter   92, (x,y) are (0.7162432855, 0.5547734008), and |x-y| is  0.1614698847\n",
            "Iter   93, (x,y) are (0.4256350718, 0.6678398989), and |x-y| is  0.2422048271\n",
            "Iter   94, (x,y) are (0.6384526077, 0.4982401517), and |x-y| is  0.1402124560\n",
            "Iter   95, (x,y) are (0.5423210885, 0.7473602276), and |x-y| is  0.2050391391\n",
            "Iter   96, (x,y) are (0.6865183673, 0.3789596586), and |x-y| is  0.3075587087\n",
            "Iter   97, (x,y) are (0.4702224490, 0.5684394879), and |x-y| is  0.0982170389\n",
            "Iter   98, (x,y) are (0.7053336736, 0.6473407681), and |x-y| is  0.0579929055\n",
            "Iter   99, (x,y) are (0.4419994897, 0.5289888478), and |x-y| is  0.0869893582\n"
          ],
          "name": "stdout"
        }
      ]
    },
    {
      "cell_type": "markdown",
      "metadata": {
        "id": "Vu_OA7S-wTld",
        "colab_type": "text"
      },
      "source": [
        "We see that while both starting points lead to almost the same sequences for a while, after about 70 iterations, the sequences start to look quite different. Another way to see this is with a plot:"
      ]
    },
    {
      "cell_type": "code",
      "metadata": {
        "id": "uVg8CD4ll6Xc",
        "colab_type": "code",
        "colab": {
          "base_uri": "https://localhost:8080/",
          "height": 265
        },
        "outputId": "aa7aaf76-0ac0-40e0-8ca0-1712a48fb3a8"
      },
      "source": [
        "plt.plot( X );\n",
        "plt.plot( Y );\n",
        "plt.xlim(left=50);"
      ],
      "execution_count": 19,
      "outputs": [
        {
          "output_type": "display_data",
          "data": {
            "image/png": "[encoded data removed]",
            "text/plain": [
              "<Figure size 432x288 with 1 Axes>"
            ]
          },
          "metadata": {
            "tags": []
          }
        }
      ]
    },
    {
      "cell_type": "markdown",
      "metadata": {
        "id": "Okz4NGAiwdMp",
        "colab_type": "text"
      },
      "source": [
        "Another  thing we can ask for is the correlation (see [Python correlation tutorial](https://realpython.com/numpy-scipy-pandas-correlation-python/)). For the first 60 terms of the sequence, the two sequences are highly correlated (well, both sequences are nearly static; we see a negative correlation, but don't read too much into this)"
      ]
    },
    {
      "cell_type": "code",
      "metadata": {
        "id": "fn18nqgfvXX2",
        "colab_type": "code",
        "colab": {
          "base_uri": "https://localhost:8080/",
          "height": 34
        },
        "outputId": "2ac89b92-a2c1-4505-81be-1b71638b9b26"
      },
      "source": [
        "c = np.corrcoef( X[:60], Y[:60] )\n",
        "print(\"The Pearson correlation, for the first 60 terms, is \", c[0][1] )"
      ],
      "execution_count": 22,
      "outputs": [
        {
          "output_type": "stream",
          "text": [
            "The Pearson correlation, for the first 60 terms, is  -0.9999999999999999\n"
          ],
          "name": "stdout"
        }
      ]
    },
    {
      "cell_type": "markdown",
      "metadata": {
        "id": "VHZ8IJIHwvdX",
        "colab_type": "text"
      },
      "source": [
        "Now ask for the correlation of the last 30 terms. We see it's closer to 0 (uncorrelated)."
      ]
    },
    {
      "cell_type": "code",
      "metadata": {
        "id": "qIL0wvUTvvTI",
        "colab_type": "code",
        "colab": {
          "base_uri": "https://localhost:8080/",
          "height": 34
        },
        "outputId": "c2e8e7cf-d948-43d7-8b28-595f4f71228e"
      },
      "source": [
        "c = np.corrcoef( X[-30:], Y[-30:] )\n",
        "print(\"The Pearson correlation, for the last 30 terms, is \", c[0][1] )"
      ],
      "execution_count": 25,
      "outputs": [
        {
          "output_type": "stream",
          "text": [
            "The Pearson correlation, for the last 30 terms, is  -0.3737995526768398\n"
          ],
          "name": "stdout"
        }
      ]
    },
    {
      "cell_type": "code",
      "metadata": {
        "id": "PW6ZRU0hwNDX",
        "colab_type": "code",
        "colab": {}
      },
      "source": [
        ""
      ],
      "execution_count": null,
      "outputs": []
    }
  ]
}