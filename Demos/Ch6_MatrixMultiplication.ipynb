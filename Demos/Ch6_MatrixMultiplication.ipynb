{
  "nbformat": 4,
  "nbformat_minor": 0,
  "metadata": {
    "colab": {
      "name": "Ch6_MatrixMultiplication.ipynb",
      "provenance": [],
      "collapsed_sections": [],
      "authorship_tag": "ABX9TyNYluMxl2ff0NCRD5qr7euA",
      "include_colab_link": true
    },
    "kernelspec": {
      "name": "python3",
      "display_name": "Python 3"
    }
  },
  "cells": [
    {
      "cell_type": "markdown",
      "metadata": {
        "id": "view-in-github",
        "colab_type": "text"
      },
      "source": [
        "<a href=\"https://colab.research.google.com/github/stephenbeckr/numerical-analysis-class/blob/master/Demos/Ch6_MatrixMultiplication.ipynb\" target=\"_parent\"><img src=\"https://colab.research.google.com/assets/colab-badge.svg\" alt=\"Open In Colab\"/></a>"
      ]
    },
    {
      "cell_type": "markdown",
      "metadata": {
        "id": "svpUM6IqyFCU"
      },
      "source": [
        "# Matrix Multiplication\n",
        "\n",
        "1. Writing our own code and comparing to `numpy`\n",
        "2. Level-3 BLAS vs repeated level-2 BLAS calls\n",
        "3. Blocking/caching\n",
        "\n",
        "https://github.com/mitmath/18335#lecture-11-feb-26\n",
        "\n",
        "https://github.com/mitmath/18335/blob/master/notes/matmuls.pdf\n",
        "\n",
        "https://github.com/mitmath/18335/blob/master/notes/Memory-and-Matrices.ipynb"
      ]
    },
    {
      "cell_type": "code",
      "metadata": {
        "colab": {
          "base_uri": "https://localhost:8080/"
        },
        "id": "3d3eHRYGyBX9",
        "outputId": "70fa85b7-c687-4e20-f9fd-22dda13cb828"
      },
      "source": [
        "# import os\n",
        "# os.environ[\"MKL_NUM_THREADS\"] = \"1\" \n",
        "# os.environ[\"NUMEXPR_NUM_THREADS\"] = \"1\" \n",
        "# os.environ[\"OMP_NUM_THREADS\"] = \"1\"\n",
        "# https://stackoverflow.com/a/51954326\n",
        "\n",
        "import numpy as np\n",
        "from numpy.random import default_rng\n",
        "rng = default_rng()\n",
        "from timeit import timeit, time\n",
        "np.show_config()"
      ],
      "execution_count": 28,
      "outputs": [
        {
          "output_type": "stream",
          "text": [
            "blas_mkl_info:\n",
            "  NOT AVAILABLE\n",
            "blis_info:\n",
            "  NOT AVAILABLE\n",
            "openblas_info:\n",
            "    libraries = ['openblas', 'openblas']\n",
            "    library_dirs = ['/usr/local/lib']\n",
            "    language = c\n",
            "    define_macros = [('HAVE_CBLAS', None)]\n",
            "blas_opt_info:\n",
            "    libraries = ['openblas', 'openblas']\n",
            "    library_dirs = ['/usr/local/lib']\n",
            "    language = c\n",
            "    define_macros = [('HAVE_CBLAS', None)]\n",
            "lapack_mkl_info:\n",
            "  NOT AVAILABLE\n",
            "openblas_lapack_info:\n",
            "    libraries = ['openblas', 'openblas']\n",
            "    library_dirs = ['/usr/local/lib']\n",
            "    language = c\n",
            "    define_macros = [('HAVE_CBLAS', None)]\n",
            "lapack_opt_info:\n",
            "    libraries = ['openblas', 'openblas']\n",
            "    library_dirs = ['/usr/local/lib']\n",
            "    language = c\n",
            "    define_macros = [('HAVE_CBLAS', None)]\n"
          ],
          "name": "stdout"
        }
      ]
    },
    {
      "cell_type": "code",
      "metadata": {
        "colab": {
          "base_uri": "https://localhost:8080/"
        },
        "id": "vLFUDj3A2tpZ",
        "outputId": "5d112637-f211-4226-8d37-bc52d12885a7"
      },
      "source": [
        "# Simplified from https://stackoverflow.com/a/29582987\n",
        "import ctypes\n",
        "import contextlib\n",
        "def set_num_threads(n):\n",
        "    \"\"\"Set the current number of threads used by the OpenBLAS server.\"\"\"\n",
        "    openblas_lib.openblas_set_num_threads(int(n))\n",
        "def get_num_threads():\n",
        "    \"\"\"Get the current number of threads used by the OpenBLAS server.\"\"\"\n",
        "    return openblas_lib.openblas_get_num_threads()\n",
        "@contextlib.contextmanager\n",
        "def num_threads(n):\n",
        "  \"\"\"Temporarily changes the number of OpenBLAS threads.\n",
        "  Use like\n",
        "  with num_threads(1):\n",
        "    np.dot(x, y)\n",
        "  \"\"\"\n",
        "  set_num_threads(n)\n",
        "\n",
        "openblas_lib = ctypes.cdll.LoadLibrary('libopenblas.so.0')\n",
        "print(\"We have\",openblas_lib.openblas_get_num_procs(),\"cores available\")\n",
        "\n",
        "def matprint(mat, fmt=\"g\",roundToDecimal=3):\n",
        "  # from https://gist.github.com/braingineer/d801735dac07ff3ac4d746e1f218ab75\n",
        "  # Modified to round\n",
        "  if roundToDecimal is not None:\n",
        "    mat = np.round(mat,decimals=roundToDecimal)\n",
        "  col_maxes = [max([len((\"{:\"+fmt+\"}\").format(x)) for x in col]) for col in mat.T]\n",
        "  for x in mat:\n",
        "    for i, y in enumerate(x):\n",
        "      print((\"{:\"+str(col_maxes[i])+fmt+\"}\").format(y), end=\"  \")\n",
        "    print(\"\")"
      ],
      "execution_count": 23,
      "outputs": [
        {
          "output_type": "stream",
          "text": [
            "We have 2 cores available\n"
          ],
          "name": "stdout"
        }
      ]
    },
    {
      "cell_type": "markdown",
      "metadata": {
        "id": "ont7iOF4tzK_"
      },
      "source": [
        "## Writing our own matrix multiply\n",
        "**Never** do this.  It's super slow, as we'll see why\n",
        "\n",
        "This [MIT 18.335 Memory-and-Matrices](https://github.com/mitmath/18335/blob/master/notes/Memory-and-Matrices.ipynb) jupyter notebook (using Julia, not Python) gives a good discussion of some issues (caching, multithreading, vector instructions, unrolling, etc.)"
      ]
    },
    {
      "cell_type": "code",
      "metadata": {
        "id": "wFT4snbRLVVX"
      },
      "source": [
        "def matrix_multiply(A,B,algorithm=2):\n",
        "  m,q = A.shape\n",
        "  p,n = B.shape\n",
        "  if q != p:\n",
        "    raise ValueError('the matrices must have matching inner dimension')\n",
        "  C = np.zeros((m,n))\n",
        "  if algorithm == 1:\n",
        "    for i in range(m):\n",
        "      a = A[i,:]\n",
        "      for j in range(n):\n",
        "        for k in range(q):\n",
        "          #C[i,j] += A[i,k]*B[k,j]\n",
        "          C[i,j] += a[k]*B[k,j]\n",
        "  elif algorithm == 2:\n",
        "    for j in range(n):\n",
        "      for i in range(m):\n",
        "        for k in range(q):\n",
        "          C[i,j] += A[i,k]*B[k,j]\n",
        "  elif algorithm == 3:\n",
        "    for i in range(m):\n",
        "      for k in range(q):\n",
        "        for j in range(n):\n",
        "          C[i,j] += A[i,k]*B[k,j]\n",
        "  # There are other ways to do it too...\n",
        "  return C\n",
        "\n",
        "def my_dot_product(a,b):\n",
        "  c = 0.\n",
        "  for i in range(len(a)):\n",
        "    c += a[i]*b[i]\n",
        "  return c"
      ],
      "execution_count": 25,
      "outputs": []
    },
    {
      "cell_type": "markdown",
      "metadata": {
        "id": "s4WkCUgtuSkx"
      },
      "source": [
        "#### See if we get the right answer\n",
        "Start with a small problem"
      ]
    },
    {
      "cell_type": "code",
      "metadata": {
        "id": "kcsNPRx23a74"
      },
      "source": [
        "seed = 12345\n",
        "rng = default_rng(seed)\n",
        "n = 4\n",
        "A = rng.standard_normal((n,n))\n",
        "B = rng.standard_normal((n,n))"
      ],
      "execution_count": 24,
      "outputs": []
    },
    {
      "cell_type": "code",
      "metadata": {
        "colab": {
          "base_uri": "https://localhost:8080/"
        },
        "id": "5FtCqi_IMc5C",
        "outputId": "16a8e08c-1301-42ea-bfcb-392161cd46e2"
      },
      "source": [
        "C = matrix_multiply(A,B,algorithm=1)\n",
        "print(\"Our answer is:\")\n",
        "matprint(C)\n",
        "print(\"And true answer is:\")\n",
        "matprint(A@B)\n",
        "print(f\"i.e., norm(error) is {np.linalg.norm(C-A@B):.3e}\")"
      ],
      "execution_count": 26,
      "outputs": [
        {
          "output_type": "stream",
          "text": [
            "Our answer is:\n",
            " 0.239  0.341   1.289  -4.185  \n",
            " 0.296  1.401    1.63   1.745  \n",
            "-0.998  3.722  -3.956   4.283  \n",
            " 0.563  0.315   0.958  -2.538  \n",
            "And true answer is:\n",
            " 0.239  0.341   1.289  -4.185  \n",
            " 0.296  1.401    1.63   1.745  \n",
            "-0.998  3.722  -3.956   4.283  \n",
            " 0.563  0.315   0.958  -2.538  \n",
            "i.e., norm(error) is 2.618e-16\n"
          ],
          "name": "stdout"
        }
      ]
    },
    {
      "cell_type": "markdown",
      "metadata": {
        "id": "vrzL7dNduYJ7"
      },
      "source": [
        "#### Now try some timing\n"
      ]
    },
    {
      "cell_type": "code",
      "metadata": {
        "colab": {
          "base_uri": "https://localhost:8080/"
        },
        "id": "zMtQLvYwOGM2",
        "outputId": "0d0d8803-1758-4c74-87b8-209221be1c74"
      },
      "source": [
        "n = 200\n",
        "A = rng.standard_normal((n,n))\n",
        "B = rng.standard_normal((n,n))\n",
        "\n",
        "start_time = time.time()\n",
        "%time C = matrix_multiply(A,B,algorithm=1)\n",
        "myTime = time.time() - start_time\n",
        "%time C = matrix_multiply(A,B,algorithm=2)\n",
        "# %time C = matrix_multiply(A,B,algorithm=3)\n",
        "start_time = time.time()\n",
        "%time C = A@B\n",
        "numpyTime = time.time() - start_time  \n",
        "\n",
        "print(f'My code took {myTime:.4f} sec, numpy took {numpyTime:.4f} sec, so it was {myTime/numpyTime:.1f} faster')"
      ],
      "execution_count": 32,
      "outputs": [
        {
          "output_type": "stream",
          "text": [
            "CPU times: user 5.74 s, sys: 4.52 ms, total: 5.74 s\n",
            "Wall time: 5.75 s\n",
            "CPU times: user 6.03 s, sys: 0 ns, total: 6.03 s\n",
            "Wall time: 6.03 s\n",
            "CPU times: user 2.05 ms, sys: 771 µs, total: 2.82 ms\n",
            "Wall time: 1.43 ms\n",
            "My code took 5.7500 sec, numpy took 0.0025 sec, so it was 2333.6 faster\n"
          ],
          "name": "stdout"
        }
      ]
    },
    {
      "cell_type": "markdown",
      "metadata": {
        "id": "EfwLRVN0uctl"
      },
      "source": [
        "Let's also see how slow our dot product is"
      ]
    },
    {
      "cell_type": "code",
      "metadata": {
        "colab": {
          "base_uri": "https://localhost:8080/"
        },
        "id": "PMjDLQHPQOWY",
        "outputId": "8ca0dc3d-f2bb-462f-8c92-8f6b10d027d8"
      },
      "source": [
        "# For level-1 operations, there's less of a performance loss\n",
        "a = A.ravel()  # doesn't create new data (unlike flatten)\n",
        "b = B.ravel()\n",
        "start_time = time.time()\n",
        "%time c1 = my_dot_product(a,b)\n",
        "myTime = time.time() - start_time\n",
        "start_time = time.time()\n",
        "%time c2 = np.dot(a,b)\n",
        "numpyTime = time.time() - start_time  \n",
        "print(\"Discrepancy is\", c1-c2 )\n",
        "print(f'My code took {myTime:.4f} sec, numpy took {numpyTime:.4f} sec, so it was {myTime/numpyTime:.1f} faster')"
      ],
      "execution_count": 33,
      "outputs": [
        {
          "output_type": "stream",
          "text": [
            "CPU times: user 21 ms, sys: 31 µs, total: 21 ms\n",
            "Wall time: 21.9 ms\n",
            "CPU times: user 693 µs, sys: 22 µs, total: 715 µs\n",
            "Wall time: 383 µs\n",
            "Discrepancy is -3.126388037344441e-13\n",
            "My code took 0.0233 sec, numpy took 0.0013 sec, so it was 17.4 faster\n"
          ],
          "name": "stdout"
        }
      ]
    },
    {
      "cell_type": "markdown",
      "metadata": {
        "id": "3cCRwt73uhok"
      },
      "source": [
        "The performance loss for our dot product (Level-1 BLAS) wasn't as bad (only 17x) compared to for a matrix multiply (Level-3 BLAS) (2,300x)"
      ]
    },
    {
      "cell_type": "markdown",
      "metadata": {
        "id": "QCuQip1MusG2"
      },
      "source": [
        "### Of course a Python multiply is slow\n",
        "Everyone knows Python and Matlab (and interpreted languages) are not fast with `for` loops.\n",
        "\n",
        "Let's make it more fair: let's do an implementation in C, and try a larger matrix"
      ]
    },
    {
      "cell_type": "code",
      "metadata": {
        "colab": {
          "base_uri": "https://localhost:8080/"
        },
        "id": "vgNEy4KcnEb0",
        "outputId": "20c8f1cd-d8b5-4c40-cb45-ef1160349e5d"
      },
      "source": [
        "n = 1000\n",
        "A = rng.standard_normal((n,n))\n",
        "B = rng.standard_normal((n,n))\n",
        "\n",
        "%time C = A@B\n",
        "# Note: we have 2 threads, so wall time is about 1/2 of total time\n",
        "# (the first line reports the sum of times in all processors)"
      ],
      "execution_count": 92,
      "outputs": [
        {
          "output_type": "stream",
          "text": [
            "CPU times: user 120 ms, sys: 2.91 ms, total: 123 ms\n",
            "Wall time: 62.2 ms\n"
          ],
          "name": "stdout"
        }
      ]
    },
    {
      "cell_type": "markdown",
      "metadata": {
        "id": "wxYUAkIQu4ss"
      },
      "source": [
        "Our C implementation (note: we hardcode the size at $n=1000$ for simplicity)"
      ]
    },
    {
      "cell_type": "code",
      "metadata": {
        "id": "8IhcqkFVoRGV"
      },
      "source": [
        "C_program = \"\"\"\n",
        "#include <stdlib.h>\n",
        "#include <stdio.h>\n",
        "#include <time.h>\n",
        "int main() {\n",
        "    int M, N, P, i, j, k;\n",
        "    double *A, *B, *C;\n",
        "    double c;\n",
        "    clock_t t;\n",
        "    N   = 1000;\n",
        "    M   = N;\n",
        "    P   = N;\n",
        "    A   = (double *)calloc(M*P,sizeof(double));\n",
        "    B   = (double *)calloc(P*N,sizeof(double));\n",
        "    C   = (double *)calloc(M*N,sizeof(double));\n",
        "    /* initialize A and B */\n",
        "    for (i=0;i<M;i++)\n",
        "        for (j=0;j<P;j++)\n",
        "            A[i+j*M] = i + j*M;\n",
        "    for (i=0;i<P;i++)\n",
        "        for (j=0;j<N;j++)\n",
        "            B[i+j*P] = i + j*P;\n",
        "    /* the multiply */\n",
        "    t = clock();\n",
        "    for (i=0;i<M;i++){\n",
        "        for (j=0;j<N;j++){\n",
        "            c = 0.0;\n",
        "            for (k=0; k<P; k++)\n",
        "                c += A[i+k*M] * B[k+j*P];\n",
        "            C[i+j*M] = c;\n",
        "        }\n",
        "    }\n",
        "    t = clock() - t;\n",
        "    printf(\"Time take is %.5f seconds\\\\n\", ((double)t)/CLOCKS_PER_SEC );\n",
        "    /* If we don't do something with C, then eager compiler will decide we\n",
        "     * don't even need to calculate it, and code won't do anything! */\n",
        "    printf(\"First entry in C is %.2f\\\\n\", C[0] );\n",
        "    return 0;\n",
        "}\n",
        "\"\"\""
      ],
      "execution_count": 13,
      "outputs": []
    },
    {
      "cell_type": "markdown",
      "metadata": {
        "id": "Dt76znXnvA5F"
      },
      "source": [
        "Save this to a file:"
      ]
    },
    {
      "cell_type": "code",
      "metadata": {
        "colab": {
          "base_uri": "https://localhost:8080/"
        },
        "id": "irvWmu_MppY0",
        "outputId": "9221e792-a018-4800-c30d-c013299c8a26"
      },
      "source": [
        "%store C_program > matMult.c\n",
        "#  run !cat matMult.c   to see if it worked"
      ],
      "execution_count": 15,
      "outputs": [
        {
          "output_type": "stream",
          "text": [
            "Writing 'C_program' (str) to file 'matMult.c'.\n"
          ],
          "name": "stdout"
        }
      ]
    },
    {
      "cell_type": "markdown",
      "metadata": {
        "id": "B76LxwqtvCPg"
      },
      "source": [
        "Compile the code using the `gcc` compiler, which is available on the colab virtual computer"
      ]
    },
    {
      "cell_type": "code",
      "metadata": {
        "id": "ftXhh51LptT0"
      },
      "source": [
        "!gcc -O3 matMult.c -o matMult.out"
      ],
      "execution_count": 17,
      "outputs": []
    },
    {
      "cell_type": "markdown",
      "metadata": {
        "id": "3aM8QDEbvIWo"
      },
      "source": [
        "Run the code (note: in the C code, we are using the somewhat crude `clock` function, but we have to do something since we don't want to include the time for making the matrices)"
      ]
    },
    {
      "cell_type": "code",
      "metadata": {
        "colab": {
          "base_uri": "https://localhost:8080/"
        },
        "id": "EpvrL3c-qyrb",
        "outputId": "0f8072af-2840-4346-edaf-074b63b6e286"
      },
      "source": [
        "!./matMult.out"
      ],
      "execution_count": 18,
      "outputs": [
        {
          "output_type": "stream",
          "text": [
            "Time take is 2.99679 seconds\n",
            "First entry in C is 332833500000.00\n"
          ],
          "name": "stdout"
        }
      ]
    },
    {
      "cell_type": "markdown",
      "metadata": {
        "id": "fyoJRqlevUb_"
      },
      "source": [
        "## Level-3 vs Level-2 BLAS"
      ]
    },
    {
      "cell_type": "code",
      "metadata": {
        "colab": {
          "base_uri": "https://localhost:8080/"
        },
        "id": "qpzXnpGxrivY",
        "outputId": "9e8ee5ea-5b1c-45c9-b445-c6d6a67ad9b5"
      },
      "source": [
        "n = 2000\n",
        "A = rng.standard_normal((n,n))\n",
        "B = rng.standard_normal((n,n))\n",
        "\n",
        "start_time = time.time()\n",
        "%time C = A@B\n",
        "numpy_time = time.time() - start_time"
      ],
      "execution_count": 47,
      "outputs": [
        {
          "output_type": "stream",
          "text": [
            "CPU times: user 922 ms, sys: 28.7 ms, total: 951 ms\n",
            "Wall time: 498 ms\n"
          ],
          "name": "stdout"
        }
      ]
    },
    {
      "cell_type": "code",
      "metadata": {
        "colab": {
          "base_uri": "https://localhost:8080/"
        },
        "id": "drwMHca5vek-",
        "outputId": "d6750ded-7ac3-4538-df5e-8076b18e66ba"
      },
      "source": [
        "CC = np.zeros((n,n))\n",
        "# Loop over columns of the output C\n",
        "start_time = time.time()\n",
        "for i in range(n):\n",
        "  CC[:,i] = A@B[:,i]\n",
        "my_time1 = time.time() - start_time\n",
        "np.linalg.norm(C-CC) # make sure we get the right answer\n",
        "\n",
        "CC = np.zeros((n,n))\n",
        "# Loop over rows of the output C\n",
        "# (should be a bit faster since numpy uses row-major order)\n",
        "start_time = time.time()\n",
        "for i in range(n):\n",
        "  CC[i,:] = A[i,:]@B\n",
        "my_time2 = time.time() - start_time\n",
        "\n",
        "# np.linalg.norm(C-CC) # make sure we get the right answer\n",
        "print(f\"Looping over columns, code took {my_time1:.3f} sec, so {my_time1/numpy_time:.1f} x slower\")\n",
        "print(f\"Looping over rows,    code took {my_time2:.3f} sec, so {my_time2/numpy_time:.1f} x slower\")"
      ],
      "execution_count": 48,
      "outputs": [
        {
          "output_type": "stream",
          "text": [
            "Looping over columns, code took 3.570 sec, so 7.1 x slower\n",
            "Looping over rows,    code took 3.452 sec, so 6.9 x slower\n"
          ],
          "name": "stdout"
        }
      ]
    },
    {
      "cell_type": "markdown",
      "metadata": {
        "id": "JCoBzdVZx01v"
      },
      "source": [
        "## Caching"
      ]
    },
    {
      "cell_type": "code",
      "metadata": {
        "id": "xO_KlmBdv02R"
      },
      "source": [
        "reps = 4\n",
        "nList = range(10,300)\n",
        "timeList = []\n",
        "for n in nList:\n",
        "  A = rng.standard_normal((n,n))\n",
        "  B = rng.standard_normal((n,n))\n",
        "  start_time = time.time()\n",
        "  for r in range(reps):\n",
        "    # C = matrix_multiply(A,B)\n",
        "    C = A@B\n",
        "  myTime = time.time() - start_time\n",
        "  timeList.append( myTime/reps )"
      ],
      "execution_count": 54,
      "outputs": []
    },
    {
      "cell_type": "code",
      "metadata": {
        "id": "ShPOYDdQ3nys"
      },
      "source": [
        "import matplotlib.pyplot as plt\n",
        "plt.plot( nList, timeList )\n",
        "plt.show()"
      ],
      "execution_count": null,
      "outputs": []
    },
    {
      "cell_type": "code",
      "metadata": {
        "id": "FBcVING-3mvw"
      },
      "source": [
        "reps = 4\n",
        "nList = np.logspace(1,3.2,10)\n",
        "timeList = []\n",
        "for n in nList:\n",
        "  n = int(n)\n",
        "  A = rng.standard_normal((n,n))\n",
        "  B = rng.standard_normal((n,n))\n",
        "  start_time = time.time()\n",
        "  for r in range(reps):\n",
        "    # C = matrix_multiply(A,B)\n",
        "    C = A@B\n",
        "  myTime = time.time() - start_time\n",
        "  timeList.append( myTime/reps )"
      ],
      "execution_count": 67,
      "outputs": []
    },
    {
      "cell_type": "code",
      "metadata": {
        "colab": {
          "base_uri": "https://localhost:8080/",
          "height": 269
        },
        "id": "B8m_u9q6yO1j",
        "outputId": "60adf8bb-ad39-4393-d983-77acdcbad60a"
      },
      "source": [
        "\"import matplotlib.pyplot as plt\n",
        "plt.loglog( nList, timeList )\n",
        "plt.loglog( nList, 1e-10*np.array(nList)**3)\n",
        "plt.show()"
      ],
      "execution_count": 64,
      "outputs": [
        {
          "output_type": "display_data",
          "data": {
            "image/png": "[encoded data removed]",
            "text/plain": [
              "<Figure size 432x288 with 1 Axes>"
            ]
          },
          "metadata": {
            "tags": [],
            "needs_background": "light"
          }
        }
      ]
    },
    {
      "cell_type": "code",
      "metadata": {
        "id": "eFlc1Rls24tE"
      },
      "source": [
        ""
      ],
      "execution_count": null,
      "outputs": []
    }
  ]
}