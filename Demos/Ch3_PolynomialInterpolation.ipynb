{
  "nbformat": 4,
  "nbformat_minor": 0,
  "metadata": {
    "colab": {
      "name": "Ch3_PolynomialInterpolation.ipynb",
      "provenance": [],
      "include_colab_link": true
    },
    "kernelspec": {
      "name": "python3",
      "display_name": "Python 3"
    }
  },
  "cells": [
    {
      "cell_type": "markdown",
      "metadata": {
        "id": "view-in-github",
        "colab_type": "text"
      },
      "source": [
        "<a href=\"https://colab.research.google.com/github/stephenbeckr/numerical-analysis-class/blob/master/Demos/Ch3_PolynomialInterpolation.ipynb\" target=\"_parent\"><img src=\"https://colab.research.google.com/assets/colab-badge.svg\" alt=\"Open In Colab\"/></a>"
      ]
    },
    {
      "cell_type": "markdown",
      "metadata": {
        "id": "1ddQFqPKPg27",
        "colab_type": "text"
      },
      "source": [
        "# Polynomial Interpolation (Lagrange form/Barycentric)\n",
        "\n",
        "There are excellent python demos already online, from the CS version of this class and from the Driscoll and Braun textbook; see below for links.\n",
        "\n",
        "References:\n",
        "- [Berrut and Trefethen paper on Barycentric interpolation, SIAM Review 2004](https://people.maths.ox.ac.uk/trefethen/barycentric.pdf)\n",
        "- Jed Brown's [CSCI 3656 Interpolation jupyter notebook](https://github.com/cu-numcomp/numcomp-class/blob/master/Interpolation.ipynb). [![Open In Colab](https://colab.research.google.com/assets/colab-badge.svg)](https://colab.research.google.com/github/cu-numcomp/numcomp-class/blob/master/Interpolation.ipynb)\n",
        "\n",
        "- Driscoll and Braun's textbook on numerical analysis has code in Matlab, Python and Julia. Here are their [core routines for interpolation](https://github.com/tobydriscoll/fnc-extras/blob/master/python/FNC09.py) as well as their [jupyter notebook with demos](https://github.com/tobydriscoll/fnc-extras/blob/master/python/Chapter09.ipynb) [![Open In Colab](https://colab.research.google.com/assets/colab-badge.svg)](https://colab.research.google.com/github/tobydriscoll/fnc-extras/blob/master/python/Chapter09.ipynb) \n",
        "  - If you run their jupyter notebook, you may need to download some files, using something like:\n",
        "\n",
        "```\n",
        "!curl -O https://raw.githubusercontent.com/tobydriscoll/fnc-extras/master/python/FNC[01-13].py\n",
        "!curl -O https://raw.githubusercontent.com/tobydriscoll/fnc-extras/master/python/FNC.py\n",
        "```\n",
        "\n",
        "  - See also the [main page for their book](https://tobydriscoll.net/project/fnc/)"
      ]
    },
    {
      "cell_type": "code",
      "metadata": {
        "id": "T_kHXe3xEKwQ",
        "colab_type": "code",
        "colab": {}
      },
      "source": [
        "# Download the files from Driscoll and Braun:\n",
        "!wget https://github.com/tobydriscoll/fnc-extras/raw/master/python/FNC09.py\n",
        "from FNC09 import polyinterp\n",
        "import numpy as np"
      ],
      "execution_count": null,
      "outputs": []
    },
    {
      "cell_type": "markdown",
      "metadata": {
        "id": "hqdfZ8DVwIoH",
        "colab_type": "text"
      },
      "source": [
        "## If you want to see how to use the code"
      ]
    },
    {
      "cell_type": "code",
      "metadata": {
        "id": "W-0kFQeDEXd2",
        "colab_type": "code",
        "colab": {}
      },
      "source": [
        "?polyinterp"
      ],
      "execution_count": null,
      "outputs": []
    },
    {
      "cell_type": "markdown",
      "metadata": {
        "id": "X-ZGWp2hwNKB",
        "colab_type": "text"
      },
      "source": [
        "## Make our own functions and interpolate"
      ]
    },
    {
      "cell_type": "code",
      "metadata": {
        "id": "tnNNZIliEazW",
        "colab_type": "code",
        "colab": {
          "base_uri": "https://localhost:8080/",
          "height": 34
        },
        "outputId": "5f1c13e5-489d-46df-d53c-901851149964"
      },
      "source": [
        "f = lambda x : 1/x \n",
        "x  = [1,2,4]\n",
        "x  = np.array(x)\n",
        "p  = polyinterp( x, f(x) )  # returns a function that we can then query\n",
        "p(3)\n",
        "\n",
        "x   = np.array( [2,6] )\n",
        "p   = polyinterp( x, f(x) )\n",
        "p(4)"
      ],
      "execution_count": 6,
      "outputs": [
        {
          "output_type": "execute_result",
          "data": {
            "text/plain": [
              "array(0.33333333)"
            ]
          },
          "metadata": {
            "tags": []
          },
          "execution_count": 6
        }
      ]
    },
    {
      "cell_type": "code",
      "metadata": {
        "id": "yAXNCiEBEq4P",
        "colab_type": "code",
        "colab": {
          "base_uri": "https://localhost:8080/",
          "height": 286
        },
        "outputId": "565a1c44-90b4-4f6c-9986-0159dbebb8dd"
      },
      "source": [
        "import matplotlib.pyplot as plt\n",
        "\n",
        "f   = lambda x : 1/x \n",
        "x   = np.array( [1,2,4,5])\n",
        "p   = polyinterp( x, f(x) )\n",
        "\n",
        "xGrid = np.linspace(.1,10,100)\n",
        "plt.plot( xGrid, f(xGrid) )\n",
        "plt.plot( xGrid, p(xGrid) );\n",
        "plt.plot( x, f(x),'o',markerSize = 12 );\n",
        "plt.ylim( -2,4 );"
      ],
      "execution_count": 17,
      "outputs": [
        {
          "output_type": "execute_result",
          "data": {
            "text/plain": [
              "(-2.0, 4.0)"
            ]
          },
          "metadata": {
            "tags": []
          },
          "execution_count": 17
        },
        {
          "output_type": "display_data",
          "data": {
            "image/png": "[encoded data removed]",
            "text/plain": [
              "<Figure size 432x288 with 1 Axes>"
            ]
          },
          "metadata": {
            "tags": [],
            "needs_background": "light"
          }
        }
      ]
    },
    {
      "cell_type": "markdown",
      "metadata": {
        "id": "BoZefw6iwRD1",
        "colab_type": "text"
      },
      "source": [
        "## Take a look at the code for Barycentric interpolation"
      ]
    },
    {
      "cell_type": "code",
      "metadata": {
        "id": "AvxsNHkGu3Z0",
        "colab_type": "code",
        "colab": {}
      },
      "source": [
        "# Or, see the code from Driscoll and Bruan:\n",
        "import numpy as np\n",
        "def polyinterp(t,y):\n",
        "    \"\"\"\n",
        "    polyinterp(t,y)\n",
        "    Return a callable polynomial interpolant through the points in vectors `t`,`y`. Uses\n",
        "    the barycentric interpolation formula.\n",
        "    \"\"\"\n",
        "    n = len(t)-1\n",
        "    C = (t[-1]-t[0]) / 4       # scaling factor to ensure stability\n",
        "    tc = t/C\n",
        "\n",
        "    # Adding one node at a time, compute inverses of the weights.\n",
        "    omega = np.ones(n+1)\n",
        "    for m in range(n):\n",
        "        d = tc[:m+1] - tc[m+1]          # vector of node differences\n",
        "        omega[:m+1] = omega[:m+1]*d     # update previous\n",
        "        omega[m+1] = np.prod( -d )         # compute the new one\n",
        "    w = 1 / omega                   # go from inverses to weights\n",
        "\n",
        "    def p(x):\n",
        "        # Compute interpolant.\n",
        "        z = np.where(x==t)[0]\n",
        "        if len(z)>0:       # avoid dividing by zero\n",
        "            # Apply L'Hopital's Rule exactly.\n",
        "             f = y[z[0]]\n",
        "        else:\n",
        "            terms = w / (x - t)\n",
        "            f = np.sum(y*terms) / np.sum(terms)\n",
        "        return f\n",
        "        \n",
        "    return np.vectorize(p)  # converts to the right data type"
      ],
      "execution_count": 16,
      "outputs": []
    },
    {
      "cell_type": "code",
      "metadata": {
        "id": "ehhOcFwqu-jJ",
        "colab_type": "code",
        "colab": {}
      },
      "source": [
        ""
      ],
      "execution_count": null,
      "outputs": []
    }
  ]
}