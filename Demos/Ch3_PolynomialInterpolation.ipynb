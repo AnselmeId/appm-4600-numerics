{
  "nbformat": 4,
  "nbformat_minor": 0,
  "metadata": {
    "colab": {
      "name": "Ch3_PolynomialInterpolation.ipynb",
      "provenance": [],
      "authorship_tag": "ABX9TyMK6Cc6iGrcxNbnB6O46A51",
      "include_colab_link": true
    },
    "kernelspec": {
      "name": "python3",
      "display_name": "Python 3"
    }
  },
  "cells": [
    {
      "cell_type": "markdown",
      "metadata": {
        "id": "view-in-github",
        "colab_type": "text"
      },
      "source": [
        "<a href=\"https://colab.research.google.com/github/stephenbeckr/numerical-analysis-class/blob/master/Demos/Ch3_PolynomialInterpolation.ipynb\" target=\"_parent\"><img src=\"https://colab.research.google.com/assets/colab-badge.svg\" alt=\"Open In Colab\"/></a>"
      ]
    },
    {
      "cell_type": "markdown",
      "metadata": {
        "id": "1ddQFqPKPg27",
        "colab_type": "text"
      },
      "source": [
        "# Polynomial Interpolation (Lagrange form/Barycentric)\n",
        "\n",
        "References:\n",
        "- [Berrut and Trefethen paper on Barycentric interpolation, SIAM Review 2004](https://people.maths.ox.ac.uk/trefethen/barycentric.pdf)\n",
        "- Jed Brown's [CSCI 3656 Interpolation jupyter notebook](https://github.com/cu-numcomp/numcomp-class/blob/master/Interpolation.ipynb). [![Open In Colab](https://colab.research.google.com/assets/colab-badge.svg)](https://colab.research.google.com/github/cu-numcomp/numcomp-class/blob/master/Interpolation.ipynb)\n",
        "\n",
        "- Driscoll and Braun's textbook on numerical analysis has code in Matlab, Python and Julia. Here are their [core routines for interpolation](https://github.com/tobydriscoll/fnc-extras/blob/master/python/FNC09.py) as well as their [jupyter notebook with demos](https://github.com/tobydriscoll/fnc-extras/blob/master/python/Chapter09.ipynb) [![Open In Colab](https://colab.research.google.com/assets/colab-badge.svg)](https://colab.research.google.com/github/tobydriscoll/fnc-extras/blob/master/python/Chapter09.ipynb) \n",
        "  - If you run their jupyter notebook, you may need to download some files, using something like `!wget https://github.com/tobydriscoll/fnc-extras/raw/master/python/FNC09.py`\n",
        "  - See also the [main page for their book](https://tobydriscoll.net/project/fnc/)"
      ]
    },
    {
      "cell_type": "code",
      "metadata": {
        "id": "T_kHXe3xEKwQ",
        "colab_type": "code",
        "colab": {}
      },
      "source": [
        "# Download the files from Driscoll and Braun:\n",
        "!wget https://github.com/tobydriscoll/fnc-extras/raw/master/python/FNC09.py"
      ],
      "execution_count": null,
      "outputs": []
    },
    {
      "cell_type": "code",
      "metadata": {
        "id": "U-00Ts5eETsY",
        "colab_type": "code",
        "colab": {}
      },
      "source": [
        "from FNC09 import polyinterp\n",
        "import numpy as np"
      ],
      "execution_count": 9,
      "outputs": []
    },
    {
      "cell_type": "code",
      "metadata": {
        "id": "W-0kFQeDEXd2",
        "colab_type": "code",
        "colab": {}
      },
      "source": [
        "?polyinterp"
      ],
      "execution_count": 6,
      "outputs": []
    },
    {
      "cell_type": "code",
      "metadata": {
        "id": "tnNNZIliEazW",
        "colab_type": "code",
        "colab": {
          "base_uri": "https://localhost:8080/",
          "height": 34
        },
        "outputId": "8a284232-f2d8-4099-dfc5-f9e85a50a209"
      },
      "source": [
        "f = lambda x : 1/x \n",
        "x  = [1,2,4]\n",
        "x  = np.array(x)\n",
        "p  = polyinterp( x, f(x) )  # returns a function that we can then query\n",
        "p(3)\n",
        "\n",
        "x   = np.array( [2,6] )\n",
        "p   = polyinterp( x, f(x) )\n",
        "p(4)"
      ],
      "execution_count": 16,
      "outputs": [
        {
          "output_type": "execute_result",
          "data": {
            "text/plain": [
              "array(0.33333333)"
            ]
          },
          "metadata": {
            "tags": []
          },
          "execution_count": 16
        }
      ]
    },
    {
      "cell_type": "code",
      "metadata": {
        "id": "yAXNCiEBEq4P",
        "colab_type": "code",
        "colab": {
          "base_uri": "https://localhost:8080/",
          "height": 282
        },
        "outputId": "34f626e5-ad93-4eab-cf16-a38a6672fa63"
      },
      "source": [
        "import matplotlib.pyplot as plt\n",
        "\n",
        "xGrid = np.linspace(.1,5,100)\n",
        "plt.plot( xGrid, p(xGrid) )"
      ],
      "execution_count": 12,
      "outputs": [
        {
          "output_type": "execute_result",
          "data": {
            "text/plain": [
              "[<matplotlib.lines.Line2D at 0x7f8b8a7fa668>]"
            ]
          },
          "metadata": {
            "tags": []
          },
          "execution_count": 12
        },
        {
          "output_type": "display_data",
          "data": {
            "image/png": "[encoded data removed]",
            "text/plain": [
              "<Figure size 432x288 with 1 Axes>"
            ]
          },
          "metadata": {
            "tags": [],
            "needs_background": "light"
          }
        }
      ]
    }
  ]
}
