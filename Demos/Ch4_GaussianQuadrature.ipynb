{
  "nbformat": 4,
  "nbformat_minor": 0,
  "metadata": {
    "colab": {
      "name": "Ch4_GaussianQuadrature.ipynb",
      "provenance": [],
      "authorship_tag": "ABX9TyMMYQ3TTql6SJoAfdggi0CB",
      "include_colab_link": true
    },
    "kernelspec": {
      "name": "python3",
      "display_name": "Python 3"
    }
  },
  "cells": [
    {
      "cell_type": "markdown",
      "metadata": {
        "id": "view-in-github",
        "colab_type": "text"
      },
      "source": [
        "<a href=\"https://colab.research.google.com/github/stephenbeckr/numerical-analysis-class/blob/master/Demos/Ch4_GaussianQuadrature.ipynb\" target=\"_parent\"><img src=\"https://colab.research.google.com/assets/colab-badge.svg\" alt=\"Open In Colab\"/></a>"
      ]
    },
    {
      "cell_type": "markdown",
      "metadata": {
        "id": "LI8kXiB17Sfu"
      },
      "source": [
        "# Gaussian Quadrature (specifically Gauss-Legendre)\n",
        "\n",
        "- For an algorithm, see page 3 on [\"Is Gauss Quadrature Better\n",
        "than Clenshaw–Curtis?\"](http://citeseerx.ist.psu.edu/viewdoc/download?doi=10.1.1.157.4174&rep=rep1&type=pdf) (Lloyd Trefethen, SIAM Review 50(1), 2008)\n",
        "- Our class notes on this section are [Ch4_GaussianQuadrature.pdf](../Notes/Ch4_GaussianQuadrature.pdf)\n",
        "- See also section 9.6 in [*Fundamentals of Numerical Computation*](https://tobydriscoll.net/project/fnc/) by Driscoll and Braun (2018, SIAM).\n",
        "\n",
        "Here are their [core routines for interpolation/integration (ch 9)](https://github.com/tobydriscoll/fnc-extras/blob/master/python/FNC09.py) as well as their [jupyter notebook with demos](https://github.com/tobydriscoll/fnc-extras/blob/master/python/Chapter09.ipynb) [![Open In Colab](https://colab.research.google.com/assets/colab-badge.svg)](https://colab.research.google.com/github/tobydriscoll/fnc-extras/blob/master/python/Chapter09.ipynb)\n",
        "\n",
        "If you run their notebook in colab, you may need to download files, using something like:\n",
        "\n",
        "```\n",
        "!curl -O https://raw.githubusercontent.com/tobydriscoll/fnc-extras/master/python/FNC[01-13].py\n",
        "!curl -O https://raw.githubusercontent.com/tobydriscoll/fnc-extras/master/python/FNC.py\n",
        "```\n",
        "\n",
        "\n",
        "#### Major point\n",
        "For Newton-Cotes, you **never** increase $n$ very large (beyond, say, 9). When you want more accuracy, you switch to a **composite Newton-Cotes** (so now, with the new meaning of $n$, it is OK to use a large $n$)\n",
        "\n",
        "But for Gaussian quadrature, while you could do it in a composite form, you don't have to.  You can take very large $n$ with (non-composite) Gaussian quadrature"
      ]
    },
    {
      "cell_type": "code",
      "metadata": {
        "id": "kna3QEe17rQy"
      },
      "source": [
        "import numpy as np\n",
        "from timeit import timeit\n",
        "import scipy.linalg\n",
        "import scipy.integrate\n",
        "from scipy.special import roots_legendre\n",
        "import matplotlib.pyplot as plt\n",
        "import matplotlib as mpl\n",
        "mpl.rcParams[\"figure.figsize\"] = [8,6] # or 7, 4 or 10,8\n",
        "mpl.rcParams[\"lines.linewidth\"] = 2\n",
        "mpl.rcParams[\"lines.markersize\"] = 4\n",
        "mpl.rcParams['mathtext.fontset'] = 'cm'\n",
        "mpl.rcParams.update({'font.size': 20})\n",
        "def matprint(mat, fmt=\"g\",roundToDecimal=None):\n",
        "  # from https://gist.github.com/braingineer/d801735dac07ff3ac4d746e1f218ab75\n",
        "  # Modified to round\n",
        "  if roundToDecimal is not None:\n",
        "    mat = np.round(mat,decimals=roundToDecimal)\n",
        "  col_maxes = [max([len((\"{:\"+fmt+\"}\").format(x)) for x in col]) for col in mat.T]\n",
        "  for x in mat:\n",
        "    for i, y in enumerate(x):\n",
        "      print((\"{:\"+str(col_maxes[i])+fmt+\"}\").format(y), end=\"  \")\n",
        "    print(\"\")"
      ],
      "execution_count": 4,
      "outputs": []
    },
    {
      "cell_type": "code",
      "metadata": {
        "id": "6weDCqtO70uS",
        "outputId": "b72b2712-63fc-4404-e3e5-449db4652832",
        "colab": {
          "base_uri": "https://localhost:8080/",
          "height": 68
        }
      },
      "source": [
        "!curl -O https://raw.githubusercontent.com/tobydriscoll/fnc-extras/master/python/FNC05.py\n",
        "# !curl -O https://raw.githubusercontent.com/tobydriscoll/fnc-extras/master/python/FNC09.py\n",
        "# from FNC05 import trapezoid\n",
        "from FNC05 import intadapt"
      ],
      "execution_count": 1,
      "outputs": [
        {
          "output_type": "stream",
          "text": [
            "  % Total    % Received % Xferd  Average Speed   Time    Time     Time  Current\n",
            "                                 Dload  Upload   Total   Spent    Left  Speed\n",
            "\r  0     0    0     0    0     0      0      0 --:--:-- --:--:-- --:--:--     0\r  0     0    0     0    0     0      0      0 --:--:-- --:--:-- --:--:--     0\r100  4950  100  4950    0     0  27049      0 --:--:-- --:--:-- --:--:-- 26902\n"
          ],
          "name": "stdout"
        }
      ]
    },
    {
      "cell_type": "markdown",
      "metadata": {
        "id": "NmdmhsMu-48R"
      },
      "source": [
        "### These are the composite rules we already saw\n",
        "Taken from [Ch4_CompositeIntegration.ipynb](Ch4_CompositeIntegration.ipynb)"
      ]
    },
    {
      "cell_type": "code",
      "metadata": {
        "id": "z9XwHRrZ-3vb"
      },
      "source": [
        "def CompositeMidpoint( f, a, b, n ):\n",
        "  h   = (b-a)/(n+1)  # this is \\tilde{h} in the notes\n",
        "  nodes = np.arange( a+h/2, b, step=h)\n",
        "  return h*np.sum(f(nodes))\n",
        "\n",
        "def CompositeTrapezoidal( f, a, b, n):\n",
        "  nodes, h = np.linspace(a,b,n+1,retstep=True)\n",
        "  y  = f(nodes)\n",
        "  return h*( np.sum(y) - (y[0]+y[-1])/2) # y[-1] is last element; in Matlab, this is y(end)\n",
        "\n",
        "def CompositeSimpson( f, a, b, n):\n",
        "  n = int(n/2)*2  # Make it even\n",
        "  nodes, h = np.linspace(a,b,n+1,retstep=True)\n",
        "  y = f(nodes)\n",
        "  return h/3*( y[0] + 2*np.sum(y[2:n:2]) + 4*np.sum(y[1:n:2]) + y[-1] ) # in Matlab, it is a:step:b whereas in Python it is a:b:step and not inclusive of b"
      ],
      "execution_count": 5,
      "outputs": []
    },
    {
      "cell_type": "markdown",
      "metadata": {
        "id": "YzsqstY2_AgW"
      },
      "source": [
        "### Let's evaluate these on some functions"
      ]
    },
    {
      "cell_type": "code",
      "metadata": {
        "id": "vMfMfFVg-0xd",
        "outputId": "593c82f5-3d33-4377-b152-fba286b83b53",
        "colab": {
          "base_uri": "https://localhost:8080/",
          "height": 400
        }
      },
      "source": [
        "f = lambda x : np.cos(x)\n",
        "F = lambda x : np.sin(x)  # dF/dx = f\n",
        "a,b = -1,2\n",
        "\n",
        "\n",
        "# Other examples to try\n",
        "# f = lambda x : x**(3/2)\n",
        "# F = lambda x : 2/5*x**(5/2)\n",
        "# a,b = 0,1\n",
        "\n",
        "# f = lambda x : 1/(1+x**2)  # aka Runge's function\n",
        "# F = lambda x : np.arctan(x)\n",
        "# a,b = -5,5\n",
        "\n",
        "I   = F(b) - F(a)\n",
        "print(\"Integral I is {:.3f}\".format(I))\n",
        "\n",
        "x = np.linspace(a,b)\n",
        "plt.fill_between( x, f(x), alpha=0.5);\n",
        "plt.axvline(color='k');\n",
        "plt.axhline(color='k');"
      ],
      "execution_count": 6,
      "outputs": [
        {
          "output_type": "stream",
          "text": [
            "Integral I is 1.751\n"
          ],
          "name": "stdout"
        },
        {
          "output_type": "display_data",
          "data": {
            "image/png": "[encoded data removed]",
            "text/plain": [
              "<Figure size 576x432 with 1 Axes>"
            ]
          },
          "metadata": {
            "tags": [],
            "needs_background": "light"
          }
        }
      ]
    },
    {
      "cell_type": "markdown",
      "metadata": {
        "id": "lX1Tq-18_cNL"
      },
      "source": [
        "### Define the Gaussian quadrature rule\n",
        "Driscoll and Braun call it `glint` for **G**auss-**L**egendre **Int**egration (recall that Gauss-*Legendre* is the basic form of Gaussian integration, but there are variants like *Chebyshev*-Gauss)\n",
        "\n",
        "We'll go over the parts of this slowly"
      ]
    },
    {
      "cell_type": "code",
      "metadata": {
        "id": "wwevxVrq9f5Q"
      },
      "source": [
        "def glint(f,n,slowMode = False, specialMode = False):\n",
        "    \"\"\"\n",
        "    glint(f,n)\n",
        "\n",
        "    Perform Gauss-Legendre integration for the function `f` on `n` nodes in (-1,1). Return\n",
        "    integral and a vector of the nodes used.\n",
        "    \"\"\"\n",
        "    if specialMode:\n",
        "      if slowMode:\n",
        "        raise ValueError\n",
        "      x,c = roots_legendre(n)\n",
        "    else:\n",
        "      # Nodes and weights are found via a tridiagonal eigenvalue problem.\n",
        "      beta = 0.5/np.sqrt(1-(2.0*np.arange(1,n))**(-2)) # 3-term recurrence coeffs\n",
        "      if slowMode:\n",
        "        # Textbook style\n",
        "        T = np.diag(beta,1) + np.diag(beta,-1)           # Jacobi matrix\n",
        "        ev,V = scipy.linalg.eig(T)                       # eigenvalue decomposition\n",
        "        ev = np.real_if_close(ev)                        # keep it real\n",
        "      else:\n",
        "        # Better\n",
        "        ev,V = scipy.linalg.eigh_tridiagonal(np.zeros(n), beta)\n",
        "    \n",
        "      p = np.argsort(ev)                            # find indices that would sort ev\n",
        "      x = ev[p]               # nodes (= Legendre points)\n",
        "      c = 2*V[0,p]**2         # weights\n",
        "\n",
        "    # Evaluate the integrand and compute the integral.\n",
        "    # Note that we didn't need f until this point\n",
        "    I = np.dot(c,f(x))         # vector inner product\n",
        "    return I,x"
      ],
      "execution_count": 22,
      "outputs": []
    },
    {
      "cell_type": "code",
      "metadata": {
        "id": "VgKeNjZ3NMZ1",
        "outputId": "a5eb041b-b41f-4486-b529-007644170260",
        "colab": {
          "base_uri": "https://localhost:8080/",
          "height": 204
        }
      },
      "source": [
        "#n = 5\n",
        "n = int(1e3) # don't make larger than 2e3 or so...\n",
        "%time I_fast,nodes = glint(f,n,slowMode = False)\n",
        "%time I_slow,nodes = glint(f,n,slowMode = True)\n",
        "%time I_special,nodes = glint(f,n,specialMode = True)\n",
        "I_fast, I_slow, I_special, abs(I_fast-I_slow), abs(I_fast-I_special)"
      ],
      "execution_count": 23,
      "outputs": [
        {
          "output_type": "stream",
          "text": [
            "CPU times: user 80.6 ms, sys: 0 ns, total: 80.6 ms\n",
            "Wall time: 81.4 ms\n",
            "CPU times: user 3.88 s, sys: 1.5 s, total: 5.37 s\n",
            "Wall time: 2.78 s\n",
            "CPU times: user 76.5 ms, sys: 53.3 ms, total: 130 ms\n",
            "Wall time: 66.1 ms\n"
          ],
          "name": "stdout"
        },
        {
          "output_type": "execute_result",
          "data": {
            "text/plain": [
              "(1.6829419696157943,\n",
              " 1.6829419696158145,\n",
              " 1.6829419696159145,\n",
              " 2.020605904817785e-14,\n",
              " 1.2012613126444194e-13)"
            ]
          },
          "metadata": {
            "tags": []
          },
          "execution_count": 23
        }
      ]
    },
    {
      "cell_type": "markdown",
      "metadata": {
        "id": "VcoswFaFPW7j"
      },
      "source": [
        "Interlude: comparing to Matlab\n",
        "\n",
        "Matlab doesn't have nice tridiagonal eigenvalue solvers. To get something reasonably quick, you could use its sparse eigenvalue solvers. These are not perfect for triadiagonal matrices but are better than a generic eigenvalue solver.\n",
        "\n",
        "You might notice that you get better performance via Matlab than via Python/Numpy/Scipy.  In theory, performance should be similar, because they all call the same LAPACK libraries, which in turn use BLAS libraries.\n",
        "\n",
        "However, Matlab is commercial software and ships with the Intel MKL which provides a very high quality implementation of BLAS.  Numpy can be re-installed to work with Intel MKL, but you need Intel MKL, and must reinstall Numpy.  MKL does not appear to be available on Google's `colab`, so it uses `openblas`, which is a reasonable choice but likely not nearly as good as MKL."
      ]
    },
    {
      "cell_type": "code",
      "metadata": {
        "id": "Jif2NH-JPRi5",
        "outputId": "c2fdabf4-02f0-4afa-eb6c-71c0154abae4",
        "colab": {
          "base_uri": "https://localhost:8080/",
          "height": 459
        }
      },
      "source": [
        "np.show_config()"
      ],
      "execution_count": 11,
      "outputs": [
        {
          "output_type": "stream",
          "text": [
            "blas_mkl_info:\n",
            "  NOT AVAILABLE\n",
            "blis_info:\n",
            "  NOT AVAILABLE\n",
            "openblas_info:\n",
            "    libraries = ['openblas', 'openblas']\n",
            "    library_dirs = ['/usr/local/lib']\n",
            "    language = c\n",
            "    define_macros = [('HAVE_CBLAS', None)]\n",
            "blas_opt_info:\n",
            "    libraries = ['openblas', 'openblas']\n",
            "    library_dirs = ['/usr/local/lib']\n",
            "    language = c\n",
            "    define_macros = [('HAVE_CBLAS', None)]\n",
            "lapack_mkl_info:\n",
            "  NOT AVAILABLE\n",
            "openblas_lapack_info:\n",
            "    libraries = ['openblas', 'openblas']\n",
            "    library_dirs = ['/usr/local/lib']\n",
            "    language = c\n",
            "    define_macros = [('HAVE_CBLAS', None)]\n",
            "lapack_opt_info:\n",
            "    libraries = ['openblas', 'openblas']\n",
            "    library_dirs = ['/usr/local/lib']\n",
            "    language = c\n",
            "    define_macros = [('HAVE_CBLAS', None)]\n"
          ],
          "name": "stdout"
        }
      ]
    },
    {
      "cell_type": "markdown",
      "metadata": {
        "id": "pnKghpCkJ4Nd"
      },
      "source": [
        "Let's explore the parts of that function"
      ]
    },
    {
      "cell_type": "code",
      "metadata": {
        "id": "8VIrLUXjJ8Ol",
        "outputId": "a5b73eaf-7481-4d62-d792-118773740053",
        "colab": {
          "base_uri": "https://localhost:8080/",
          "height": 34
        }
      },
      "source": [
        "n = 7\n",
        "beta = 0.5/np.sqrt(1-(2.0*np.arange(1,n))**(-2)) \n",
        "print(\"beta is\", np.round(beta,decimals=3))"
      ],
      "execution_count": 13,
      "outputs": [
        {
          "output_type": "stream",
          "text": [
            "beta is [0.577 0.516 0.507 0.504 0.503 0.502]\n"
          ],
          "name": "stdout"
        }
      ]
    },
    {
      "cell_type": "code",
      "metadata": {
        "id": "QYOr3-rZLzkq",
        "outputId": "2c0d8da6-aa0c-4bbf-becb-b92607ecc4b8",
        "colab": {
          "base_uri": "https://localhost:8080/",
          "height": 153
        }
      },
      "source": [
        "T = np.diag(beta,1) + np.diag(beta,-1) \n",
        "\n",
        "print(\"T is:\")\n",
        "matprint(T,fmt='g',roundToDecimal=3)"
      ],
      "execution_count": 14,
      "outputs": [
        {
          "output_type": "stream",
          "text": [
            "T is:\n",
            "    0  0.577      0      0      0      0      0  \n",
            "0.577      0  0.516      0      0      0      0  \n",
            "    0  0.516      0  0.507      0      0      0  \n",
            "    0      0  0.507      0  0.504      0      0  \n",
            "    0      0      0  0.504      0  0.503      0  \n",
            "    0      0      0      0  0.503      0  0.502  \n",
            "    0      0      0      0      0  0.502      0  \n"
          ],
          "name": "stdout"
        }
      ]
    },
    {
      "cell_type": "code",
      "metadata": {
        "id": "gXEi2glFL3pX",
        "outputId": "b5ecc793-286b-4f69-c474-4b2057467e4e",
        "colab": {
          "base_uri": "https://localhost:8080/",
          "height": 68
        }
      },
      "source": [
        "ev,V = scipy.linalg.eig(T)  \n",
        "print(\"ev is\", np.round(ev,decimals=3))\n",
        "ev = np.real_if_close(ev)\n",
        "print(\"Now ev is\", np.round(ev,decimals=3))"
      ],
      "execution_count": 15,
      "outputs": [
        {
          "output_type": "stream",
          "text": [
            "ev is [-0.949+0.j -0.742+0.j -0.406+0.j  0.   +0.j  0.949+0.j  0.742+0.j\n",
            "  0.406+0.j]\n",
            "Now ev is [-0.949 -0.742 -0.406  0.     0.949  0.742  0.406]\n"
          ],
          "name": "stdout"
        }
      ]
    },
    {
      "cell_type": "code",
      "metadata": {
        "id": "pwlYVsKzQKVR",
        "outputId": "1cd09c3c-99c4-47b2-a471-0ea007adbc0e",
        "colab": {
          "base_uri": "https://localhost:8080/",
          "height": 51
        }
      },
      "source": [
        "print(\"Now ev is\", np.round(ev,decimals=3))\n",
        "p = np.argsort(ev)  # find indices that would sort ev\n",
        "print(p)"
      ],
      "execution_count": 17,
      "outputs": [
        {
          "output_type": "stream",
          "text": [
            "Now ev is [-0.949 -0.742 -0.406  0.     0.949  0.742  0.406]\n",
            "[0 1 2 3 6 5 4]\n"
          ],
          "name": "stdout"
        }
      ]
    },
    {
      "cell_type": "code",
      "metadata": {
        "id": "wGYv0YA1QLEM",
        "outputId": "d6a3342f-4c77-4912-f49e-ec574b288382",
        "colab": {
          "base_uri": "https://localhost:8080/",
          "height": 51
        }
      },
      "source": [
        "x = ev[p]               # nodes (= Legendre points)\n",
        "c = 2*V[0,p]**2         # weights\n",
        "print(\"Nodes are\\t\", np.round(x,decimals=3))\n",
        "print(\"Weights are\\t\", np.round(c,decimals=3))"
      ],
      "execution_count": 19,
      "outputs": [
        {
          "output_type": "stream",
          "text": [
            "Nodes are\t [-0.949 -0.742 -0.406  0.     0.406  0.742  0.949]\n",
            "Weights are\t [0.129 0.28  0.382 0.418 0.382 0.28  0.129]\n"
          ],
          "name": "stdout"
        }
      ]
    },
    {
      "cell_type": "code",
      "metadata": {
        "id": "1v1i9dNLQxqD",
        "outputId": "5155ae0f-e68c-4a9c-a7b7-98f29bb7cb1b",
        "colab": {
          "base_uri": "https://localhost:8080/",
          "height": 51
        }
      },
      "source": [
        "# Scipy has a builtin code for this\n",
        "xx,cc = roots_legendre(n)\n",
        "print(\"Nodes are\\t\", np.round(xx,decimals=3))\n",
        "print(\"Weights are\\t\", np.round(cc,decimals=3))"
      ],
      "execution_count": 21,
      "outputs": [
        {
          "output_type": "stream",
          "text": [
            "Nodes are\t [-0.949 -0.742 -0.406  0.     0.406  0.742  0.949]\n",
            "Weights are\t [0.129 0.28  0.382 0.418 0.382 0.28  0.129]\n"
          ],
          "name": "stdout"
        }
      ]
    },
    {
      "cell_type": "markdown",
      "metadata": {
        "id": "f175erroIPkP"
      },
      "source": [
        "### That was for [-1,1], so translate to any [a,b]"
      ]
    },
    {
      "cell_type": "code",
      "metadata": {
        "id": "4HAteTAxBFeB"
      },
      "source": [
        "def gauss(f,n,a,b):\n",
        "  \"\"\"\n",
        "  gauss(f,n,a,b)\n",
        "\n",
        "  Perform Gauss-Legendre integration of f on the interval [a,b]\n",
        "  by transforming the input and calling glint(f,n)\n",
        "  \"\"\"\n",
        "  # Follow equation (4.41) in Burden and Faires\n",
        "  halfwidth = (b-a)/2\n",
        "  midpoint  = (b+a)/2\n",
        "  g = lambda t : halfwidth*f(halfwidth*t + midpoint)\n",
        "  I,t = glint(g,n)\n",
        "  nodes = halfwidth*t + midpoint\n",
        "  return I,nodes"
      ],
      "execution_count": 30,
      "outputs": []
    },
    {
      "cell_type": "markdown",
      "metadata": {
        "id": "8jjg2JBkITX1"
      },
      "source": [
        "### Test the code to make sure it works"
      ]
    },
    {
      "cell_type": "code",
      "metadata": {
        "id": "W5mmAmZt_PLM",
        "outputId": "1b29570f-1de2-48ea-f944-7dab2711d721",
        "colab": {
          "base_uri": "https://localhost:8080/",
          "height": 204
        }
      },
      "source": [
        "for n in np.arange(1,12):\n",
        "  I_est,nodes = gauss(f,n,a,b)\n",
        "  print( f'Using {n:2d} nodes, error is {I-I_est:+.3e}' )"
      ],
      "execution_count": 31,
      "outputs": [
        {
          "output_type": "stream",
          "text": [
            "Using  1 nodes, error is -8.820e-01\n",
            "Using  2 nodes, error is +4.512e-02\n",
            "Using  3 nodes, error is -8.885e-04\n",
            "Using  4 nodes, error is +9.189e-06\n",
            "Using  5 nodes, error is -5.854e-08\n",
            "Using  6 nodes, error is +2.529e-10\n",
            "Using  7 nodes, error is -7.887e-13\n",
            "Using  8 nodes, error is +2.887e-15\n",
            "Using  9 nodes, error is -6.661e-16\n",
            "Using 10 nodes, error is +0.000e+00\n",
            "Using 11 nodes, error is -2.442e-15\n"
          ],
          "name": "stdout"
        }
      ]
    },
    {
      "cell_type": "markdown",
      "metadata": {
        "id": "-C5s9rP4IYVp"
      },
      "source": [
        "### Let's take a look at node location"
      ]
    },
    {
      "cell_type": "code",
      "metadata": {
        "id": "dI21ytBZADz-",
        "outputId": "fb87f47e-c02b-447b-a761-783c1bd6cdd4",
        "colab": {
          "base_uri": "https://localhost:8080/",
          "height": 383
        }
      },
      "source": [
        "n = 10\n",
        "I_est,nodes = gauss(f,n,a,b)\n",
        "x = np.linspace(a,b)\n",
        "\n",
        "plt.fill_between( x, f(x), alpha=0.5);\n",
        "plt.axvline(color='k');\n",
        "plt.axhline(color='k');\n",
        "\n",
        "#plt.stem( nodes, f(nodes),use_line_collection=True);\n",
        "plt.plot( nodes, 0*nodes, 'o',MarkerSize=15 );"
      ],
      "execution_count": 42,
      "outputs": [
        {
          "output_type": "display_data",
          "data": {
            "image/png": "[encoded data removed]",
            "text/plain": [
              "<Figure size 576x432 with 1 Axes>"
            ]
          },
          "metadata": {
            "tags": [],
            "needs_background": "light"
          }
        }
      ]
    },
    {
      "cell_type": "code",
      "metadata": {
        "id": "oum1gV3SDD7C",
        "outputId": "4b88aae6-7e7a-4078-ab67-7af97c98352d",
        "colab": {
          "base_uri": "https://localhost:8080/",
          "height": 383
        }
      },
      "source": [
        "n = 30\n",
        "I_est,nodes = gauss(f,n,a,b)\n",
        "x = np.linspace(a,b)\n",
        "\n",
        "plt.fill_between( x, f(x), alpha=0.5);\n",
        "plt.axvline(color='k');\n",
        "plt.axhline(color='k');\n",
        "\n",
        "#plt.stem( nodes, f(nodes),use_line_collection=True);\n",
        "plt.plot( nodes, 0*nodes, 'o',MarkerSize=15 );"
      ],
      "execution_count": 43,
      "outputs": [
        {
          "output_type": "display_data",
          "data": {
            "image/png": "[encoded data removed]",
            "text/plain": [
              "<Figure size 576x432 with 1 Axes>"
            ]
          },
          "metadata": {
            "tags": [],
            "needs_background": "light"
          }
        }
      ]
    },
    {
      "cell_type": "markdown",
      "metadata": {
        "id": "MEcnhMRxIbhx"
      },
      "source": [
        "### Switch to a harder function"
      ]
    },
    {
      "cell_type": "code",
      "metadata": {
        "id": "m_IppF-YDp_Y",
        "outputId": "dea61c5f-0ae7-453e-85a6-1c4f7eaa106a",
        "colab": {
          "base_uri": "https://localhost:8080/",
          "height": 406
        }
      },
      "source": [
        "# A harder function\n",
        "g = lambda x: (x+1)**2*np.cos((2*x+1)/(x-4.3))\n",
        "f = lambda x: g(4.1-x) # transform it if we want\n",
        "a,b = 0,4\n",
        "I,errEstimate = scipy.integrate.quadrature(f,a,b,tol=1e-14,rtol=1e-14,maxiter=200)\n",
        "\n",
        "x = np.logspace(-7,np.log10(b),500)\n",
        "plt.plot(x,f(x))\n",
        "plt.xlabel(\"$x$\"); plt.ylabel(\"$f(x)$\");\n",
        "plt.axvline(color='k');\n",
        "plt.axhline(color='k');"
      ],
      "execution_count": 86,
      "outputs": [
        {
          "output_type": "display_data",
          "data": {
            "image/png": "[encoded data removed]",
            "text/plain": [
              "<Figure size 576x432 with 1 Axes>"
            ]
          },
          "metadata": {
            "tags": [],
            "needs_background": "light"
          }
        }
      ]
    },
    {
      "cell_type": "code",
      "metadata": {
        "id": "lTIFGGELIoVy",
        "outputId": "a4b31a30-31d8-4381-d565-15be5dea7171",
        "colab": {
          "base_uri": "https://localhost:8080/",
          "height": 187
        }
      },
      "source": [
        "# Run Gaussian quadrature on this\n",
        "for n in np.arange(1,100,step=10):\n",
        "  I_est,nodes = gauss(f,n,a,b)\n",
        "  print( f'Using {n:2d} nodes, error is {I-I_est:+.3e}' )"
      ],
      "execution_count": 87,
      "outputs": [
        {
          "output_type": "stream",
          "text": [
            "Using  1 nodes, error is +2.478e+01\n",
            "Using 11 nodes, error is -5.850e+00\n",
            "Using 21 nodes, error is -4.137e+00\n",
            "Using 31 nodes, error is +9.016e-01\n",
            "Using 41 nodes, error is -3.678e-01\n",
            "Using 51 nodes, error is -2.021e-02\n",
            "Using 61 nodes, error is +3.593e-04\n",
            "Using 71 nodes, error is -1.172e-06\n",
            "Using 81 nodes, error is -7.601e-09\n",
            "Using 91 nodes, error is +9.093e-11\n"
          ],
          "name": "stdout"
        }
      ]
    },
    {
      "cell_type": "markdown",
      "metadata": {
        "id": "ugYlLIt4IiDy"
      },
      "source": [
        "### For that hard function, systematically compare Gauss-Legendre with others\n",
        "i.e., compare to the adaptive Simpson's `intadapt`, and regular composite Simpson's"
      ]
    },
    {
      "cell_type": "code",
      "metadata": {
        "id": "HuwIv4UPEhwL"
      },
      "source": [
        "# Q,t = intadapt(f,a,b,targetError)\n",
        "errGauss = []\n",
        "errAdaptive = []\n",
        "errSimpson = []\n",
        "nList = np.logspace(1,2,num=20,dtype=np.float)\n",
        "for n in nList:\n",
        "  I_est,nodes = gauss(f,n,a,b)\n",
        "  errGauss.append( abs(I-I_est) )\n",
        "\n",
        "nListSimp = np.logspace(1,5,num=40,dtype=np.float)\n",
        "for n in nListSimp:\n",
        "  I_est = CompositeSimpson( f, a, b, n)\n",
        "  errSimpson.append( abs(I-I_est) )\n",
        "\n",
        "tolList = np.logspace(-1,-15,num=20)\n",
        "n_adaptive = []\n",
        "for tol in tolList:\n",
        "  I_est,nodes = intadapt(f,a,b,tol)\n",
        "  n_adaptive.append( nodes.size )\n",
        "  errAdaptive.append( abs(I-I_est) )\n"
      ],
      "execution_count": 85,
      "outputs": []
    },
    {
      "cell_type": "code",
      "metadata": {
        "id": "Wx6g62NDFO_M",
        "outputId": "8498fb25-4d0e-401e-de2d-ab90235b42d9",
        "colab": {
          "base_uri": "https://localhost:8080/",
          "height": 386
        }
      },
      "source": [
        "plt.loglog( nList, errGauss,'o-',label=\"Gauss-Legendre\" );\n",
        "plt.loglog( nListSimp, errSimpson,'*-',label=\"Composite Simpson's\" );\n",
        "plt.loglog( n_adaptive, errAdaptive,'s-',label=\"Adaptive Simpson's\" );\n",
        "plt.legend();"
      ],
      "execution_count": 84,
      "outputs": [
        {
          "output_type": "display_data",
          "data": {
            "image/png": "[encoded data removed]",
            "text/plain": [
              "<Figure size 576x432 with 1 Axes>"
            ]
          },
          "metadata": {
            "tags": [],
            "needs_background": "light"
          }
        }
      ]
    },
    {
      "cell_type": "code",
      "metadata": {
        "id": "QKgIY8YVGYFx"
      },
      "source": [
        ""
      ],
      "execution_count": null,
      "outputs": []
    }
  ]
}