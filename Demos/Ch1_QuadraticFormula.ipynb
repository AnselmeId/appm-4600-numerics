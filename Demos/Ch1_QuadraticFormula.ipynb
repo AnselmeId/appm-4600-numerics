{
  "nbformat": 4,
  "nbformat_minor": 0,
  "metadata": {
    "colab": {
      "name": "Ch1_QuadraticFormula.ipynb",
      "provenance": [],
      "authorship_tag": "ABX9TyNVUpnBdJpIshYfVS4hFEfD",
      "include_colab_link": true
    },
    "kernelspec": {
      "name": "python3",
      "display_name": "Python 3"
    }
  },
  "cells": [
    {
      "cell_type": "markdown",
      "metadata": {
        "id": "view-in-github",
        "colab_type": "text"
      },
      "source": [
        "<a href=\"https://colab.research.google.com/github/stephenbeckr/numerical-analysis-class/blob/master/Demos/Ch1_QuadraticFormula.ipynb\" target=\"_parent\"><img src=\"https://colab.research.google.com/assets/colab-badge.svg\" alt=\"Open In Colab\"/></a>"
      ]
    },
    {
      "cell_type": "markdown",
      "metadata": {
        "id": "JBRHS_6zSBBO",
        "colab_type": "text"
      },
      "source": [
        "# Condition numbers and algorithms for the quadratic formula\n",
        "\n",
        "## Condition number\n",
        "If $r_1$ and $r_2$ are the roots, then we derived in our lecture that the condition number of finding the root $r$, with respect to perturbations in the coefficient $a$ (using $p(x) = ax^2 + bx + c$) is\n",
        "$$\n",
        "\\kappa(a) = \\left| \\frac{r}{r_1-r_2} \\right|\n",
        "$$\n",
        "so if the absolute value of a root $|r|$ is much greater than the spacing between the roots $|r_1-r_2|$, then root finding becomes ill-conditioned.\n",
        "\n",
        "Below is an example\n",
        "\n"
      ]
    },
    {
      "cell_type": "code",
      "metadata": {
        "id": "wXdLhx9SNCUn",
        "colab_type": "code",
        "colab": {
          "base_uri": "https://localhost:8080/",
          "height": 34
        },
        "outputId": "3bd8a09a-348f-49dd-dbb4-7ce8a76ad68a"
      },
      "source": [
        "import math\n",
        "\n",
        "def myRoots( a, b, c):\n",
        "  discSq = math.sqrt( b**2 - 4*a*c)\n",
        "  return (-b + discSq)/(2*a) , (-b - discSq)/(2*a) \n",
        "\n",
        "# Make a polynomial\n",
        "r1 = 1e3 + 1.01\n",
        "r2 = 1e3 \n",
        "a , b, c = 1., -(r1+r2), r1*r2\n",
        "\n",
        "s1, s2 = myRoots( a, b, c)\n",
        "print( \"Error is {:e} and {:e}\".format(abs(s1-r1), abs(s2-r2)) )\n"
      ],
      "execution_count": 33,
      "outputs": [
        {
          "output_type": "stream",
          "text": [
            "Error is 3.740297e-11 and 3.740297e-11\n"
          ],
          "name": "stdout"
        }
      ]
    },
    {
      "cell_type": "markdown",
      "metadata": {
        "id": "NY1AvIqISvcs",
        "colab_type": "text"
      },
      "source": [
        "The error in our input is about $10^{-16}$ due to floating point, and then we have a condition number of about $10^3$ with respect to the coefficient $a$, so we should lose at least 3 digits, and expect an answer no more accurate than $10^{-13}$. In fact, it's even worse, because we have to take into account error from $b$ and $c$, as well as the implementation of the root-finding is not perfect (more about that shortly!)"
      ]
    },
    {
      "cell_type": "markdown",
      "metadata": {
        "id": "AH35MiwGTDRR",
        "colab_type": "text"
      },
      "source": [
        "## Changing the algorithm\n",
        "For more accuracy, we can not use the quadratic formula.  Supposing $b>0$, then when we use the formula\n",
        "$$\n",
        "r_1 = \\frac{ - b + \\sqrt{b^2 - 4ac} }{2a}\n",
        "$$\n",
        "then if $b^2 \\gg 4ac$, we have $\\sqrt{b^2 - 4ac} \\approx b$, and so we'll have **subtractive cancellation** and lose precision.\n",
        "\n",
        "Instead, rationalize the denominator,\n",
        "$$\n",
        "r_1 = \\frac{ - b + \\sqrt{b^2 - 4ac} }{2a} \\cdot \n",
        "\\frac{ - b - \\sqrt{b^2 - 4ac} }{- b - \\sqrt{b^2 - 4ac}}\n",
        "= \\frac{ b^2 - (b^2 - 4ac)}{ 2a(-b-\\sqrt{b^2 - 4ac} )}\n",
        "$$\n",
        "and then cancel the $b^2 - b^2$ **by hand** in the numerator (rather than relying on the computer to do it) and simplify to get\n",
        "$$ r_1 = \\frac{-2c}{b+\\sqrt{b^2-4ac}}.\n",
        "$$\n",
        "\n",
        "Note that if $b<0$, we do **not** want to do this formula, since then we have subtractive cancellation in the denominator, and it's even worse!  In this case, we can use the old formula for $r_1$ but derive a similar new formula for $r_2$\n"
      ]
    },
    {
      "cell_type": "code",
      "metadata": {
        "id": "wK-wTuYbNe4g",
        "colab_type": "code",
        "colab": {
          "base_uri": "https://localhost:8080/",
          "height": 34
        },
        "outputId": "4f0ebe94-d634-471c-cf42-04ea7060b873"
      },
      "source": [
        "# Now, make a better root function\n",
        "\n",
        "def myRootsBetter( a, b, c):\n",
        "  discSq = math.sqrt( b**2 - 4*a*c)\n",
        "  if b > 0 :\n",
        "    r1 = -2*c/(b+math.sqrt(b**2-4*a*c))\n",
        "    r2 = (-b - discSq)/(2*a)\n",
        "  else :\n",
        "    r1 = (-b + discSq)/(2*a)\n",
        "    r2 = -2*c/(b-math.sqrt(b**2-4*a*c))\n",
        "  return r1, r2\n",
        "\n",
        "s1, s2 = myRootsBetter( a, b, c)\n",
        "print( \"Error (new method) is {:e} and {:e}\".format(abs(s1-r1), abs(s2-r2)) )"
      ],
      "execution_count": 31,
      "outputs": [
        {
          "output_type": "stream",
          "text": [
            "Error (new method) is 0.000000e+00 and 0.000000e+00\n"
          ],
          "name": "stdout"
        }
      ]
    },
    {
      "cell_type": "markdown",
      "metadata": {
        "id": "RZ7t96DAUxah",
        "colab_type": "text"
      },
      "source": [
        "Let's apply this to a \"nice\" polynomial (one that according to our analysis should be well-conditioned).  The function is not ill-conditioned, but our **algorithm** could be unstable."
      ]
    },
    {
      "cell_type": "code",
      "metadata": {
        "id": "MdWpY15qPG0B",
        "colab_type": "code",
        "colab": {
          "base_uri": "https://localhost:8080/",
          "height": 68
        },
        "outputId": "1ee7a155-75d7-4603-9048-51b1ff19f2d5"
      },
      "source": [
        "# Now, on a different kind of polynimial\n",
        "r1 = 1.0e6 + 1.01\n",
        "r2 = 1.01e-3 \n",
        "a , b, c = 1., -(r1+r2), r1*r2\n",
        "print(\"a, b, c are \", a, b, c )\n",
        "\n",
        "s1, s2 = myRoots( a, b, c)\n",
        "print( \"Error is {:e} and {:e}\".format(abs(s1-r1), abs(s2-r2)) )\n",
        "\n",
        "s1, s2 = myRootsBetter( a, b, c)\n",
        "print( \"Error (new method) is {:e} and {:e}\".format(abs(s1-r1), abs(s2-r2)) )"
      ],
      "execution_count": 38,
      "outputs": [
        {
          "output_type": "stream",
          "text": [
            "a, b, c are  1.0 -1000001.01101 1010.0010201\n",
            "Error is 0.000000e+00 and 5.098060e-11\n",
            "Error (new method) is 0.000000e+00 and 0.000000e+00\n"
          ],
          "name": "stdout"
        }
      ]
    },
    {
      "cell_type": "code",
      "metadata": {
        "id": "788P5KxKQkKO",
        "colab_type": "code",
        "colab": {}
      },
      "source": [
        ""
      ],
      "execution_count": null,
      "outputs": []
    }
  ]
}