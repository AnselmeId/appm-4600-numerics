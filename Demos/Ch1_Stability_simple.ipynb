{
  "nbformat": 4,
  "nbformat_minor": 0,
  "metadata": {
    "colab": {
      "name": "Ch1_Stability_simple.ipynb",
      "provenance": [],
      "authorship_tag": "ABX9TyNvM39zpcNeFIsfrOENbkQ0",
      "include_colab_link": true
    },
    "kernelspec": {
      "name": "python3",
      "display_name": "Python 3"
    }
  },
  "cells": [
    {
      "cell_type": "markdown",
      "metadata": {
        "id": "view-in-github",
        "colab_type": "text"
      },
      "source": [
        "<a href=\"https://colab.research.google.com/github/stephenbeckr/numerical-analysis-class/blob/student/Demos/Ch1_Stability_simple.ipynb\" target=\"_parent\"><img src=\"https://colab.research.google.com/assets/colab-badge.svg\" alt=\"Open In Colab\"/></a>"
      ]
    },
    {
      "cell_type": "markdown",
      "metadata": {
        "id": "A47Wt2BtZv28",
        "colab_type": "text"
      },
      "source": [
        "# Stability of Algorithms\n",
        "\n",
        "Mathematical **problems** can be ill-conditioned, whereas **algorithms** can be stable (or unstable).  Here we examine two different algorithms that compute the same answer (i.e., solve the same problem), and investigate if they are stable or not\n",
        "\n",
        "(Btw, we use a lot of [lambda functions](https://www.w3schools.com/python/python_lambda.asp), so ask for help if you don't understand these)"
      ]
    },
    {
      "cell_type": "code",
      "metadata": {
        "id": "vv-UqJDn75Hl",
        "colab_type": "code",
        "colab": {}
      },
      "source": [
        "import math\n",
        "\n",
        "c = 100\n",
        "\n",
        "# Algorithm 1:\n",
        "f = lambda x : ( x - c )**2\n",
        "\n",
        "# Algorithm 2:\n",
        "g = lambda x : x**2 - 2*x*c + c**2\n",
        "\n",
        "delta = 1e-6\n",
        "#delta = 4\n",
        "trueAnswer = delta**2\n",
        "x = c + delta"
      ],
      "execution_count": null,
      "outputs": []
    },
    {
      "cell_type": "markdown",
      "metadata": {
        "id": "bdcvZYPVF_hI",
        "colab_type": "text"
      },
      "source": [
        "Task: write functions that compute the relative error, and the correct number of digits  (you can do this as a normal function or as a lambda function )"
      ]
    },
    {
      "cell_type": "code",
      "metadata": {
        "id": "LaKBB2rTF9q1",
        "colab_type": "code",
        "colab": {}
      },
      "source": [
        "relError = lambda guess : [TODO]\n",
        "correctDigits = lambda guess: [TODO]\n",
        "\n",
        "# or do it like this:\n",
        "def relError( guess ):\n",
        "  [TODO]"
      ],
      "execution_count": null,
      "outputs": []
    },
    {
      "cell_type": "markdown",
      "metadata": {
        "id": "cGq5BlRRbQT7",
        "colab_type": "text"
      },
      "source": [
        "Looking at Algorithm 1 and Algorithm 2, can you guess which one might do better? (or maybe you remember from watching the lecture)"
      ]
    },
    {
      "cell_type": "code",
      "metadata": {
        "id": "E_0TkxBnbPUO",
        "colab_type": "code",
        "colab": {}
      },
      "source": [
        "print(\"The number of correct digits (via algorithm 1) is about %.1f\"% correctDigits( f(x) ) )\n",
        "print(\"The number of correct digits (via algorithm 2) is about %.1f\"% correctDigits( g(x) ) )\n",
        "\n",
        "print(\"  Algorithm 1 gives\\t%.10e \"% f(x) )\n",
        "print(\"  Algorithm 2 gives\\t%.10e \"% g(x) )\n",
        "print(\"  True answer is\\t%.10e \"% trueAnswer )"
      ],
      "execution_count": null,
      "outputs": []
    },
    {
      "cell_type": "code",
      "metadata": {
        "id": "K3emUCQoGVYM",
        "colab_type": "code",
        "colab": {}
      },
      "source": [
        ""
      ],
      "execution_count": null,
      "outputs": []
    },
    {
      "cell_type": "markdown",
      "metadata": {
        "id": "wc0errJPGWIe",
        "colab_type": "text"
      },
      "source": [
        "What is the (relative) condition number of the problem?"
      ]
    },
    {
      "cell_type": "code",
      "metadata": {
        "id": "6wRiz4Sj_Fyg",
        "colab_type": "code",
        "colab": {}
      },
      "source": [
        "# We can work this out: \n",
        "print(\"  The condition number, at the selected x and c, is %.2e\"% [YOUR CODE HERE]  )"
      ],
      "execution_count": null,
      "outputs": []
    },
    {
      "cell_type": "markdown",
      "metadata": {
        "id": "zooUalfEaiTN",
        "colab_type": "text"
      },
      "source": [
        "Did any of the algorithms lose no more digits of accuracy than predicted by the condition number?   \n",
        "\n",
        "Change the values of `c` and `lambda`. How do they affet your answer?"
      ]
    }
  ]
}