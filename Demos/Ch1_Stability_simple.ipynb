{
  "nbformat": 4,
  "nbformat_minor": 0,
  "metadata": {
    "colab": {
      "name": "Ch1_Stability_simple.ipynb",
      "provenance": [],
      "authorship_tag": "ABX9TyMc+raH/YR2Z1ysu6RFxzKY",
      "include_colab_link": true
    },
    "kernelspec": {
      "name": "python3",
      "display_name": "Python 3"
    }
  },
  "cells": [
    {
      "cell_type": "markdown",
      "metadata": {
        "id": "view-in-github",
        "colab_type": "text"
      },
      "source": [
        "<a href=\"https://colab.research.google.com/github/stephenbeckr/numerical-analysis-class/blob/master/Demos/Ch1_Stability_simple.ipynb\" target=\"_parent\"><img src=\"https://colab.research.google.com/assets/colab-badge.svg\" alt=\"Open In Colab\"/></a>"
      ]
    },
    {
      "cell_type": "markdown",
      "metadata": {
        "id": "A47Wt2BtZv28",
        "colab_type": "text"
      },
      "source": [
        "# Stability of Algorithms\n",
        "\n",
        "Students: try the [version of this in the student branch](https://github.com/stephenbeckr/numerical-analysis-class/blob/student/Demos/Ch1_Stability_simple.ipynb) before checking back here.\n",
        "\n",
        "Mathematical **problems** can be ill-conditioned, whereas **algorithms** can be stable (or unstable).  Here we examine two different algorithms that compute the same answer (i.e., solve the same problem), and investigate if they are stable or not"
      ]
    },
    {
      "cell_type": "code",
      "metadata": {
        "id": "vv-UqJDn75Hl",
        "colab_type": "code",
        "colab": {
          "base_uri": "https://localhost:8080/",
          "height": 102
        },
        "outputId": "9e388bbd-f874-457b-d9be-321d0fdcbb18"
      },
      "source": [
        "import math\n",
        "\n",
        "c = 100\n",
        "\n",
        "# Algorithm 1:\n",
        "f = lambda x : ( x - c )**2\n",
        "\n",
        "# Algorithm 2:\n",
        "g = lambda x : x**2 - 2*x*c + c**2\n",
        "\n",
        "delta = 1e-6\n",
        "#delta = 4\n",
        "trueAnswer = delta**2\n",
        "x = c + delta\n",
        "\n",
        "relError = lambda guess : abs( (guess - trueAnswer)/trueAnswer )\n",
        "correctDigits = lambda guess: -math.log10( relError(guess) + 1e-100 )\n",
        "\n",
        "print(\"The number of correct digits (via algorithm 1) is about %.1f\"% correctDigits( f(x) ) )\n",
        "print(\"The number of correct digits (via algorithm 2) is about %.1f\"% correctDigits( g(x) ) )\n",
        "\n",
        "print(\"  Algorithm 1 gives\\t%.10e \"% f(x) )\n",
        "print(\"  Algorithm 2 gives\\t%.10e \"% g(x) )\n",
        "print(\"  True answer is\\t%.10e \"% trueAnswer )\n"
      ],
      "execution_count": null,
      "outputs": [
        {
          "output_type": "stream",
          "text": [
            "The number of correct digits (via algorithm 1) is about 8.3\n",
            "The number of correct digits (via algorithm 2) is about 0.1\n",
            "  Algorithm 1 gives\t9.9999999495e-13 \n",
            "  Algorithm 2 gives\t1.8189894035e-12 \n",
            "  True answer is\t1.0000000000e-12 \n"
          ],
          "name": "stdout"
        }
      ]
    },
    {
      "cell_type": "code",
      "metadata": {
        "id": "6wRiz4Sj_Fyg",
        "colab_type": "code",
        "colab": {
          "base_uri": "https://localhost:8080/",
          "height": 34
        },
        "outputId": "59cc40ff-5d26-4fff-bb44-8ffd368f1069"
      },
      "source": [
        "# What is the (relative) condition number of the problem?\n",
        "\n",
        "# We can work this out: kappa = | 2x/(x-c)^2 |\n",
        "print(\"  The condition number, at the selected x and c, is %.2e\"% abs(2*x/( (x-c)*2)))"
      ],
      "execution_count": null,
      "outputs": [
        {
          "output_type": "stream",
          "text": [
            "  The condition number, at the selected x and c, is 1.00e+08\n"
          ],
          "name": "stdout"
        }
      ]
    },
    {
      "cell_type": "code",
      "metadata": {
        "id": "znd9XvqVaeDd",
        "colab_type": "code",
        "colab": {}
      },
      "source": [
        ""
      ],
      "execution_count": null,
      "outputs": []
    },
    {
      "cell_type": "markdown",
      "metadata": {
        "id": "zooUalfEaiTN",
        "colab_type": "text"
      },
      "source": [
        "Did any of the algorithms lose no more digits of accuracy than predicted by the condition number?   Yes, Algorithm 1."
      ]
    }
  ]
}