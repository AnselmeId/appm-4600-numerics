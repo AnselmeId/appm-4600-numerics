{
  "nbformat": 4,
  "nbformat_minor": 0,
  "metadata": {
    "colab": {
      "name": "Ch4_MultidimensionalIntegrals.ipynb",
      "provenance": [],
      "authorship_tag": "ABX9TyM7RVNbtSEQE/aa89rRqCn9",
      "include_colab_link": true
    },
    "kernelspec": {
      "name": "python3",
      "display_name": "Python 3"
    }
  },
  "cells": [
    {
      "cell_type": "markdown",
      "metadata": {
        "id": "view-in-github",
        "colab_type": "text"
      },
      "source": [
        "<a href=\"https://colab.research.google.com/github/stephenbeckr/numerical-analysis-class/blob/master/Demos/Ch4_MultidimensionalIntegrals.ipynb\" target=\"_parent\"><img src=\"https://colab.research.google.com/assets/colab-badge.svg\" alt=\"Open In Colab\"/></a>"
      ]
    },
    {
      "cell_type": "markdown",
      "metadata": {
        "id": "06-QMcbgPP91"
      },
      "source": [
        "# Integration in multiple dimensions\n",
        "Before, we talked about\n",
        "$$\\int_a^b f(x)\\,dx$$\n",
        "and now let's talk about\n",
        "$$\\int_a^b \\int_c^d f(x,y)\\,dy dx$$\n",
        "and even triple or higher-dimensional integrals.\n",
        "\n",
        "Our trick is to reduce this to 1D integrals:\n",
        "$$\\int_a^b \\underbrace{\\int_c^d f(x,y)\\,dy}_{g(x)} dx = \\int_a^b g(x)\\,dx$$\n",
        "where\n",
        "$$g(x) = \\int_c^d f(x,y)\\,dy.$$"
      ]
    },
    {
      "cell_type": "code",
      "metadata": {
        "id": "XnqqMgyRPwOO"
      },
      "source": [
        "import numpy as np\n",
        "from scipy.integrate import quadrature, quad, dblquad  # quadrature is Gassian quadrature\n",
        "import functools # used for decorators"
      ],
      "execution_count": 1,
      "outputs": []
    },
    {
      "cell_type": "markdown",
      "metadata": {
        "id": "ki4sGNYBRkdS"
      },
      "source": [
        "### Let's pick an integral\n",
        "From exercise set 4.8 problem 1a in Burden and Faires, find\n",
        "$$\\int_{2.1}^{2.5} \\int_{1.2}^{1.4} xy^2 \\, dydx$$\n",
        "which we can do in closed form\n",
        "$$\n",
        "\\ldots = \\int_{2.1}^{2.5} \\frac13xy^3\\big|_{1.2}^{1.4} dx\n",
        "= \\int_{2.1}^{2.5} \\frac13x(1.4^3-1.2^3) dx\n",
        "= \\frac13\\frac12(1.4^3-1.2^3)(2.5^2-2.1^2)\n",
        "$$\n",
        "\n",
        "Note that this is really a **separable** integral, meaning we can pull the $x$ out of the inner integrand, and then multiply two 1D integrals: $$f(x,y) = f(x)\\cdot f(y)$$.  You generally cannot do this."
      ]
    },
    {
      "cell_type": "code",
      "metadata": {
        "id": "U4tmGhLXSarr"
      },
      "source": [
        "# lambda functions are more complicated to vectorize\n",
        "# f = lambda x,y : x*y**2\n",
        "\n",
        "#@np.vectorize  # not needed\n",
        "def f(x,y):\n",
        "  return x*y**2\n",
        "\n",
        "a, b = 2.1, 2.5\n",
        "c, d = 1.2, 1.4\n",
        "I = (d**3-c**3)*(b**2-a**2)/6  # true value"
      ],
      "execution_count": 2,
      "outputs": []
    },
    {
      "cell_type": "markdown",
      "metadata": {
        "id": "yosWLZqJb3VM"
      },
      "source": [
        "Let's check that scipy's builtin 2D integrator, `dblquad`, works as intended"
      ]
    },
    {
      "cell_type": "code",
      "metadata": {
        "id": "uTMlWyqwb2cm",
        "outputId": "bc028b72-0d76-421b-9c59-43f77e3942b0",
        "colab": {
          "base_uri": "https://localhost:8080/",
          "height": 34
        }
      },
      "source": [
        "# Let's try getting it via scipy.  Be careful!  The input f must be:\n",
        "# \"A Python function or method of at least two variables: y must be the first argument and x the second argument.\"\n",
        "def swap_decorator(f):\n",
        "  @functools.wraps(f)\n",
        "  def decorated(x,y):\n",
        "    return f(y,x)\n",
        "  return decorated\n",
        "\n",
        "Q,errEst = dblquad( swap_decorator(f), a,b,c,d)\n",
        "print(f'True integral {I:.10f}, estimate {Q:.10f}, error {abs(I-Q):.3e}')"
      ],
      "execution_count": 4,
      "outputs": [
        {
          "output_type": "stream",
          "text": [
            "True integral 0.3115733333, estimate 0.3115733333, error 1.665e-16\n"
          ],
          "name": "stdout"
        }
      ]
    },
    {
      "cell_type": "markdown",
      "metadata": {
        "id": "X0YDfRNYb-EN"
      },
      "source": [
        "### Our procedure is going to rely on a 1D integrator\n",
        "Call this the \"base\" quadrature rule. We can use whichever one we like. We may want to adjust the tolerance settings so that it runs faster (but is less accurate), as this will be important for very high dimensional integrals"
      ]
    },
    {
      "cell_type": "code",
      "metadata": {
        "id": "uBbq0V_nSl8A"
      },
      "source": [
        "def baseQuadratureRule(f,a,b):\n",
        "  \"\"\"1D integration of f(x) from a to b\"\"\"\n",
        "  # Either do this Gaussian quadrature rule...\n",
        "  # Q, errEstimate = quadrature(f,a,b,tol=1e-14,rtol=1e-14,maxiter=200)\n",
        "\n",
        "  # or do this adaptive quadrature rule...\n",
        "  Q, errEstimate = quad(f,a,b,epsabs=1.5e-8,epsrel=1.5e-8,limit=50)\n",
        "  return Q"
      ],
      "execution_count": 9,
      "outputs": []
    },
    {
      "cell_type": "markdown",
      "metadata": {
        "id": "2BxXdfEyZPl4"
      },
      "source": [
        "Make sure the base quadrature rule works"
      ]
    },
    {
      "cell_type": "code",
      "metadata": {
        "id": "xxV4LdzeZSvJ",
        "outputId": "849bbcd7-be09-4262-b488-3e8e8b34fa59",
        "colab": {
          "base_uri": "https://localhost:8080/",
          "height": 34
        }
      },
      "source": [
        "g = np.cos\n",
        "G = np.sin\n",
        "aa,bb = -1,2\n",
        "Q = baseQuadratureRule( g,aa,bb )\n",
        "print(f'Error of based quadrature rule is {abs(Q-G(bb)+G(aa)):.2e}')"
      ],
      "execution_count": 6,
      "outputs": [
        {
          "output_type": "stream",
          "text": [
            "Error of based quadrature rule is 2.22e-16\n"
          ],
          "name": "stdout"
        }
      ]
    },
    {
      "cell_type": "markdown",
      "metadata": {
        "id": "7NQRZpPsZrAm"
      },
      "source": [
        "## Define the 2D quadrature rule"
      ]
    },
    {
      "cell_type": "code",
      "metadata": {
        "id": "ZyoeljpQW8Sk"
      },
      "source": [
        "def my2D_quadrature(f,a,b,c,d, baseQuadRule ):\n",
        "  \"\"\"takes f(x,y) and integrates x from [a,b] and y from [c,d]\"\"\"\n",
        "  \n",
        "  @np.vectorize # not needed if using \"quad\", but needed for \"quadrature\"\n",
        "  def g(x):\n",
        "    \"\"\" g(x) = \\int_c^d f(x,y) dy \"\"\"\n",
        "    #@np.vectorize # not needed\n",
        "    def f_as_fcn_of_y(y):\n",
        "      return f(x,y)\n",
        "\n",
        "    # the limits are c to d, but you can see that if we wanted\n",
        "    # them to be functions of x, it would be as simple\n",
        "    # as calling  baseQuadRule( f_as_fcn_of_y, c(x), d(x) )\n",
        "    Q = baseQuadRule( f_as_fcn_of_y, c, d )\n",
        "    return Q\n",
        "  \n",
        "  Q = baseQuadRule( g, a, b )\n",
        "  return Q"
      ],
      "execution_count": 7,
      "outputs": []
    },
    {
      "cell_type": "code",
      "metadata": {
        "id": "2u9wLYP9Xww9",
        "outputId": "412466a9-96f4-45e1-cb53-c284cd54359a",
        "colab": {
          "base_uri": "https://localhost:8080/",
          "height": 34
        }
      },
      "source": [
        "Q = my2D_quadrature(f,a,b,c,d,baseQuadratureRule)\n",
        "\n",
        "print(f'True integral {I:.10f}, estimate {Q:.10f}, error {abs(I-Q):.3e}')"
      ],
      "execution_count": 10,
      "outputs": [
        {
          "output_type": "stream",
          "text": [
            "True integral 0.3115733333, estimate 0.3115733333, error 1.665e-16\n"
          ],
          "name": "stdout"
        }
      ]
    },
    {
      "cell_type": "markdown",
      "metadata": {
        "id": "jPjf0DyJcXD2"
      },
      "source": [
        "Hopefully you see that it is conceptually easy, though it may require advanced **programming** tricks to get it to work.\n",
        "\n",
        "Some of the base integrators will try to evaluate $f$ at a whole array of points all at once, expecting it to output an array (since this is usually much faster than a `for` loop).  If we have 2 inputs, this can cause a problem.  That's what some of the `np.vectorize` takes care of"
      ]
    }
  ]
}