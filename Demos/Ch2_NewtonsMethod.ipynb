{
  "nbformat": 4,
  "nbformat_minor": 0,
  "metadata": {
    "colab": {
      "name": "Ch2_NewtonsMethod.ipynb",
      "provenance": [],
      "authorship_tag": "ABX9TyNe+B1EWUqdtXhDvOI9ouzp",
      "include_colab_link": true
    },
    "kernelspec": {
      "name": "python3",
      "display_name": "Python 3"
    }
  },
  "cells": [
    {
      "cell_type": "markdown",
      "metadata": {
        "id": "view-in-github",
        "colab_type": "text"
      },
      "source": [
        "<a href=\"https://colab.research.google.com/github/stephenbeckr/numerical-analysis-class/blob/master/Demos/Ch2_NewtonsMethod.ipynb\" target=\"_parent\"><img src=\"https://colab.research.google.com/assets/colab-badge.svg\" alt=\"Open In Colab\"/></a>"
      ]
    },
    {
      "cell_type": "markdown",
      "metadata": {
        "id": "38sDrdgZ3ikK",
        "colab_type": "text"
      },
      "source": [
        "# Introduction to Newton's Method\n",
        "\n",
        "In the [Ch2_IntroToBisection.ipynb](https://github.com/stephenbeckr/numerical-analysis-class/blob/master/Demos/Ch2_IntroToBisection.ipynb) demo, we looked at [Lambert's W function](https://en.wikipedia.org/wiki/Lambert_W_function). Let's use this example again for root finding, but this time via Newton's method"
      ]
    },
    {
      "cell_type": "code",
      "metadata": {
        "id": "BoVK3VyR31Mm",
        "colab_type": "code",
        "colab": {
          "base_uri": "https://localhost:8080/",
          "height": 248
        },
        "outputId": "e25dd3a8-1cd2-4d9d-b266-7aa2ac7b1d03"
      },
      "source": [
        "import numpy as np\n",
        "\n",
        "x = 20\n",
        "f = lambda y : y*np.exp(y) - x\n",
        "\n",
        "\n",
        "# Let's also get a \"true\" answer, or at least a fairly good one\n",
        "import scipy.special.lambertw as W\n",
        "\n",
        "trueAnswer = np.real( W(20) )\n",
        "relError = lambda guess : abs( guess - trueAnswer )/abs(trueAnswer)\n",
        "correctDigits = lambda guess : -np.log10( relError(guess) + 1e-17)\n",
        "\n",
        "# Plotting\n",
        "\n",
        "yGrid = np.linspace(0,3,100)\n",
        "\n",
        "%matplotlib inline\n",
        "import matplotlib.pyplot as plt\n",
        "plt.style.use('ggplot')\n",
        "\n",
        "fig, ax = plt.subplots()\n",
        "plt.plot(yGrid,f(yGrid))\n",
        "plt.plot( trueAnswer,f(trueAnswer),'o',markersize=15)\n",
        "ax.spines['left'].set_position('zero')\n",
        "ax.spines['right'].set_color('none')\n",
        "ax.spines['bottom'].set_position('zero')\n",
        "ax.spines['top'].set_color('none')\n",
        "ax.minorticks_on()"
      ],
      "execution_count": 2,
      "outputs": [
        {
          "output_type": "display_data",
          "data": {
            "image/png": "[encoded data removed]",
            "text/plain": [
              "<Figure size 432x288 with 1 Axes>"
            ]
          },
          "metadata": {
            "tags": []
          }
        }
      ]
    },
    {
      "cell_type": "markdown",
      "metadata": {
        "id": "9Aeynmor4GFA",
        "colab_type": "text"
      },
      "source": [
        "## Task: implement Newton's Method\n",
        "\n",
        "1. Start with a simple implementation that runs the iterations, maybe printing out the value of x and f(x) at every iteration.  Run the method for a fixed number of iterations (like 20)\n",
        "2. You can make fancier implementations that **save** a list of x and f(x) in case you want to display or plot them later\n",
        "3. You can implement any of the stopping criteria discussed in our book, e.g.,\n",
        "  - $|x_n - x_{n-1}| \\le \\epsilon$\n",
        "  - $\\frac{|x_n - x_{n-1}|}{\\max\\{|x_,10^{-15}\\}} \\le \\epsilon$\n",
        "  - $|f(x_n)| \\le \\epsilon$ "
      ]
    },
    {
      "cell_type": "code",
      "metadata": {
        "id": "oI8KTvcL34mI",
        "colab_type": "code",
        "colab": {}
      },
      "source": [
        "def Newton(f,fprime,x0,maxIter = 100):\n",
        "  history_x  = np.zeros(maxIter)\n",
        "  history_fx = np.zeros(maxIter)\n",
        "  x   = np.asarray(x0).copy()\n",
        "  fx  = f(x)\n",
        "  history_x[n]  = x\n",
        "  history_fx[n] = fx\n",
        "  for n in range(1,maxIter):\n",
        "    x  = x - fx/fprime(x)\n",
        "    fx = f(x)\n",
        "    history_x[n] = x\n",
        "    history_fx[n] = fx\n",
        "  return x, history_x, history_fx"
      ],
      "execution_count": 3,
      "outputs": []
    },
    {
      "cell_type": "code",
      "metadata": {
        "id": "5PyeVFQc8exh",
        "colab_type": "code",
        "colab": {}
      },
      "source": [
        "# Now, run Newton's method on the function f\n",
        "fprime = lambda y : np.exp(y) + y*np.exp(y)\n",
        "\n",
        "p = Newton(f,fprime,2,20)"
      ],
      "execution_count": null,
      "outputs": []
    },
    {
      "cell_type": "markdown",
      "metadata": {
        "id": "6LVPDLiU6WxG",
        "colab_type": "text"
      },
      "source": [
        "## Task: implement the Secant Method\n",
        "You'll notice one important detail: we need to specify **two** initial points, $x_0$ and $x_1$"
      ]
    },
    {
      "cell_type": "code",
      "metadata": {
        "id": "cBjAhMc08CCL",
        "colab_type": "code",
        "colab": {}
      },
      "source": [
        ""
      ],
      "execution_count": null,
      "outputs": []
    },
    {
      "cell_type": "markdown",
      "metadata": {
        "id": "n4g4SCGS78Xm",
        "colab_type": "text"
      },
      "source": [
        "### Task: compare Newton's method, the Secant method, and bisection method"
      ]
    },
    {
      "cell_type": "code",
      "metadata": {
        "id": "B2tcMRRJ6abo",
        "colab_type": "code",
        "colab": {}
      },
      "source": [
        ""
      ],
      "execution_count": null,
      "outputs": []
    },
    {
      "cell_type": "markdown",
      "metadata": {
        "id": "bVKDUqVn6bCC",
        "colab_type": "text"
      },
      "source": [
        "## Task: \"break\" Newton's method"
      ]
    },
    {
      "cell_type": "code",
      "metadata": {
        "id": "BIZdm8wN6d-k",
        "colab_type": "code",
        "colab": {}
      },
      "source": [
        ""
      ],
      "execution_count": null,
      "outputs": []
    }
  ]
}