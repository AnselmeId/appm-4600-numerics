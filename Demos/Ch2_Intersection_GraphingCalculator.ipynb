{
  "nbformat": 4,
  "nbformat_minor": 0,
  "metadata": {
    "colab": {
      "name": "Ch2_Intersection_GraphingCalculator.ipynb",
      "provenance": [],
      "authorship_tag": "ABX9TyMTpPAUOy0Uyv09bmkrLlYC",
      "include_colab_link": true
    },
    "kernelspec": {
      "name": "python3",
      "display_name": "Python 3"
    }
  },
  "cells": [
    {
      "cell_type": "markdown",
      "metadata": {
        "id": "view-in-github",
        "colab_type": "text"
      },
      "source": [
        "<a href=\"https://colab.research.google.com/github/stephenbeckr/numerical-analysis-class/blob/student/Demos/Ch2_Intersection_GraphingCalculator.ipynb\" target=\"_parent\"><img src=\"https://colab.research.google.com/assets/colab-badge.svg\" alt=\"Open In Colab\"/></a>"
      ]
    },
    {
      "cell_type": "markdown",
      "metadata": {
        "id": "Ga_57SMeQM9_",
        "colab_type": "text"
      },
      "source": [
        "# Finding the intersection of two functions\n",
        "\n",
        "This is the **student branch** version that is more open-ended. See the **master branch** version for answers.\n",
        "\n",
        "This is something you might have done in high school on a graphing calculator (the particular functions we're using are inspired by this [post about using the TI-84+](https://www.dummies.com/education/graphing-calculators/how-to-find-points-of-intersection-on-the-ti-84-plus/)).\n",
        "\n",
        "![TI-84 image](https://github.com/stephenbeckr/numerical-analysis-class/raw/master/Demos/img/398635.image0.jpg)\n",
        "\n",
        "Let's find the intersection of\n",
        "$$ f(x) = .2(x-2)x(x+4)  \\quad\\text{and}\\quad g(x) = .5 x $$\n",
        "\n",
        "First, let's plot the functions:\n",
        "(for plotting, here's a list of [style sheets](https://matplotlib.org/3.3.1/gallery/style_sheets/style_sheets_reference.html) to use with `plt.style.use`, and [general matplotlib cheatsheets](https://github.com/matplotlib/cheatsheets); if you want to make the axes through the origin, like in the TI-84 picture, this [stackoverflow post](https://stackoverflow.com/a/25689340) gives several methods)"
      ]
    },
    {
      "cell_type": "code",
      "metadata": {
        "id": "yPMbjKK5Q5ZS",
        "colab_type": "code",
        "colab": {}
      },
      "source": [
        "import numpy as np\n",
        "\n",
        "# == First, define the function f\n",
        "f = lambda x : ... # TODO\n",
        "\n",
        "# or, do it this way:\n",
        "def f(x) :\n",
        "  ... # TODO\n",
        "\n",
        "# == Now, define g\n",
        "g = lambda x :  ... # TODO\n"
      ],
      "execution_count": null,
      "outputs": []
    },
    {
      "cell_type": "markdown",
      "metadata": {
        "id": "hbLbuSLX9cFm",
        "colab_type": "text"
      },
      "source": [
        "Now, make a plot (useful as a sanity check):"
      ]
    },
    {
      "cell_type": "code",
      "metadata": {
        "id": "QQeXrJ1MR3Vh",
        "colab_type": "code",
        "colab": {}
      },
      "source": [
        "import matplotlib.pyplot as plt\n",
        "%matplotlib inline\n",
        "plt.style.use('seaborn-notebook')\n",
        "\n",
        "fig, ax = plt.subplots()\n",
        "\n",
        "ax.plot( ... TODO ... )\n",
        "\n",
        "# Useful commands:\n",
        "# np.linspace(...) or np.arange(...)\n",
        "#ax.set_ylim(-10,10)\n",
        "#plt.xticks(range(-10,11,5))\n",
        "#plt.yticks(range(-10,11,5))\n",
        "#ax.minorticks_on()\n",
        "#fig.show() # Optional in jupyter"
      ],
      "execution_count": null,
      "outputs": []
    },
    {
      "cell_type": "markdown",
      "metadata": {
        "id": "bIC7CByUY-K-",
        "colab_type": "text"
      },
      "source": [
        "## Now, let's find all the intersections (it seems we have three of them, looking at the plots).\n",
        "\n",
        "Use the builtin root finder from `scipy` (see [`scipy.optimize` documentation](https://docs.scipy.org/doc/scipy/reference/optimize.html#root-finding)) called `root_scalar`\n",
        "\n",
        "You can either specify the method you want, or it will pick a default method for you, based on what you supply, e.g.,\n",
        "- if you supply an **interval** containing the root, using `bracket = [a,b]`, then it will use one of Brent's methods; you can also request using the bisection method\n",
        "- if you supply an **initial guess** using `x0 = 1.2` (for example), then it will try something like Newton's method. However, you need to give it a bit more information:\n",
        "  - to actually use **Newton's method** you have to specify a function that computes the derivative, using `fprime = [insert name-of-derivative-function]`\n",
        "  - you can use the **secant method** which doesn't need the derivative, but then you have to specify a second initial point via `x1 = 1.3` (for example)\n",
        "\n",
        "Find all 3 roots\n",
        "- can you print out the values of the intersections $r$ and $f(r)$ ([pyformat.info]( https://pyformat.info/) has nice information on making nicely formatted python print statements)\n",
        "- can you add these to the plots above?\n",
        "- does everything look correct?\n",
        "- were you able to find all 3 roots?"
      ]
    },
    {
      "cell_type": "code",
      "metadata": {
        "id": "JRMHCXVCZLLj",
        "colab_type": "code",
        "colab": {}
      },
      "source": [
        "from scipy.optimize import root_scalar\n",
        "\n",
        "# ... TODO ..."
      ],
      "execution_count": null,
      "outputs": []
    },
    {
      "cell_type": "markdown",
      "metadata": {
        "id": "PY-Su9gibyDN",
        "colab_type": "text"
      },
      "source": [
        "### Compare accuracy with `roots`\n",
        "\n",
        "Be careful: despite a similar sounding name, [`numpy.roots`](https://numpy.org/doc/stable/reference/generated/numpy.roots.html) is **only for polynomials**.\n",
        "\n",
        "With a bit of pen-and-paper manipulation, you can cast the above intersection problem as one of finding the roots of a polynomial.  Do this, and then find the roots via `numpy.roots`.\n",
        "\n",
        "- How can you evaluate the accuracy of your answer?\n",
        "- Which method (`scipy.optimize.root_scalar` vs `numpy.roots`) is more accurate?\n",
        "\n",
        "Things like `np.poly` are useful; see [Python polynomial information](https://numpy.org/doc/stable/reference/routines.polynomials.html)\n"
      ]
    },
    {
      "cell_type": "code",
      "metadata": {
        "id": "YOgSCGXUcOBu",
        "colab_type": "code",
        "colab": {}
      },
      "source": [
        "# ... TODO ..."
      ],
      "execution_count": null,
      "outputs": []
    },
    {
      "cell_type": "markdown",
      "metadata": {
        "id": "_IJ-sRYF0kcG",
        "colab_type": "text"
      },
      "source": [
        "## Let's repeat, for a different function\n",
        "\n",
        "Again, let's pick a polynomial since we can find the true roots by hand\n",
        "\n",
        "Let's do $$ f(x) = (x-1) \\cdot (x-(1+10^{-8}))^2. $$\n",
        "\n",
        "- Do we expect any conditioning issues?"
      ]
    },
    {
      "cell_type": "markdown",
      "metadata": {
        "id": "Gb62ZbyU21mp",
        "colab_type": "text"
      },
      "source": [
        "### Try to find the roots using the polynomial root-finding routines (`np.roots`)"
      ]
    },
    {
      "cell_type": "code",
      "metadata": {
        "id": "WImaJVkc0tak",
        "colab_type": "code",
        "colab": {}
      },
      "source": [
        "\n",
        "trueRoots = (1,1+1e-8)\n",
        "coeff = np.poly( trueRoots  )\n",
        "f     = lambda x : np.polyval( coeff, x )\n",
        "\n",
        "r_numpy = np.roots( coeff )\n",
        "r_numpy"
      ],
      "execution_count": null,
      "outputs": []
    },
    {
      "cell_type": "markdown",
      "metadata": {
        "id": "H0HcAMBg26-g",
        "colab_type": "text"
      },
      "source": [
        "How did it go?\n",
        "\n",
        "- Try plotting the function (zoom in to near where the roots are)\n",
        "- Make a table of values of $x$ and $f(x)$. What do you notice?"
      ]
    },
    {
      "cell_type": "code",
      "metadata": {
        "id": "pDQFPFZI1_nZ",
        "colab_type": "code",
        "colab": {}
      },
      "source": [
        "# ... TODO ..."
      ],
      "execution_count": null,
      "outputs": []
    },
    {
      "cell_type": "markdown",
      "metadata": {
        "id": "msh09Cj_7BfO",
        "colab_type": "text"
      },
      "source": [
        "## Let's try finding the roots via a generic rootfinding method (i.e., ignoring the fact that we have a polynomial)\n",
        "\n",
        "Call [`root_scalar`](https://docs.scipy.org/doc/scipy/reference/generated/scipy.optimize.root_scalar.html#scipy.optimize.root_scalar). "
      ]
    },
    {
      "cell_type": "code",
      "metadata": {
        "id": "8mMMTCSV08_n",
        "colab_type": "code",
        "colab": {}
      },
      "source": [
        "# ... TODO ..."
      ],
      "execution_count": null,
      "outputs": []
    },
    {
      "cell_type": "markdown",
      "metadata": {
        "id": "8TNFkGcU8bg0",
        "colab_type": "text"
      },
      "source": [
        "- Did that work any better?\n"
      ]
    }
  ]
}