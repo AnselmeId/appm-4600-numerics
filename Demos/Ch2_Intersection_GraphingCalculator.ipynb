{
  "nbformat": 4,
  "nbformat_minor": 0,
  "metadata": {
    "colab": {
      "name": "Ch2_Intersection_GraphingCalculator.ipynb",
      "provenance": [],
      "authorship_tag": "ABX9TyOyMXUgBMOMnCmk6fi+rqHz",
      "include_colab_link": true
    },
    "kernelspec": {
      "name": "python3",
      "display_name": "Python 3"
    }
  },
  "cells": [
    {
      "cell_type": "markdown",
      "metadata": {
        "id": "view-in-github",
        "colab_type": "text"
      },
      "source": [
        "<a href=\"https://colab.research.google.com/github/stephenbeckr/numerical-analysis-class/blob/master/Demos/Ch2_Intersection_GraphingCalculator.ipynb\" target=\"_parent\"><img src=\"https://colab.research.google.com/assets/colab-badge.svg\" alt=\"Open In Colab\"/></a>"
      ]
    },
    {
      "cell_type": "markdown",
      "metadata": {
        "id": "Ga_57SMeQM9_",
        "colab_type": "text"
      },
      "source": [
        "# Finding the intersection of two functions\n",
        "\n",
        "This is something you might have done in high school on a graphing calculator (the particular functions we're using are inspired by this [post about using the TI-84+](https://www.dummies.com/education/graphing-calculators/how-to-find-points-of-intersection-on-the-ti-84-plus/)).\n",
        "\n",
        "![TI-84 image](https://github.com/stephenbeckr/numerical-analysis-class/raw/master/Demos/img/398635.image0.jpg)\n",
        "\n",
        "Let's find the intersection of\n",
        "$$ f(x) = .2(x-2)x(x+4)  \\quad\\text{and}\\quad g(x) = .5 x $$\n",
        "\n",
        "First, let's plot the functions:\n",
        "(for plotting, here's a list of [style sheets](https://matplotlib.org/3.3.1/gallery/style_sheets/style_sheets_reference.html) to use with `plt.style.use`, and [general matplotlib cheatsheets](https://github.com/matplotlib/cheatsheets); if you want to make the axes through the origin, like in the TI-84 picture, this [stackoverflow post](https://stackoverflow.com/a/25689340) gives several methods)"
      ]
    },
    {
      "cell_type": "code",
      "metadata": {
        "id": "yPMbjKK5Q5ZS",
        "colab_type": "code",
        "colab": {}
      },
      "source": [
        "import numpy as np\n",
        "import matplotlib.pyplot as plt\n",
        "%matplotlib inline\n",
        "plt.style.use('seaborn-notebook')\n",
        "\n",
        "# == First, define the function f\n",
        "# f = lambda x : [TODO]\n",
        "f = lambda x : .2*(x-2)*x*(x+4)\n",
        "# or\n",
        "# def f(x):\n",
        "#   return [TODO]\n",
        "\n",
        "# == Now, define g\n",
        "g = lambda x : .5*x\n",
        "\n",
        "\n",
        "# == Now, plot\n",
        "\n",
        "x   = np.linspace(-10,10,100)"
      ],
      "execution_count": 21,
      "outputs": []
    },
    {
      "cell_type": "code",
      "metadata": {
        "id": "QQeXrJ1MR3Vh",
        "colab_type": "code",
        "colab": {
          "base_uri": "https://localhost:8080/",
          "height": 340
        },
        "outputId": "24fe8250-bbfa-4443-dccd-952bb0f1af21"
      },
      "source": [
        "fig, ax = plt.subplots()\n",
        "ax.plot( x, f(x) )\n",
        "ax.plot( x, g(x) )\n",
        "ax.set_ylim(-10,10)\n",
        "plt.xticks(range(-10,11,5))\n",
        "plt.yticks(range(-10,11,5))\n",
        "\n",
        "# Adjust it to look a bit more like the TI-84 image\n",
        "ax.spines['left'].set_position('zero')\n",
        "ax.spines['right'].set_color('none')\n",
        "ax.spines['bottom'].set_position('zero')\n",
        "ax.spines['top'].set_color('none')\n",
        "ax.minorticks_on()"
      ],
      "execution_count": 36,
      "outputs": [
        {
          "output_type": "display_data",
          "data": {
            "image/png": "[encoded data removed]",
            "text/plain": [
              "<Figure size 576x396 with 1 Axes>"
            ]
          },
          "metadata": {
            "tags": [],
            "needs_background": "light"
          }
        }
      ]
    },
    {
      "cell_type": "code",
      "metadata": {
        "id": "Rgr3Z9aiSEew",
        "colab_type": "code",
        "colab": {}
      },
      "source": [
        ""
      ],
      "execution_count": null,
      "outputs": []
    }
  ]
}