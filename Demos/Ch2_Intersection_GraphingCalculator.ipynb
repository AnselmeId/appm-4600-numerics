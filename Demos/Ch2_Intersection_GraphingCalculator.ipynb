{
  "nbformat": 4,
  "nbformat_minor": 0,
  "metadata": {
    "colab": {
      "name": "Ch2_Intersection_GraphingCalculator.ipynb",
      "provenance": [],
      "authorship_tag": "ABX9TyMDy2ht+OP6rdL+rnNvwbFj",
      "include_colab_link": true
    },
    "kernelspec": {
      "name": "python3",
      "display_name": "Python 3"
    }
  },
  "cells": [
    {
      "cell_type": "markdown",
      "metadata": {
        "id": "view-in-github",
        "colab_type": "text"
      },
      "source": [
        "<a href=\"https://colab.research.google.com/github/stephenbeckr/numerical-analysis-class/blob/master/Demos/Ch2_Intersection_GraphingCalculator.ipynb\" target=\"_parent\"><img src=\"https://colab.research.google.com/assets/colab-badge.svg\" alt=\"Open In Colab\"/></a>"
      ]
    },
    {
      "cell_type": "markdown",
      "metadata": {
        "id": "Ga_57SMeQM9_",
        "colab_type": "text"
      },
      "source": [
        "# Finding the intersection of two functions\n",
        "\n",
        "This is something you might have done in high school on a graphing calculator (the particular functions we're using are inspired by this [post about using the TI-84+](https://www.dummies.com/education/graphing-calculators/how-to-find-points-of-intersection-on-the-ti-84-plus/)).\n",
        "\n",
        "![TI-84 image](https://github.com/stephenbeckr/numerical-analysis-class/raw/master/Demos/img/398635.image0.jpg)\n",
        "\n",
        "Let's find the intersection of\n",
        "$$ f(x) = .2(x-2)x(x+4)  \\quad\\text{and}\\quad g(x) = .5 x $$\n",
        "\n",
        "First, let's plot the functions:\n",
        "(for plotting, here's a list of [style sheets](https://matplotlib.org/3.3.1/gallery/style_sheets/style_sheets_reference.html) to use with `plt.style.use`, and [general matplotlib cheatsheets](https://github.com/matplotlib/cheatsheets); if you want to make the axes through the origin, like in the TI-84 picture, this [stackoverflow post](https://stackoverflow.com/a/25689340) gives several methods)"
      ]
    },
    {
      "cell_type": "code",
      "metadata": {
        "id": "yPMbjKK5Q5ZS",
        "colab_type": "code",
        "colab": {}
      },
      "source": [
        "import numpy as np\n",
        "import matplotlib.pyplot as plt\n",
        "%matplotlib inline\n",
        "plt.style.use('seaborn-notebook')\n",
        "\n",
        "# == First, define the function f\n",
        "# f = lambda x : [TODO]\n",
        "f = lambda x : .2*(x-2)*x*(x+4)\n",
        "# or\n",
        "# def f(x):\n",
        "#   return [TODO]\n",
        "\n",
        "# == Now, define g\n",
        "g = lambda x : .5*x\n",
        "\n",
        "\n",
        "# == Now, plot\n",
        "\n",
        "x   = np.linspace(-10,10,100)"
      ],
      "execution_count": 21,
      "outputs": []
    },
    {
      "cell_type": "code",
      "metadata": {
        "id": "QQeXrJ1MR3Vh",
        "colab_type": "code",
        "colab": {
          "base_uri": "https://localhost:8080/",
          "height": 340
        },
        "outputId": "9df04973-3460-419c-ebbf-fbe4234c640c"
      },
      "source": [
        "fig, ax = plt.subplots()\n",
        "ax.plot( x, f(x) )\n",
        "ax.plot( x, g(x) )\n",
        "ax.set_ylim(-10,10)\n",
        "plt.xticks(range(-10,11,5))\n",
        "plt.yticks(range(-10,11,5))\n",
        "\n",
        "# Adjust it to look a bit more like the TI-84 image\n",
        "ax.spines['left'].set_position('zero')\n",
        "ax.spines['right'].set_color('none')\n",
        "ax.spines['bottom'].set_position('zero')\n",
        "ax.spines['top'].set_color('none')\n",
        "ax.minorticks_on()\n",
        "fig.show() # Optional in jupyter"
      ],
      "execution_count": 52,
      "outputs": [
        {
          "output_type": "display_data",
          "data": {
            "image/png": "[encoded data removed]",
            "text/plain": [
              "<Figure size 576x396 with 1 Axes>"
            ]
          },
          "metadata": {
            "tags": [],
            "needs_background": "light"
          }
        }
      ]
    },
    {
      "cell_type": "code",
      "metadata": {
        "id": "Rgr3Z9aiSEew",
        "colab_type": "code",
        "colab": {}
      },
      "source": [
        ""
      ],
      "execution_count": null,
      "outputs": []
    },
    {
      "cell_type": "markdown",
      "metadata": {
        "id": "bIC7CByUY-K-",
        "colab_type": "text"
      },
      "source": [
        "## Now, let's find all the roots (it seems we have three of them, looking at the plots).\n",
        "\n",
        "Use the builtin root finder from `scipy` (see [`scipy.optimize` documentation](https://docs.scipy.org/doc/scipy/reference/optimize.html#root-finding))"
      ]
    },
    {
      "cell_type": "code",
      "metadata": {
        "id": "JRMHCXVCZLLj",
        "colab_type": "code",
        "colab": {
          "base_uri": "https://localhost:8080/",
          "height": 136
        },
        "outputId": "45eba78e-49db-4a1c-f6e3-ea02664e1fda"
      },
      "source": [
        "from scipy.optimize import root_scalar\n",
        "\n",
        "output = root_scalar( lambda x : f(x) - g(x), x0 = -4, x1 = -4.1)\n",
        "r1     = output.root\n",
        "print('Found first root at x={} and y={}\\n'.format(r1,f(r1)) ) # see https://pyformat.info/ for print statement formatting\n",
        "output"
      ],
      "execution_count": 44,
      "outputs": [
        {
          "output_type": "stream",
          "text": [
            "Found first root at x=-4.3911649915626345 and y=-2.19558249578132\n",
            "\n"
          ],
          "name": "stdout"
        },
        {
          "output_type": "execute_result",
          "data": {
            "text/plain": [
              "      converged: True\n",
              "           flag: 'converged'\n",
              " function_calls: 7\n",
              "     iterations: 6\n",
              "           root: -4.3911649915626345"
            ]
          },
          "metadata": {
            "tags": []
          },
          "execution_count": 44
        }
      ]
    },
    {
      "cell_type": "code",
      "metadata": {
        "id": "cBM97qsEZthu",
        "colab_type": "code",
        "colab": {
          "base_uri": "https://localhost:8080/",
          "height": 136
        },
        "outputId": "52849c3e-a256-42a1-c5ca-cf51d145b71b"
      },
      "source": [
        "output = root_scalar( lambda x : f(x) - g(x), x0 = 0, x1 = .1)\n",
        "r2     = output.root\n",
        "print('Found second root at x={} and y={}\\n'.format(r2,f(r2)) ) # see https://pyformat.info/ for print statement formatting\n",
        "output"
      ],
      "execution_count": 46,
      "outputs": [
        {
          "output_type": "stream",
          "text": [
            "Found second root at x=0.0 and y=-0.0\n",
            "\n"
          ],
          "name": "stdout"
        },
        {
          "output_type": "execute_result",
          "data": {
            "text/plain": [
              "      converged: True\n",
              "           flag: 'converged'\n",
              " function_calls: 3\n",
              "     iterations: 2\n",
              "           root: 0.0"
            ]
          },
          "metadata": {
            "tags": []
          },
          "execution_count": 46
        }
      ]
    },
    {
      "cell_type": "code",
      "metadata": {
        "id": "_JqRvGSUanQN",
        "colab_type": "code",
        "colab": {
          "base_uri": "https://localhost:8080/",
          "height": 136
        },
        "outputId": "29ff6ba0-fe0d-4905-e4ba-d67616dd96f7"
      },
      "source": [
        "output = root_scalar( lambda x : f(x) - g(x), x0 = 2.1, x1 = 2.2)\n",
        "r3     = output.root\n",
        "print('Found third root at x={} and y={}\\n'.format(r3,f(r3)) ) # see https://pyformat.info/ for print statement formatting\n",
        "output"
      ],
      "execution_count": 48,
      "outputs": [
        {
          "output_type": "stream",
          "text": [
            "Found third root at x=2.3911649915626345 and y=1.1955824957813186\n",
            "\n"
          ],
          "name": "stdout"
        },
        {
          "output_type": "execute_result",
          "data": {
            "text/plain": [
              "      converged: True\n",
              "           flag: 'converged'\n",
              " function_calls: 7\n",
              "     iterations: 6\n",
              "           root: 2.3911649915626345"
            ]
          },
          "metadata": {
            "tags": []
          },
          "execution_count": 48
        }
      ]
    },
    {
      "cell_type": "code",
      "metadata": {
        "id": "j2k60TFxavqL",
        "colab_type": "code",
        "colab": {
          "base_uri": "https://localhost:8080/",
          "height": 340
        },
        "outputId": "9811294a-6906-4074-a851-46d32388c72f"
      },
      "source": [
        "ax.plot( r1, f(r1), 'o',MarkerSize=12 )\n",
        "ax.plot( r2, f(r2), 'o',MarkerSize=12 )\n",
        "ax.plot( r3, f(r3), 'o',MarkerSize=12 )\n",
        "fig"
      ],
      "execution_count": 57,
      "outputs": [
        {
          "output_type": "execute_result",
          "data": {
            "image/png": "[encoded data removed]",
            "text/plain": [
              "<Figure size 576x396 with 1 Axes>"
            ]
          },
          "metadata": {
            "tags": []
          },
          "execution_count": 57
        }
      ]
    },
    {
      "cell_type": "code",
      "metadata": {
        "id": "KfEhFwHua5NT",
        "colab_type": "code",
        "colab": {}
      },
      "source": [
        ""
      ],
      "execution_count": null,
      "outputs": []
    },
    {
      "cell_type": "markdown",
      "metadata": {
        "id": "PY-Su9gibyDN",
        "colab_type": "text"
      },
      "source": [
        "### Compare accuracy with `roots`\n",
        "\n",
        "Be careful: despite a similar sounding name, [`numpy.roots`](https://numpy.org/doc/stable/reference/generated/numpy.roots.html) is **only for polynomials**.\n",
        "\n",
        "With a bit of pen-and-paper manipulation, you can cast the above intersection problem as one of finding the roots of a polynomial.  Do this, and then find the roots via `numpy.roots`.\n",
        "\n",
        "- How can you evaluate the accuracy of your answer?\n",
        "- Which method (`scipy.optimize.root_scalar` vs `numpy.roots`) is more accurate?\n"
      ]
    },
    {
      "cell_type": "code",
      "metadata": {
        "id": "YOgSCGXUcOBu",
        "colab_type": "code",
        "colab": {
          "base_uri": "https://localhost:8080/",
          "height": 34
        },
        "outputId": "89316bfe-5276-4f76-a21e-ec7ed8cc1eaf"
      },
      "source": [
        "# Make the polynomial we want to find roots of (i.e., find the coefficients)\n",
        "\n",
        "coeff = np.poly( (2,0,-4) )  # coefficients of (x-2)*x*(x+4)\n",
        "# and don't forget to multiply by 0.2\n",
        "coeff = 0.2*coeff\n",
        "# and subtract the g(x) function, so -.5*x.  This is the 2nd-to-last coefficient\n",
        "coeff[-2] -=.5\n",
        "coeff"
      ],
      "execution_count": 62,
      "outputs": [
        {
          "output_type": "execute_result",
          "data": {
            "text/plain": [
              "array([ 0.2,  0.4, -2.1,  0. ])"
            ]
          },
          "metadata": {
            "tags": []
          },
          "execution_count": 62
        }
      ]
    },
    {
      "cell_type": "code",
      "metadata": {
        "id": "qmHYVWpicfIg",
        "colab_type": "code",
        "colab": {
          "base_uri": "https://localhost:8080/",
          "height": 34
        },
        "outputId": "1b950887-2876-4428-9367-4a66c5ecc30b"
      },
      "source": [
        "r_numpy = np.roots( coeff )\n",
        "r_numpy"
      ],
      "execution_count": 65,
      "outputs": [
        {
          "output_type": "execute_result",
          "data": {
            "text/plain": [
              "array([-4.39116499,  2.39116499,  0.        ])"
            ]
          },
          "metadata": {
            "tags": []
          },
          "execution_count": 65
        }
      ]
    },
    {
      "cell_type": "code",
      "metadata": {
        "id": "lQmuBk68c4Vo",
        "colab_type": "code",
        "colab": {
          "base_uri": "https://localhost:8080/",
          "height": 68
        },
        "outputId": "b37b53d5-8fc6-4662-9ca8-7858fb13c569"
      },
      "source": [
        "r_scipy = np.array( (r1,r3,r2 ))  # changed ordering to match np.roots output\n",
        "\n",
        "residual = lambda x : abs( f(x) - g(x) )\n",
        "for r_n, r_s in zip(r_numpy,r_scipy):\n",
        "    print(\"At root {:5.2f}, the residual using np.roots is {:.2e}, and using root_scalar is {:.2e}\".format( r_n, residual(r_n), residual(r_s)) )"
      ],
      "execution_count": 73,
      "outputs": [
        {
          "output_type": "stream",
          "text": [
            "At root -4.39, the residual using np.roots is 2.66e-15, and using root_scalar is 2.66e-15\n",
            "At root  2.39, the residual using np.roots is 2.22e-16, and using root_scalar is 1.33e-15\n",
            "At root  0.00, the residual using np.roots is 0.00e+00, and using root_scalar is 0.00e+00\n"
          ],
          "name": "stdout"
        }
      ]
    },
    {
      "cell_type": "markdown",
      "metadata": {
        "id": "HjVJhrwyevAs",
        "colab_type": "text"
      },
      "source": [
        "Conclusion: in this example, both root finding libraries work just fine"
      ]
    }
  ]
}