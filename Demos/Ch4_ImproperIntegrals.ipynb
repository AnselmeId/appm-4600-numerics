{
  "nbformat": 4,
  "nbformat_minor": 0,
  "metadata": {
    "colab": {
      "name": "Ch4_ImproperIntegrals.ipynb",
      "provenance": [],
      "authorship_tag": "ABX9TyPSIVYSQNTgK/IQqwWDFFCk",
      "include_colab_link": true
    },
    "kernelspec": {
      "name": "python3",
      "display_name": "Python 3"
    }
  },
  "cells": [
    {
      "cell_type": "markdown",
      "metadata": {
        "id": "view-in-github",
        "colab_type": "text"
      },
      "source": [
        "<a href=\"https://colab.research.google.com/github/stephenbeckr/numerical-analysis-class/blob/master/Demos/Ch4_ImproperIntegrals.ipynb\" target=\"_parent\"><img src=\"https://colab.research.google.com/assets/colab-badge.svg\" alt=\"Open In Colab\"/></a>"
      ]
    },
    {
      "cell_type": "markdown",
      "metadata": {
        "id": "cXr2eXpT_CJo"
      },
      "source": [
        "# Improper integrals\n",
        "These are integrals where something is unbounde, like an **unbounded domain** \n",
        "$$\\int_0^\\infty \\frac{1}{1+x^2}\\,dx$$\n",
        "or an **unbounded integrand** like\n",
        "$$\\int_0^1 \\frac{1}{\\sqrt{x}}\\,dx$$"
      ]
    },
    {
      "cell_type": "code",
      "metadata": {
        "id": "H7LXVyq1_iRj"
      },
      "source": [
        "from scipy.integrate import quad\n",
        "import numpy as np\n",
        "import matplotlib.pyplot as plt"
      ],
      "execution_count": 1,
      "outputs": []
    },
    {
      "cell_type": "markdown",
      "metadata": {
        "id": "q985nO4N_cTE"
      },
      "source": [
        "### Unbounded domains"
      ]
    },
    {
      "cell_type": "code",
      "metadata": {
        "id": "92SUKWTa_bhV",
        "outputId": "6556d474-8327-490b-80d4-30b088734e0d",
        "colab": {
          "base_uri": "https://localhost:8080/",
          "height": 269
        }
      },
      "source": [
        "f = lambda x : 1/(1+x**2)\n",
        "F = lambda x : np.arctan(x)  # antiderivative\n",
        "a,b = 0, np.inf\n",
        "\n",
        "xGrid = np.linspace(0,100,200)\n",
        "# plt.plot( xGrid, f(xGrid) );\n",
        "# plt.semilogy( xGrid, f(xGrid) );\n",
        "plt.loglog( xGrid, f(xGrid) );"
      ],
      "execution_count": 6,
      "outputs": [
        {
          "output_type": "display_data",
          "data": {
            "image/png": "[encoded data removed]",
            "text/plain": [
              "<Figure size 432x288 with 1 Axes>"
            ]
          },
          "metadata": {
            "tags": [],
            "needs_background": "light"
          }
        }
      ]
    },
    {
      "cell_type": "code",
      "metadata": {
        "id": "twP59vNA-6Ic",
        "outputId": "0afea91a-008b-4b4b-afbb-3b15cb396dfd",
        "colab": {
          "base_uri": "https://localhost:8080/",
          "height": 34
        }
      },
      "source": [
        "I = F(b) - F(a) # true integral\n",
        "Q,errEstimate = quad(f,a,b) # scipy's approximation\n",
        "print(f'True integral is {I:.8f}, estimate is {Q:.8f}, error is {abs(I-Q):2e}')"
      ],
      "execution_count": 7,
      "outputs": [
        {
          "output_type": "stream",
          "text": [
            "True integral is 1.57079633, estimate is 1.57079633, error is 0.000000e+00\n"
          ],
          "name": "stdout"
        }
      ]
    },
    {
      "cell_type": "markdown",
      "metadata": {
        "id": "yuXsVkF_CIJf"
      },
      "source": [
        "Not bad! How did it do that? Can we recreate it?\n",
        "\n",
        "Let's try some of our techniques.  \n",
        "**Technique #1** in the notes is *Gauss-Hermite* or *Gauss-Laguerre*, and will be explored on Homework 7.\n",
        "\n",
        "**Technique #2** is the simplest, and not always a good idea: we just change $b=\\infty$ to $b=R$ for a large $R$"
      ]
    },
    {
      "cell_type": "code",
      "metadata": {
        "id": "6IAsMD5fAfK0",
        "outputId": "ceb2895f-a928-4826-b0d0-477dc703bed4",
        "colab": {
          "base_uri": "https://localhost:8080/",
          "height": 34
        }
      },
      "source": [
        "R   = 1e4;\n",
        "Q,errEstimate = quad(f,a,R) # use [a,R] instead of [a,b) (where b=infinity)\n",
        "print(f'True integral is {I:.8f}, estimate is {Q:.8f}, error is {abs(I-Q):2e}')"
      ],
      "execution_count": 8,
      "outputs": [
        {
          "output_type": "stream",
          "text": [
            "True integral is 1.57079633, estimate is 1.57069633, error is 1.000000e-04\n"
          ],
          "name": "stdout"
        }
      ]
    },
    {
      "cell_type": "markdown",
      "metadata": {
        "id": "iD0eizqjCeBF"
      },
      "source": [
        "That wasn't so accurate. Let's increate the radius $R$:"
      ]
    },
    {
      "cell_type": "code",
      "metadata": {
        "id": "y31_T_6nCUqq",
        "outputId": "21b293d9-0be4-42dd-d6b5-840a77a995bb",
        "colab": {
          "base_uri": "https://localhost:8080/",
          "height": 68
        }
      },
      "source": [
        "R   = 1e6;\n",
        "Q,errEstimate = quad(f,a,R) # use [a,R] instead of [a,b) (where b=infinity)\n",
        "print(f'True integral is {I:.8f}, estimate is {Q:.8f}, error is {abs(I-Q):2e}')"
      ],
      "execution_count": 9,
      "outputs": [
        {
          "output_type": "stream",
          "text": [
            "True integral is 1.57079633, estimate is -0.00000100, error is 1.570797e+00\n"
          ],
          "name": "stdout"
        },
        {
          "output_type": "stream",
          "text": [
            "/usr/local/lib/python3.6/dist-packages/ipykernel_launcher.py:2: IntegrationWarning: The integral is probably divergent, or slowly convergent.\n",
            "  \n"
          ],
          "name": "stderr"
        }
      ]
    },
    {
      "cell_type": "markdown",
      "metadata": {
        "id": "pgN_hCNkCi7Z"
      },
      "source": [
        "... that was worse!\n",
        "\n",
        "Let's try **Technique #3**, where we do a change of variables for one of the integrals\n",
        "$$\\int_0^\\infty f(x)\\,dx = \\int_0^R f(x)\\,dx + \\int_R^\\infty f(x)\\,dx$$\n",
        "and for this second integral, let's write $t=1/x$ so $dx = -t^{-2}dt$ and $x=R$ becomes $t=1/R$ and $x=\\infty$ becomes $t=0$"
      ]
    },
    {
      "cell_type": "code",
      "metadata": {
        "id": "w4vDY58gCdEV",
        "outputId": "56e78aac-59d4-4e87-c460-5381b224ca59",
        "colab": {
          "base_uri": "https://localhost:8080/",
          "height": 34
        }
      },
      "source": [
        "R   = 10  # pick a **small** R now\n",
        "Q1,errEstimate = quad(f,a,R)\n",
        "\n",
        "g = lambda t : f(1/t)/(t**2)\n",
        "Q2,errEstimate = quad(g,0,1/R)\n",
        "Q   = Q1 + Q2\n",
        "print(f'True integral is {I:.8f}, estimate is {Q:.8f}, error is {abs(I-Q):2e}')"
      ],
      "execution_count": 10,
      "outputs": [
        {
          "output_type": "stream",
          "text": [
            "True integral is 1.57079633, estimate is 1.57079633, error is 8.881784e-16\n"
          ],
          "name": "stdout"
        }
      ]
    },
    {
      "cell_type": "markdown",
      "metadata": {
        "id": "4iTNruF_Ds7E"
      },
      "source": [
        "... and it worked! (We relied on the fact that `quad` can handle unbounded integrands...)\n",
        "\n",
        "Now **Technique #4**, comparison with a known function,\n",
        "$$\\int_0^\\infty f(x)\\,dx = \\int_0^R f(x)\\,dx + \\int_R^\\infty \\underbrace{f(x) - \\phi(x)}_{g(x)}\\,dx + \\int_R^\\infty \\phi(x)\\,dx$$\n",
        "\n",
        "and we can approximate \n",
        "$$\\int_R^\\infty \\underbrace{f(x) - \\phi(x)}_{g(x)}\\,dx \n",
        "\\approx \\int_R^M \\underbrace{f(x) - \\phi(x)}_{g(x)}\\,dx \n",
        "$$\n",
        "for some large $M$.\n",
        "\n",
        "(Why did we have to do that first $\\int_0^R$? because the $\\phi$ we chose has a singular at $0$, so we wanted to avoid integrating near $0$)"
      ]
    },
    {
      "cell_type": "code",
      "metadata": {
        "id": "SoKDTtIzDsCs",
        "outputId": "6eeb02a9-f8e2-4932-8be8-b20c94c2ddd2",
        "colab": {
          "base_uri": "https://localhost:8080/",
          "height": 34
        }
      },
      "source": [
        "R   = 10  # pick a **small** R now\n",
        "Q1,errEstimate = quad(f,a,R)\n",
        "\n",
        "phi = lambda x : 1/(x**2)  # our \"known function\" that has a known antiderivative\n",
        "Phi = lambda x : -1/x      # the antiderivative\n",
        "\n",
        "g = lambda x : f(x) - phi(x) \n",
        "M   = 1e4; # now we don't have to take it quite as large\n",
        "Q2,errEstimate = quad(g,R,M)\n",
        "\n",
        "Q3 = Phi(b) - Phi(R)  # compensate\n",
        "\n",
        "Q   = Q1 + (Q2+Q3)\n",
        "print(f'True integral is {I:.8f}, estimate is {Q:.8f}, error is {abs(I-Q):2e}')"
      ],
      "execution_count": 17,
      "outputs": [
        {
          "output_type": "stream",
          "text": [
            "True integral is 1.57079633, estimate is 1.57079633, error is 3.337330e-13\n"
          ],
          "name": "stdout"
        }
      ]
    },
    {
      "cell_type": "markdown",
      "metadata": {
        "id": "JGTHVtCZEtL_"
      },
      "source": [
        "and it worked also! Why does it work?  Let's plot $f$ and $f-\\phi$"
      ]
    },
    {
      "cell_type": "code",
      "metadata": {
        "id": "iO42inKuDpTW",
        "outputId": "049626cb-2104-4dbf-92b7-68c8b99dbfdd",
        "colab": {
          "base_uri": "https://localhost:8080/",
          "height": 269
        }
      },
      "source": [
        "xGrid = np.linspace(1,100,200)\n",
        "plt.loglog( xGrid, f(xGrid),label='f' );\n",
        "plt.loglog( xGrid, np.abs(g(xGrid)),label='f-phi' );\n",
        "plt.loglog( xGrid, 1/xGrid**2,'--',label='$x^{-2}$')\n",
        "plt.loglog( xGrid, 1/xGrid**4,'--',label='$x^{-4}$')\n",
        "plt.legend();"
      ],
      "execution_count": 12,
      "outputs": [
        {
          "output_type": "display_data",
          "data": {
            "image/png": "[encoded data removed]",
            "text/plain": [
              "<Figure size 432x288 with 1 Axes>"
            ]
          },
          "metadata": {
            "tags": [],
            "needs_background": "light"
          }
        }
      ]
    },
    {
      "cell_type": "markdown",
      "metadata": {
        "id": "EoDfTzcoF2tx"
      },
      "source": [
        "Now let's try **Technique #5** which is the double exponential transformation.\n",
        "$$\\int_{-\\infty}^\\infty f(x)\\,dx = \\frac{\\pi}{2}\\int_{-\\infty}^\\infty f(x(t)) \\text{cosh}\\left(\\frac{\\pi}{2}\\text{sinh}(t)\\right) \\cdot \\text{cosh}(t)\\,dt$$\n",
        "where\n",
        "$$x(t) = \\text{sinh}\\left( \\frac{\\pi}{2}\\text{sinh}(t)\\right)$$\n",
        "\n",
        "Note we'll now do the full real line,\n",
        "$$\n",
        "\\int_{-\\infty}^\\infty \\frac{1}{1+x^2}\\,dx$$"
      ]
    },
    {
      "cell_type": "code",
      "metadata": {
        "id": "Wk3INmX5FVqO",
        "outputId": "57a356b8-535e-42e1-cd5c-d5fc9a5fe28f",
        "colab": {
          "base_uri": "https://localhost:8080/",
          "height": 34
        }
      },
      "source": [
        "II = F(np.inf) - F(-np.inf)\n",
        "print(\"I is\",II, \"which is very close to pi:\", np.pi)"
      ],
      "execution_count": 13,
      "outputs": [
        {
          "output_type": "stream",
          "text": [
            "I is 3.141592653589793 which is very close to pi: 3.141592653589793\n"
          ],
          "name": "stdout"
        }
      ]
    },
    {
      "cell_type": "code",
      "metadata": {
        "id": "RtvVV06fGnIF",
        "outputId": "e1c247e8-5858-4778-c889-50b0dae42657",
        "colab": {
          "base_uri": "https://localhost:8080/",
          "height": 34
        }
      },
      "source": [
        "from numpy import pi, sinh, cosh\n",
        "g = lambda t : pi/2 * f( sinh( pi/2*sinh(t)) ) * cosh(pi/2*sinh(t))*cosh(t)\n",
        "\n",
        "R = 4\n",
        "Q,errEstimate = quad( g, -R, R)\n",
        "print(f'True integral is {II:.8f}, estimate is {Q:.8f}, error is {abs(II-Q):2e}')"
      ],
      "execution_count": 14,
      "outputs": [
        {
          "output_type": "stream",
          "text": [
            "True integral is 3.14159265, estimate is 3.14159265, error is 0.000000e+00\n"
          ],
          "name": "stdout"
        }
      ]
    },
    {
      "cell_type": "markdown",
      "metadata": {
        "id": "4OvEAFE9INOk"
      },
      "source": [
        "... that worked well too!  We can see why with a plot: the new integral goes to zero very fast. In fact, we can't even choose $R=10$ because then we get underflow"
      ]
    },
    {
      "cell_type": "code",
      "metadata": {
        "id": "HIE-ScB9HCWg",
        "outputId": "a92eeabc-a910-4386-e2cd-014f893f7ddc",
        "colab": {
          "base_uri": "https://localhost:8080/",
          "height": 265
        }
      },
      "source": [
        "xGrid = np.linspace(-4,4,200)\n",
        "plt.semilogy( xGrid, f(xGrid),label='f' );\n",
        "plt.semilogy( xGrid, np.abs(g(xGrid)),label='g' );\n",
        "plt.legend();"
      ],
      "execution_count": 15,
      "outputs": [
        {
          "output_type": "display_data",
          "data": {
            "image/png": "[encoded data removed]",
            "text/plain": [
              "<Figure size 432x288 with 1 Axes>"
            ]
          },
          "metadata": {
            "tags": [],
            "needs_background": "light"
          }
        }
      ]
    },
    {
      "cell_type": "markdown",
      "metadata": {
        "id": "A0WHynsPIc7W"
      },
      "source": [
        "## Unbounded integrands (e.g., left-end point singularity)\n",
        "\n",
        "Not yet implemented. The novel techniques are the Taylor series based ones"
      ]
    }
  ]
}