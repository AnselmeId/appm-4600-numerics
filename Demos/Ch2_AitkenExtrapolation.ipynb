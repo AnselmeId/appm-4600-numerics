{
  "nbformat": 4,
  "nbformat_minor": 0,
  "metadata": {
    "colab": {
      "name": "Ch2_AitkenExtrapolation.ipynb",
      "provenance": [],
      "collapsed_sections": [],
      "authorship_tag": "ABX9TyNshjbooA7L78QBMVb7YTUT",
      "include_colab_link": true
    },
    "kernelspec": {
      "name": "python3",
      "display_name": "Python 3"
    }
  },
  "cells": [
    {
      "cell_type": "markdown",
      "metadata": {
        "id": "view-in-github",
        "colab_type": "text"
      },
      "source": [
        "<a href=\"https://colab.research.google.com/github/stephenbeckr/numerical-analysis-class/blob/master/Demos/Ch2_AitkenExtrapolation.ipynb\" target=\"_parent\"><img src=\"https://colab.research.google.com/assets/colab-badge.svg\" alt=\"Open In Colab\"/></a>"
      ]
    },
    {
      "cell_type": "markdown",
      "metadata": {
        "id": "hJypO_Th1vhE",
        "colab_type": "text"
      },
      "source": [
        "# Aitken Extrapolation"
      ]
    },
    {
      "cell_type": "code",
      "metadata": {
        "id": "iVP4M9zD1uu2",
        "colab_type": "code",
        "colab": {
          "base_uri": "https://localhost:8080/",
          "height": 255
        },
        "outputId": "76632f2b-5e7e-48b1-b09c-3e89dbb53e2c"
      },
      "source": [
        "# Recreate Table 2.10 in the book\n",
        "\n",
        "import numpy as np\n",
        "from numpy import diff as D   # this is the Delta in the book, aka \"forward difference\"\n",
        "\n",
        "N = 7  # total number of terms\n",
        "p = np.cos( 1/np.r_[1:N+1] ) # Example in book (Table 2.10)\n",
        "p = np.power(2,range(N,0,-1)) + np.ones(N)\n",
        "print(\"The sequence p_n is:\")\n",
        "for pn in p:\n",
        "  print(\"{:.5f}\".format(pn))\n",
        "\n",
        "print(\"The sequence \\hat{p}_n is:\")  \n",
        "# Define phat (for p^hat, not as in \"that is a phat song!\")\n",
        "phat = p[:-2]  - (D(p)[:-1])**2 / D(D(p))\n",
        "for pn in phat:\n",
        "  print(\"{:.5f}\".format(pn))"
      ],
      "execution_count": 59,
      "outputs": [
        {
          "output_type": "stream",
          "text": [
            "The sequence p_n is:\n",
            "129.00000\n",
            "65.00000\n",
            "33.00000\n",
            "17.00000\n",
            "9.00000\n",
            "5.00000\n",
            "3.00000\n",
            "The sequence \\hat{p}_n is:\n",
            "1.00000\n",
            "1.00000\n",
            "1.00000\n",
            "1.00000\n",
            "1.00000\n"
          ],
          "name": "stdout"
        }
      ]
    },
    {
      "cell_type": "code",
      "metadata": {
        "id": "9ttZiJ9-3hMq",
        "colab_type": "code",
        "colab": {
          "base_uri": "https://localhost:8080/",
          "height": 374
        },
        "outputId": "fbecc78d-d562-4d40-9b2e-ecf45dad7868"
      },
      "source": [
        "# Try a root-finding problem, x = .7*cos(x)\n",
        "from scipy.optimize import root_scalar\n",
        "g = lambda x : .7*np.cos(x)\n",
        "\n",
        "output = root_scalar(lambda x : g(x) - x ,bracket=[0,1])\n",
        "trueRoot = output.root\n",
        "print(\"The root is\",trueRoot)\n",
        "\n",
        "# Try fixed-point iteration, starting at 0\n",
        "x = 0\n",
        "N   = 20\n",
        "p   = np.zeros(N)\n",
        "phat= np.zeros(N-2)\n",
        "# There are many ways to program this, depending on how/if you want to save\n",
        "#   all the iterates.\n",
        "for i in range(N):\n",
        "  x = g(x)\n",
        "  p[i] = x\n",
        "  if i > 1:\n",
        "    d1_a = p[i-1]-p[i-2]\n",
        "    d1_b = p[i]-p[i-1]\n",
        "    phat[i-2] = p[i-2] - (d1_a**2)/( d1_b - d1_a)\n",
        "    print(\"p_{:<2d} is {:.5f} and error is {:.3e}; hat(p)_{:<2d} is {:.5f} and error is {:.3e}\".format( i, x,abs(x-trueRoot),i-2,phat[i-2],abs(phat[i-2]-trueRoot) ) )\n",
        "  else:\n",
        "    print(\"p_{:<2d} is {:.5f} and error is {:.3e}\".format( i, x,abs(x-trueRoot) ) )"
      ],
      "execution_count": 45,
      "outputs": [
        {
          "output_type": "stream",
          "text": [
            "The root is 0.5839889663069239\n",
            "p_0  is 0.70000 and error is 1.160e-01\n",
            "p_1  is 0.53539 and error is 4.860e-02\n",
            "p_2  is 0.60205 and error is 1.806e-02; hat(p)_0  is 0.58284 and error is 1.153e-03\n",
            "p_3  is 0.57692 and error is 7.065e-03; hat(p)_1  is 0.58380 and error is 1.874e-04\n",
            "p_4  is 0.58670 and error is 2.712e-03; hat(p)_2  is 0.58396 and error is 2.675e-05\n",
            "p_5  is 0.58294 and error is 1.049e-03; hat(p)_3  is 0.58398 and error is 4.045e-06\n",
            "p_6  is 0.58439 and error is 4.045e-04; hat(p)_4  is 0.58399 and error is 5.989e-07\n",
            "p_7  is 0.58383 and error is 1.562e-04; hat(p)_5  is 0.58399 and error is 8.941e-08\n",
            "p_8  is 0.58405 and error is 6.027e-05; hat(p)_6  is 0.58399 and error is 1.331e-08\n",
            "p_9  is 0.58397 and error is 2.326e-05; hat(p)_7  is 0.58399 and error is 1.983e-09\n",
            "p_10 is 0.58400 and error is 8.977e-06; hat(p)_8  is 0.58399 and error is 2.953e-10\n",
            "p_11 is 0.58399 and error is 3.465e-06; hat(p)_9  is 0.58399 and error is 4.397e-11\n",
            "p_12 is 0.58399 and error is 1.337e-06; hat(p)_10 is 0.58399 and error is 6.531e-12\n",
            "p_13 is 0.58399 and error is 5.161e-07; hat(p)_11 is 0.58399 and error is 9.545e-13\n",
            "p_14 is 0.58399 and error is 1.992e-07; hat(p)_12 is 0.58399 and error is 1.238e-13\n",
            "p_15 is 0.58399 and error is 7.688e-08; hat(p)_13 is 0.58399 and error is 1.110e-16\n",
            "p_16 is 0.58399 and error is 2.967e-08; hat(p)_14 is 0.58399 and error is 1.832e-14\n",
            "p_17 is 0.58399 and error is 1.145e-08; hat(p)_15 is 0.58399 and error is 2.109e-14\n",
            "p_18 is 0.58399 and error is 4.420e-09; hat(p)_16 is 0.58399 and error is 2.154e-14\n",
            "p_19 is 0.58399 and error is 1.706e-09; hat(p)_17 is 0.58399 and error is 2.154e-14\n"
          ],
          "name": "stdout"
        }
      ]
    },
    {
      "cell_type": "code",
      "metadata": {
        "id": "092oDnRY4aIo",
        "colab_type": "code",
        "colab": {
          "base_uri": "https://localhost:8080/",
          "height": 170
        },
        "outputId": "5ebed406-2a34-4d4e-db80-d6a29c623a42"
      },
      "source": [
        "# A simpler problem...\n",
        "from scipy.optimize import root_scalar\n",
        "g = lambda x : .7*np.cos(x)\n",
        "\n",
        "output = root_scalar(lambda x : g(x) - x ,bracket=[0,1])\n",
        "trueRoot = output.root\n",
        "print(\"The root is\",trueRoot)\n",
        "x   = 0  # our starting guess\n",
        "for i in range(10): # i = 0, 1, 2, ..., 9 -- don't forget that Python is 0 based\n",
        "  if i >= 2:\n",
        "    xVeryOld = xOld\n",
        "  xOld = x\n",
        "  x    = g(x)  # Fixed point iteration update\n",
        "  if i >= 1:\n",
        "    if i >= 2:\n",
        "      DeltaOld = Delta\n",
        "    Delta = x - xOld\n",
        "  if i >= 2:\n",
        "    xhat = xVeryOld - DeltaOld**2/( Delta - DeltaOld)\n",
        "    print(xVeryOld,xhat)"
      ],
      "execution_count": 51,
      "outputs": [
        {
          "output_type": "stream",
          "text": [
            "The root is 0.5839889663069239\n",
            "0.7 0.5828355747666369\n",
            "0.5353895310991419 0.5838016125355683\n",
            "0.6020489755511681 0.5839622114962584\n",
            "0.5769238612151603 0.583984921687019\n",
            "0.5867011411648845 0.5839883673835934\n",
            "0.5829400576356008 0.5839888768922955\n",
            "0.5843934705791918 0.5839889529996376\n",
            "0.5838328003801305 0.5839889643240639\n"
          ],
          "name": "stdout"
        }
      ]
    },
    {
      "cell_type": "code",
      "metadata": {
        "id": "ZFjZ0A447bS9",
        "colab_type": "code",
        "colab": {}
      },
      "source": [
        ""
      ],
      "execution_count": null,
      "outputs": []
    }
  ]
}