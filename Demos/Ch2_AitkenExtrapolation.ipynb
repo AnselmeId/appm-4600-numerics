{
  "nbformat": 4,
  "nbformat_minor": 0,
  "metadata": {
    "colab": {
      "name": "Ch2_AitkenExtrapolation.ipynb",
      "provenance": [],
      "collapsed_sections": [],
      "authorship_tag": "ABX9TyMi+iOMzqViH+un9VYCTcCl",
      "include_colab_link": true
    },
    "kernelspec": {
      "name": "python3",
      "display_name": "Python 3"
    }
  },
  "cells": [
    {
      "cell_type": "markdown",
      "metadata": {
        "id": "view-in-github",
        "colab_type": "text"
      },
      "source": [
        "<a href=\"https://colab.research.google.com/github/stephenbeckr/numerical-analysis-class/blob/student/Demos/Ch2_AitkenExtrapolation.ipynb\" target=\"_parent\"><img src=\"https://colab.research.google.com/assets/colab-badge.svg\" alt=\"Open In Colab\"/></a>"
      ]
    },
    {
      "cell_type": "markdown",
      "metadata": {
        "id": "hJypO_Th1vhE",
        "colab_type": "text"
      },
      "source": [
        "# Aitken Extrapolation\n",
        "\n",
        "## Task 1: recreate Table 2.10 in the book\n",
        "In the table, we have $x_n = \\cos(\\frac{1}{n})$ which converges to $\\cos(0)=1$ since $\\cos$ is continuous.  Use Aitken Extrapolation to accelerate this sequence $(x_n)$.\n",
        "\n",
        "You can do this with a `for` loop, or you can use Python slice notation to do it in a very compact fashion."
      ]
    },
    {
      "cell_type": "code",
      "metadata": {
        "id": "iVP4M9zD1uu2",
        "colab_type": "code",
        "colab": {}
      },
      "source": [
        "# Recreate Table 2.10 in the book\n",
        "\n",
        "import numpy as np\n",
        "from numpy import diff as D   # this is the Delta in the book, aka \"forward difference\"\n",
        "\n",
        "N = 7  # total number of terms\n",
        "p = np.cos( 1/np.r_[1:N+1] ) # Example in book (Table 2.10)\n",
        "print(\"The sequence p_n is:\")\n",
        "for pn in p:\n",
        "  print(\"{:.5f}\".format(pn))\n",
        "\n",
        "print(\"The sequence \\hat{p}_n is:\")  \n",
        "# Define phat (for p^hat, not as in \"that is a phat song!\")\n",
        "\n",
        "phat = ... TODO ...\n",
        "\n",
        "for pn in phat:\n",
        "  print(\"{:.5f}\".format(pn))"
      ],
      "execution_count": null,
      "outputs": []
    },
    {
      "cell_type": "markdown",
      "metadata": {
        "id": "Ph5St6e4ZdaJ",
        "colab_type": "text"
      },
      "source": [
        "## Task 2: accelerate a root-finding problem\n",
        "You could do Steffensen's variant, but we didn't discuss that, so I suggest you just to Aitken extrapolation\n",
        "\n",
        "Let's solve $x = g(x)$ where\n",
        "$$g(x) = .7\\cos(x)$$\n",
        "insdie the interval $[0,1]$.  We know that $g$ is a contraction since\n",
        "$$|g'(x)| = |-.7\\sin(x)| \\le .7 < 1$$"
      ]
    },
    {
      "cell_type": "code",
      "metadata": {
        "id": "kmtLgucYZtxr",
        "colab_type": "code",
        "colab": {
          "base_uri": "https://localhost:8080/",
          "height": 34
        },
        "outputId": "9c12c0be-a79c-425c-a4c2-4b4ebfce83f5"
      },
      "source": [
        "# Try a root-finding problem, x = .7*cos(x)\n",
        "from scipy.optimize import root_scalar\n",
        "g = lambda x : .7*np.cos(x)\n",
        "\n",
        "output = root_scalar(lambda x : g(x) - x ,bracket=[0,1])\n",
        "trueRoot = output.root\n",
        "print(\"The root is\",trueRoot)"
      ],
      "execution_count": 3,
      "outputs": [
        {
          "output_type": "stream",
          "text": [
            "The root is 0.5839889663069239\n"
          ],
          "name": "stdout"
        }
      ]
    },
    {
      "cell_type": "code",
      "metadata": {
        "id": "9ttZiJ9-3hMq",
        "colab_type": "code",
        "colab": {}
      },
      "source": [
        "# Accelerate the iteration\n",
        "\n",
        "# Try fixed-point iteration, starting at 0\n",
        "x = 0\n",
        "N   = 20\n",
        "p   = np.zeros(N)\n",
        "phat= np.zeros(N-2)\n",
        "# There are many ways to program this, depending on how/if you want to save\n",
        "#   all the iterates.\n",
        "for i in range(N):\n",
        "  x = g(x)\n",
        "  p[i] = x\n",
        "  \n",
        "  ... TODO (accelerate the sequence) ..."
      ],
      "execution_count": null,
      "outputs": []
    }
  ]
}