{
  "nbformat": 4,
  "nbformat_minor": 0,
  "metadata": {
    "colab": {
      "name": "Ch1_SymbolicTaylorSeries.ipynb",
      "provenance": [],
      "authorship_tag": "ABX9TyNCa2zYK58rTMh/W7DTVLWO",
      "include_colab_link": true
    },
    "kernelspec": {
      "name": "python3",
      "display_name": "Python 3"
    }
  },
  "cells": [
    {
      "cell_type": "markdown",
      "metadata": {
        "id": "view-in-github",
        "colab_type": "text"
      },
      "source": [
        "<a href=\"https://colab.research.google.com/github/stephenbeckr/numerical-analysis-class/blob/master/Demos/Ch1_ExponentialSummation.ipynb\" target=\"_parent\"><img src=\"https://colab.research.google.com/assets/colab-badge.svg\" alt=\"Open In Colab\"/></a>"
      ]
    },
    {
      "cell_type": "markdown",
      "metadata": {
        "id": "LNDLwuliDDql",
        "colab_type": "text"
      },
      "source": [
        "In [Ch1_SymbolicTaylorSeries](Ch1_SymbolicTaylorSeries.ipynb) we saw how to use the Taylor remainder theorem to estimate error in an expansion, and this is useful if you want to calculate a function like sine or cosine using only additions/subtractions and multiplications/division.\n",
        "\n",
        "Let's try that with the exponential function.  This is a classic example in numerical analysis"
      ]
    },
    {
      "cell_type": "code",
      "metadata": {
        "id": "zoGrsMYdCXq6",
        "colab_type": "code",
        "colab": {}
      },
      "source": [
        "# Load the package\n",
        "import sympy as sym\n",
        "from sympy import init_printing\n",
        "init_printing()  # This will make output look very nice!\n",
        "\n",
        "import math  # has things like math.pi (which is the numerical value of pi)"
      ],
      "execution_count": 1,
      "outputs": []
    },
    {
      "cell_type": "code",
      "metadata": {
        "id": "RJ3odjv1Dt6F",
        "colab_type": "code",
        "colab": {
          "base_uri": "https://localhost:8080/",
          "height": 40
        },
        "outputId": "3c934cc3-b3a0-49dc-8185-c2b7ad35d725"
      },
      "source": [
        "# First, all symbolic variables must be declared. This is in contrast to Mathematica\n",
        "x = sym.Symbol('x')\n",
        "\n",
        "# Recall the Taylor series for exp(x)... very simple!\n",
        "sym.series( sym.exp(-x), x )"
      ],
      "execution_count": 94,
      "outputs": [
        {
          "output_type": "execute_result",
          "data": {
            "image/png": "[encoded data removed]",
            "text/latex": "$$1 - x + \\frac{x^{2}}{2} - \\frac{x^{3}}{6} + \\frac{x^{4}}{24} - \\frac{x^{5}}{120} + \\mathcal{O}\\left(x^{6}\\right)$$",
            "text/plain": [
              "         2    3    4     5        \n",
              "        x    x    x     x     ⎛ 6⎞\n",
              "1 - x + ── - ── + ── - ─── + O⎝x ⎠\n",
              "        2    6    24   120        "
            ]
          },
          "metadata": {
            "tags": []
          },
          "execution_count": 94
        }
      ]
    },
    {
      "cell_type": "markdown",
      "metadata": {
        "id": "wuQIA1W-so8V",
        "colab_type": "text"
      },
      "source": [
        "Let's try to find $e^{-30}$ with about 14 digits of precision.  Recally that Taylor's remainder theorem says that the error in the Taylor series (with $n-1$ terms) is the $n$th term but evaluate the derivative at some $\\xi \\in [x_0,x]$.  We'll expand around $0$, so $x_0=0$ (we do this because we *know* that $e^0=1$; we could choose a different $x_0$ to expand about if we knew what $e^{x_0}$ is).\n",
        "\n",
        "For this remainder term, the $n$th derivative of $e^{-x}$ is $(-1)^ne^{-x}$, and since our target $x=30$ is positive, we know $\\xi \\ge 0$ and hence $e^{-\\xi} \\le 1$, so we can bound this derivative term by $1$ (in absolute value).  We also need to include the coefficient $1/n!$ and the polynomial term $(x-x_0)^n$."
      ]
    },
    {
      "cell_type": "code",
      "metadata": {
        "id": "i-2mgqeZsyR3",
        "colab_type": "code",
        "colab": {
          "base_uri": "https://localhost:8080/",
          "height": 272
        },
        "outputId": "ef89ecad-f275-405c-bdd5-c505080e0e63"
      },
      "source": [
        "X   = -30\n",
        "\n",
        "# Taylor's remainder theorem says that the remainder term at the (n-1) step is the nth Taylor series term but evaluated at some \\xi\n",
        "Rem = lambda n : abs( X**n / math.factorial(n) )\n",
        "for n in range(15):\n",
        "  print( Rem(n) )\n",
        "  # When n is large enough, eventually this sequence will start to decrease"
      ],
      "execution_count": 79,
      "outputs": [
        {
          "output_type": "stream",
          "text": [
            "1.0\n",
            "30.0\n",
            "450.0\n",
            "4500.0\n",
            "33750.0\n",
            "202500.0\n",
            "1012500.0\n",
            "4339285.714285715\n",
            "16272321.42857143\n",
            "54241071.428571425\n",
            "162723214.2857143\n",
            "443790584.41558444\n",
            "1109476461.038961\n",
            "2560330294.7052946\n",
            "5486422060.082774\n"
          ],
          "name": "stdout"
        }
      ]
    },
    {
      "cell_type": "markdown",
      "metadata": {
        "id": "IZDdLHB2580s",
        "colab_type": "text"
      },
      "source": [
        "So if we want 14 digits, let's calculate a bound on the number of Taylor series we need:"
      ]
    },
    {
      "cell_type": "code",
      "metadata": {
        "id": "46WrYmBXtlHZ",
        "colab_type": "code",
        "colab": {
          "base_uri": "https://localhost:8080/",
          "height": 34
        },
        "outputId": "9a6247a5-702d-4693-f462-cf3e53187601"
      },
      "source": [
        "tol = 1.0e-14\n",
        "n = 0\n",
        "while Rem(n) > tol and n < 1e8 : # this last check is to prevent infinite loops, which are a possibility due to bugs\n",
        "  n += 1\n",
        "N = n-1\n",
        "print( \"We need at least\", N, \"terms, since Rem(n+1) is %.2e\" % Rem(N+1) )"
      ],
      "execution_count": 80,
      "outputs": [
        {
          "output_type": "stream",
          "text": [
            "We need at least 106 terms, since Rem(n+1) is 9.19e-15\n"
          ],
          "name": "stdout"
        }
      ]
    },
    {
      "cell_type": "markdown",
      "metadata": {
        "id": "iUv1tXQp6DI1",
        "colab_type": "text"
      },
      "source": [
        "Now, let's sum the Taylor series. We should have an error of 1e-14, right?"
      ]
    },
    {
      "cell_type": "code",
      "metadata": {
        "id": "m9bs9oT5vSU0",
        "colab_type": "code",
        "colab": {
          "base_uri": "https://localhost:8080/",
          "height": 357
        },
        "outputId": "2353cac6-088e-4615-d66b-085f10037a19"
      },
      "source": [
        "e = 0.\n",
        "for n in range(N+1):\n",
        "  e += X**n / math.factorial(n)\n",
        "  if ( not (n % 10 ) ) or ( n > N-10 ):  # save some output...\n",
        "    print(\"Iteration %3d\"% n, \" estimate is %29.15f\"% e, \"and error is %9.3e\" % abs(e - math.exp(X)) )"
      ],
      "execution_count": 90,
      "outputs": [
        {
          "output_type": "stream",
          "text": [
            "Iteration   0  estimate is             1.000000000000000 and error is 1.000e+00\n",
            "Iteration  10  estimate is     121254849.571428596973419 and error is 1.213e+08\n",
            "Iteration  20  estimate is   85291712210.032180786132812 and error is 8.529e+10\n",
            "Iteration  30  estimate is  384842612535.907775878906250 and error is 3.848e+11\n",
            "Iteration  40  estimate is   63336540117.266479492187500 and error is 6.334e+10\n",
            "Iteration  50  estimate is     878229229.277898311614990 and error is 8.782e+08\n",
            "Iteration  60  estimate is       1685584.300283375196159 and error is 1.686e+06\n",
            "Iteration  70  estimate is           622.524572911353516 and error is 6.225e+02\n",
            "Iteration  80  estimate is             0.055867710574729 and error is 5.587e-02\n",
            "Iteration  90  estimate is            -0.000084070677839 and error is 8.407e-05\n",
            "Iteration  97  estimate is            -0.000085530630269 and error is 8.553e-05\n",
            "Iteration  98  estimate is            -0.000085530022814 and error is 8.553e-05\n",
            "Iteration  99  estimate is            -0.000085530206891 and error is 8.553e-05\n",
            "Iteration 100  estimate is            -0.000085530151668 and error is 8.553e-05\n",
            "Iteration 101  estimate is            -0.000085530168071 and error is 8.553e-05\n",
            "Iteration 102  estimate is            -0.000085530163247 and error is 8.553e-05\n",
            "Iteration 103  estimate is            -0.000085530164652 and error is 8.553e-05\n",
            "Iteration 104  estimate is            -0.000085530164246 and error is 8.553e-05\n",
            "Iteration 105  estimate is            -0.000085530164362 and error is 8.553e-05\n",
            "Iteration 106  estimate is            -0.000085530164330 and error is 8.553e-05\n"
          ],
          "name": "stdout"
        }
      ]
    },
    {
      "cell_type": "markdown",
      "metadata": {
        "id": "_9_TYrmy6IRI",
        "colab_type": "text"
      },
      "source": [
        "... but our error is in fact much worse. What went wrong?  Our estimate of the error was due to our mathematical approximation of the exponential, but we didn't include numerical error due to the summation.  We are adding and subtracting a lot of numbers of similar sizes, so we loose precision."
      ]
    },
    {
      "cell_type": "markdown",
      "metadata": {
        "id": "sLrv54ATy0IW",
        "colab_type": "text"
      },
      "source": [
        "Attempted fix #1: use better summation strategies.  Unfortunately, we'll see that this doesn't quite fix it for us.\n",
        "- Fix 1a: use Python's builtin `fsum`\n",
        "- Fix 1b: use [Kahan summation](https://en.wikipedia.org/wiki/Kahan_summation_algorithm), which is a trick that effectively let's us work with twice as many digits, or use another good summing algorithm. \n",
        "\n",
        "---\n",
        "\n"
      ]
    },
    {
      "cell_type": "code",
      "metadata": {
        "id": "fVEh4BM61LXD",
        "colab_type": "code",
        "colab": {
          "base_uri": "https://localhost:8080/",
          "height": 38
        },
        "outputId": "e172bf0b-743f-4957-b43c-801f62600a9b"
      },
      "source": [
        "# Fix 1a.\n",
        "# See https://www.math.ubc.ca/~pwalls/math-python/python/sequences/\n",
        "series = [ X**n / math.factorial(n) for n in range(N+1) ]  # \"lazy\", or \"iterable\". This is a list comprehension\n",
        "e = math.fsum( series )\n",
        "abs( e - math.exp(X) )"
      ],
      "execution_count": 85,
      "outputs": [
        {
          "output_type": "execute_result",
          "data": {
            "image/png": "[encoded data removed]",
            "text/latex": "$$6.843294459828891e-05$$",
            "text/plain": [
              "6.843294459828891e-05"
            ]
          },
          "metadata": {
            "tags": []
          },
          "execution_count": 85
        }
      ]
    },
    {
      "cell_type": "code",
      "metadata": {
        "id": "tEAP7T1swwd_",
        "colab_type": "code",
        "colab": {
          "base_uri": "https://localhost:8080/",
          "height": 85
        },
        "outputId": "f7841ab1-8717-4dd9-eb14-fd3e698a1e17"
      },
      "source": [
        "# Kahan Summation, though doesn't work (Python might be optimizing?)\n",
        "e = 0.\n",
        "accum = 0.\n",
        "for n in range(N+1):\n",
        "  a = X**n / math.factorial(n) - accum\n",
        "  b = e + a\n",
        "  accum = (b-e) -a\n",
        "  e = b\n",
        "  if n > N-4:\n",
        "    print(\"Iteration %2d\"% n, \" estimate is %21.15f\"% e, \"and error is %9.3e\" % abs(e - math.exp(X)) )"
      ],
      "execution_count": 91,
      "outputs": [
        {
          "output_type": "stream",
          "text": [
            "Iteration 103  estimate is    -0.000085530164652 and error is 8.553e-05\n",
            "Iteration 104  estimate is    -0.000085530164246 and error is 8.553e-05\n",
            "Iteration 105  estimate is    -0.000085530164362 and error is 8.553e-05\n",
            "Iteration 106  estimate is    -0.000085530164330 and error is 8.553e-05\n"
          ],
          "name": "stdout"
        }
      ]
    },
    {
      "cell_type": "markdown",
      "metadata": {
        "id": "oyti5Jrf18Tt",
        "colab_type": "text"
      },
      "source": [
        "Attempted fix #2: use some math.\n",
        "- Fix 2a: split into positive and negative terms, add those separately, then combine at the end. Good idea, but again, doesn't quite fix it.\n",
        "- Fix 2b: rewrite $e^{-x} = \\frac{1}{e^x} = \\frac{1}{1+x+x^2/2+\\ldots}$.  Finally, we have a good solution!"
      ]
    },
    {
      "cell_type": "code",
      "metadata": {
        "id": "YCJ1vHKPzo8u",
        "colab_type": "code",
        "colab": {
          "base_uri": "https://localhost:8080/",
          "height": 37
        },
        "outputId": "7fbaeb34-43fe-47d0-fac2-cd3f7a7f73f2"
      },
      "source": [
        "# Fix 2a\n",
        "seriesEven = [ X**n / math.factorial(n) for n in range(0,N+1,2) ] \n",
        "seriesOdd = [ X**n / math.factorial(n) for n in range(1,N+1,2) ] \n",
        "e = math.fsum( seriesEven ) + math.fsum( seriesOdd )\n",
        "abs( e - math.exp(X) )"
      ],
      "execution_count": 92,
      "outputs": [
        {
          "output_type": "execute_result",
          "data": {
            "image/png": "[encoded data removed]",
            "text/latex": "$$0.0009765625000935762$$",
            "text/plain": [
              "0.0009765625000935762"
            ]
          },
          "metadata": {
            "tags": []
          },
          "execution_count": 92
        }
      ]
    },
    {
      "cell_type": "code",
      "metadata": {
        "id": "veG534Ry2eZL",
        "colab_type": "code",
        "colab": {
          "base_uri": "https://localhost:8080/",
          "height": 38
        },
        "outputId": "4ff8a409-f014-4a19-fc20-477314310390"
      },
      "source": [
        "# Fix 2b\n",
        "series = [ abs(X)**n / math.factorial(n) for n in range(N+1) ] \n",
        "e = 1./math.fsum( series )\n",
        "abs( e - math.exp(X) )"
      ],
      "execution_count": 93,
      "outputs": [
        {
          "output_type": "execute_result",
          "data": {
            "image/png": "[encoded data removed]",
            "text/latex": "$$1.262177448353619e-29$$",
            "text/plain": [
              "1.262177448353619e-29"
            ]
          },
          "metadata": {
            "tags": []
          },
          "execution_count": 93
        }
      ]
    },
    {
      "cell_type": "code",
      "metadata": {
        "id": "fTHg9-fB2s_E",
        "colab_type": "code",
        "colab": {}
      },
      "source": [
        ""
      ],
      "execution_count": null,
      "outputs": []
    }
  ]
}