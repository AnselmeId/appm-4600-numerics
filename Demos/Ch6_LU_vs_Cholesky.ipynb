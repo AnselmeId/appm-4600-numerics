{
  "nbformat": 4,
  "nbformat_minor": 0,
  "metadata": {
    "colab": {
      "name": "Ch6_LU_vs_Cholesky.ipynb",
      "provenance": [],
      "authorship_tag": "ABX9TyNYGSssE5qvy4e+lHe8tUDn",
      "include_colab_link": true
    },
    "kernelspec": {
      "name": "python3",
      "display_name": "Python 3"
    }
  },
  "cells": [
    {
      "cell_type": "markdown",
      "metadata": {
        "id": "view-in-github",
        "colab_type": "text"
      },
      "source": [
        "<a href=\"https://colab.research.google.com/github/stephenbeckr/numerical-analysis-class/blob/master/Demos/Ch6_LU_vs_Cholesky.ipynb\" target=\"_parent\"><img src=\"https://colab.research.google.com/assets/colab-badge.svg\" alt=\"Open In Colab\"/></a>"
      ]
    },
    {
      "cell_type": "markdown",
      "metadata": {
        "id": "t0ZJ6TdpTCbf"
      },
      "source": [
        "# LU vs Cholesky factorization\n",
        "\n",
        "If a matrix $A$ is positive definite, then we can do an LU factorization, but we should do Cholesky since it's a bit faster (about 1.7x faster).\n",
        "\n",
        "Overall, finding the Cholesky factorization of a positive definite matrix is faster than finding the LU factorization of a general matrix\n",
        "\n",
        "Cholesky decompositions do not need to pivot. The relative speed gains over LU factorization should probably be larger on a computer with many cores (colab just has 2 cores, so we don't see too much effect)"
      ]
    },
    {
      "cell_type": "code",
      "metadata": {
        "id": "4HAKh_-hKXxx"
      },
      "source": [
        "import numpy as np\n",
        "from scipy.linalg import *\n",
        "from numpy.random import default_rng\n",
        "from time import perf_counter\n",
        "import matplotlib.pyplot as plt\n",
        "\n",
        "# Helper routine to print out matrices nicely\n",
        "def matprint(mat, fmt=\"g\",roundToDecimal=3):\n",
        "  # from https://gist.github.com/braingineer/d801735dac07ff3ac4d746e1f218ab75\n",
        "  # Modified to round\n",
        "  if roundToDecimal is not None:\n",
        "    mat = np.round(mat,decimals=roundToDecimal)\n",
        "  col_maxes = [max([len((\"{:\"+fmt+\"}\").format(x)) for x in col]) for col in mat.T]\n",
        "  for x in mat:\n",
        "    for i, y in enumerate(x):\n",
        "      print((\"{:\"+str(col_maxes[i])+fmt+\"}\").format(y), end=\"  \")\n",
        "    print(\"\")"
      ],
      "execution_count": 45,
      "outputs": []
    },
    {
      "cell_type": "markdown",
      "metadata": {
        "id": "k2Bu3clTTW8-"
      },
      "source": [
        "## Let's see how to use Scipy's LU factorization routines"
      ]
    },
    {
      "cell_type": "code",
      "metadata": {
        "colab": {
          "base_uri": "https://localhost:8080/"
        },
        "id": "HLF2eRu6Pepq",
        "outputId": "902a1183-41b0-4ac5-f683-ec883dcb28c7"
      },
      "source": [
        "n = 6\n",
        "rng   = default_rng(123)\n",
        "A = rng.standard_normal((int(n),int(n)))\n",
        "\n",
        "LU,piv = lu_factor(A,check_finite=False)\n",
        "print('LU is')\n",
        "matprint(LU)\n",
        "print('pivot array (weird format!) is')\n",
        "print(piv)"
      ],
      "execution_count": 53,
      "outputs": [
        {
          "output_type": "stream",
          "text": [
            "LU is\n",
            " 1.192  -0.671       1   0.136   1.532   -0.66  \n",
            "-0.303  -1.434    1.53  -2.131   0.095  -0.036  \n",
            "-0.262  -0.113  -1.773   0.622   1.953    0.95  \n",
            " -0.83   0.645  -0.638   2.078   3.377   0.659  \n",
            "-0.534  -0.128  -0.233  -0.182   1.996  -1.542  \n",
            " 0.633  -0.195  -0.534   0.436  -0.495  -0.127  \n",
            "pivot array (weird format!) is\n",
            "[2 5 3 3 5 5]\n"
          ],
          "name": "stdout"
        }
      ]
    },
    {
      "cell_type": "markdown",
      "metadata": {
        "id": "yrm5wcDrVF4I"
      },
      "source": [
        "From the documentation of LAPACK's `dgetrf`:\n",
        "\n",
        "PIV is INTEGER array, dimension (min(M,N))\n",
        "The pivot indices; for $1 \\le i \\le \\min(M,N)$, row $i$ of the\n",
        "matrix was interchanged with row IPIV($i$)."
      ]
    },
    {
      "cell_type": "markdown",
      "metadata": {
        "id": "gIX0OCyIVZQK"
      },
      "source": [
        "And call the other LU function, `lu`"
      ]
    },
    {
      "cell_type": "code",
      "metadata": {
        "id": "qFGwqcVTVVLK"
      },
      "source": [
        "P,L,U = lu(A,check_finite=False)\n",
        "print('P^T is')\n",
        "matprint(P.T)\n",
        "print('L is')\n",
        "matprint(L)\n",
        "print('U is')\n",
        "matprint(U)"
      ],
      "execution_count": null,
      "outputs": []
    },
    {
      "cell_type": "markdown",
      "metadata": {
        "id": "-T36f34lVkHX"
      },
      "source": [
        "## Now let's do some timing"
      ]
    },
    {
      "cell_type": "code",
      "metadata": {
        "id": "Kwezu8CqKxB2"
      },
      "source": [
        "rng   = default_rng()\n",
        "nList = np.round(np.logspace(2.5,3.6,12))\n",
        "timeLU   = []\n",
        "timeLU_v2   = []\n",
        "timeChol = []\n",
        "\n",
        "for n in nList:\n",
        "  A = rng.standard_normal((int(n),int(n)))\n",
        "\n",
        "  # both lu and lu_factor exist\n",
        "  tStart = perf_counter()\n",
        "  LU,pivots = lu_factor(A,check_finite=False)\n",
        "  timeLU.append( perf_counter() - tStart )\n",
        "\n",
        "  tStart = perf_counter()\n",
        "  P,L,U = lu(A,check_finite=False)\n",
        "  timeLU_v2.append( perf_counter() - tStart )\n",
        "\n",
        "  # make it positive semi-definite, and (with probability 1) positive definite\n",
        "  A = A@A.T  \n",
        "\n",
        "  tStart = perf_counter()\n",
        "  L = cholesky(A,check_finite=False)\n",
        "  timeChol.append( perf_counter() - tStart )\n"
      ],
      "execution_count": 54,
      "outputs": []
    },
    {
      "cell_type": "code",
      "metadata": {
        "colab": {
          "base_uri": "https://localhost:8080/",
          "height": 269
        },
        "id": "e62vyGfDK3BR",
        "outputId": "ed7f21ad-ec74-4812-f1b2-8d1f58c6d5fb"
      },
      "source": [
        "plt.loglog( nList, timeLU, label='LU')\n",
        "plt.loglog( nList, timeLU_v2, label='LU_v2')\n",
        "plt.loglog( nList, timeChol, label='Cholesky')\n",
        "plt.legend()\n",
        "plt.show()"
      ],
      "execution_count": 55,
      "outputs": [
        {
          "output_type": "display_data",
          "data": {
            "image/png": "[encoded data removed]",
            "text/plain": [
              "<Figure size 432x288 with 1 Axes>"
            ]
          },
          "metadata": {
            "tags": [],
            "needs_background": "light"
          }
        }
      ]
    },
    {
      "cell_type": "markdown",
      "metadata": {
        "id": "D-30GRKoaxRX"
      },
      "source": [
        "On my 4-core laptop, not only are things faster, but there's more difference between the two different types of LU. My results are:\n",
        "\n",
        "```\n",
        "Time for Cholesky at largest size is 0.27839755200011496\n",
        "Time for LU at largest size is 0.5116191430001891\n",
        "Time for LU v2 at largest size is 0.8564363280001999\n",
        "Ratio 1.8377285982743763\n",
        "```\n",
        "\n"
      ]
    },
    {
      "cell_type": "code",
      "metadata": {
        "colab": {
          "base_uri": "https://localhost:8080/"
        },
        "id": "2XPVYLGkMzFG",
        "outputId": "58eaab82-33e5-43c7-8f3c-9a8b99a440bf"
      },
      "source": [
        "print(\"Time for Cholesky at largest size is\", timeChol[-1] )\n",
        "print(\"Time for LU at largest size is\", timeLU[-1] )\n",
        "print(\"Time for LU v2 at largest size is\", timeLU_v2[-1] )\n",
        "print(\"Ratio\", timeLU[-1]/timeChol[-1] )"
      ],
      "execution_count": 56,
      "outputs": [
        {
          "output_type": "stream",
          "text": [
            "Time for Cholesky at largest size is 0.8303866559999733\n",
            "Time for LU at largest size is 1.52171751700007\n",
            "Time for LU v2 at largest size is 1.6433467480001127\n",
            "Ratio 1.8325409085091549\n"
          ],
          "name": "stdout"
        }
      ]
    },
    {
      "cell_type": "code",
      "metadata": {
        "colab": {
          "base_uri": "https://localhost:8080/",
          "height": 271
        },
        "id": "PKi3dmd2K56r",
        "outputId": "06515ed9-77a0-46bb-d240-2a01a8ccd192"
      },
      "source": [
        "ref = 1e-8*nList**3\n",
        "plt.semilogx( nList, timeLU/ref, label='LU')\n",
        "plt.semilogx( nList, timeLU_v2/ref, label='LU_v2')\n",
        "plt.semilogx( nList, timeChol/ref, label='Cholesky')\n",
        "\n",
        "plt.legend()\n",
        "plt.show()"
      ],
      "execution_count": 57,
      "outputs": [
        {
          "output_type": "display_data",
          "data": {
            "image/png": "[encoded data removed]",
            "text/plain": [
              "<Figure size 432x288 with 1 Axes>"
            ]
          },
          "metadata": {
            "tags": [],
            "needs_background": "light"
          }
        }
      ]
    },
    {
      "cell_type": "code",
      "metadata": {
        "id": "0hm3cB-9MgwY"
      },
      "source": [
        ""
      ],
      "execution_count": null,
      "outputs": []
    }
  ]
}